{
  "nbformat": 4,
  "nbformat_minor": 0,
  "metadata": {
    "colab": {
      "name": "Retro-Reel-Recommender.ipynb",
      "provenance": [],
      "collapsed_sections": [],
      "authorship_tag": "ABX9TyPz0S7zZnBwFkF7fYTa/8+l",
      "include_colab_link": true
    },
    "kernelspec": {
      "name": "python3",
      "display_name": "Python 3"
    }
  },
  "cells": [
    {
      "cell_type": "markdown",
      "metadata": {
        "id": "view-in-github",
        "colab_type": "text"
      },
      "source": [
        "<a href=\"https://colab.research.google.com/github/Thomas-George-T/Retro-Reel-Recommender/blob/main/Retro_Reel_Recommender.ipynb\" target=\"_parent\"><img src=\"https://colab.research.google.com/assets/colab-badge.svg\" alt=\"Open In Colab\"/></a>"
      ]
    },
    {
      "cell_type": "markdown",
      "metadata": {
        "id": "h8D6Z2-3WloV"
      },
      "source": [
        "# Retrol Reel Recommender"
      ]
    },
    {
      "cell_type": "markdown",
      "metadata": {
        "id": "frQ2ccF2W2xX"
      },
      "source": [
        "## Data Acquisition"
      ]
    },
    {
      "cell_type": "code",
      "metadata": {
        "id": "UrlKeMAkJX7Z"
      },
      "source": [
        "import pandas as pd"
      ],
      "execution_count": 120,
      "outputs": []
    },
    {
      "cell_type": "code",
      "metadata": {
        "colab": {
          "base_uri": "https://localhost:8080/"
        },
        "id": "uRTxs_YxXBVx",
        "outputId": "418bb828-a61f-4029-9134-b6416d60917a"
      },
      "source": [
        "!wget -q -O 'retro.json' https://prosona.b-cdn.net/Movies/catalog-v2.txt\r\n",
        "print(\"Data Downloaded!\")"
      ],
      "execution_count": 121,
      "outputs": [
        {
          "output_type": "stream",
          "text": [
            "Data Downloaded!\n"
          ],
          "name": "stdout"
        }
      ]
    },
    {
      "cell_type": "code",
      "metadata": {
        "colab": {
          "base_uri": "https://localhost:8080/",
          "height": 204
        },
        "id": "U_Pyhaz3XPnr",
        "outputId": "87ee0d0c-3346-431f-c174-7d995e350f4c"
      },
      "source": [
        "retro_raw = pd.read_json('retro.json')\r\n",
        "retro_raw.head()"
      ],
      "execution_count": 122,
      "outputs": [
        {
          "output_type": "execute_result",
          "data": {
            "text/html": [
              "<div>\n",
              "<style scoped>\n",
              "    .dataframe tbody tr th:only-of-type {\n",
              "        vertical-align: middle;\n",
              "    }\n",
              "\n",
              "    .dataframe tbody tr th {\n",
              "        vertical-align: top;\n",
              "    }\n",
              "\n",
              "    .dataframe thead th {\n",
              "        text-align: right;\n",
              "    }\n",
              "</style>\n",
              "<table border=\"1\" class=\"dataframe\">\n",
              "  <thead>\n",
              "    <tr style=\"text-align: right;\">\n",
              "      <th></th>\n",
              "      <th>Movies</th>\n",
              "    </tr>\n",
              "  </thead>\n",
              "  <tbody>\n",
              "    <tr>\n",
              "      <th>0</th>\n",
              "      <td>{'ID': 'b70eec12b79148dfbc97ac3b69ca49bf', 'Ti...</td>\n",
              "    </tr>\n",
              "    <tr>\n",
              "      <th>1</th>\n",
              "      <td>{'ID': '1950e4a11304438dbfd4792a908fc76f', 'Ti...</td>\n",
              "    </tr>\n",
              "    <tr>\n",
              "      <th>2</th>\n",
              "      <td>{'ID': '37d8cae8d87f4dbc9cf8967454537afb', 'Ti...</td>\n",
              "    </tr>\n",
              "    <tr>\n",
              "      <th>3</th>\n",
              "      <td>{'ID': 'b99dd03c00cc4fb9b2d4ad26082de498', 'Ti...</td>\n",
              "    </tr>\n",
              "    <tr>\n",
              "      <th>4</th>\n",
              "      <td>{'ID': '5566ce75b5954f3dad323c2f154856a3', 'Ti...</td>\n",
              "    </tr>\n",
              "  </tbody>\n",
              "</table>\n",
              "</div>"
            ],
            "text/plain": [
              "                                              Movies\n",
              "0  {'ID': 'b70eec12b79148dfbc97ac3b69ca49bf', 'Ti...\n",
              "1  {'ID': '1950e4a11304438dbfd4792a908fc76f', 'Ti...\n",
              "2  {'ID': '37d8cae8d87f4dbc9cf8967454537afb', 'Ti...\n",
              "3  {'ID': 'b99dd03c00cc4fb9b2d4ad26082de498', 'Ti...\n",
              "4  {'ID': '5566ce75b5954f3dad323c2f154856a3', 'Ti..."
            ]
          },
          "metadata": {
            "tags": []
          },
          "execution_count": 122
        }
      ]
    },
    {
      "cell_type": "markdown",
      "metadata": {
        "id": "aFYCfKvlXpZS"
      },
      "source": [
        "## Data Preprocessing"
      ]
    },
    {
      "cell_type": "code",
      "metadata": {
        "colab": {
          "base_uri": "https://localhost:8080/",
          "height": 615
        },
        "id": "kafF3mRJXgh3",
        "outputId": "34e6215c-e98c-470a-d7bc-c588119682c7"
      },
      "source": [
        "retro_raw_flatten = pd.json_normalize(retro_raw['Movies'])\r\n",
        "retro_raw_flatten.head()"
      ],
      "execution_count": 123,
      "outputs": [
        {
          "output_type": "execute_result",
          "data": {
            "text/html": [
              "<div>\n",
              "<style scoped>\n",
              "    .dataframe tbody tr th:only-of-type {\n",
              "        vertical-align: middle;\n",
              "    }\n",
              "\n",
              "    .dataframe tbody tr th {\n",
              "        vertical-align: top;\n",
              "    }\n",
              "\n",
              "    .dataframe thead th {\n",
              "        text-align: right;\n",
              "    }\n",
              "</style>\n",
              "<table border=\"1\" class=\"dataframe\">\n",
              "  <thead>\n",
              "    <tr style=\"text-align: right;\">\n",
              "      <th></th>\n",
              "      <th>ID</th>\n",
              "      <th>Title</th>\n",
              "      <th>ReleaseYear</th>\n",
              "      <th>Genres</th>\n",
              "      <th>Synopsis</th>\n",
              "      <th>Directors</th>\n",
              "      <th>Cast</th>\n",
              "      <th>Trivia</th>\n",
              "      <th>Keywords</th>\n",
              "      <th>TrailerLink</th>\n",
              "      <th>MovieLink</th>\n",
              "      <th>HorizontalPosterLink</th>\n",
              "      <th>VerticalPosterLink</th>\n",
              "      <th>SnapshotLink</th>\n",
              "      <th>SubtitlesLink</th>\n",
              "      <th>Offset</th>\n",
              "    </tr>\n",
              "  </thead>\n",
              "  <tbody>\n",
              "    <tr>\n",
              "      <th>0</th>\n",
              "      <td>b70eec12b79148dfbc97ac3b69ca49bf</td>\n",
              "      <td>Angel On My Shoulder</td>\n",
              "      <td>1946</td>\n",
              "      <td>[Adventure, Comedy, Fantasy]</td>\n",
              "      <td>The Devil arranges for a deceased gangster to ...</td>\n",
              "      <td>[Archie Mayo]</td>\n",
              "      <td>[Paul Muni, Anne Baxter, Claude Rains]</td>\n",
              "      <td>[Director Archie Mayo clashed repeatedly with ...</td>\n",
              "      <td>Devil Soul angel on my shoulder 1946 adventure...</td>\n",
              "      <td>https://prosona.b-cdn.net/Movies/Angel%20On%20...</td>\n",
              "      <td>https://prosona.b-cdn.net/Movies/Angel%20On%20...</td>\n",
              "      <td>https://prosona.b-cdn.net/Movies/Angel%20On%20...</td>\n",
              "      <td>https://prosona.b-cdn.net/Movies/Angel%20On%20...</td>\n",
              "      <td>https://prosona.b-cdn.net/Movies/Angel%20On%20...</td>\n",
              "      <td></td>\n",
              "      <td>0.0</td>\n",
              "    </tr>\n",
              "    <tr>\n",
              "      <th>1</th>\n",
              "      <td>1950e4a11304438dbfd4792a908fc76f</td>\n",
              "      <td>Flirting with Fate</td>\n",
              "      <td>1916</td>\n",
              "      <td>[Adventure, Comedy]</td>\n",
              "      <td>In the midst of an emotional depression, a man...</td>\n",
              "      <td>[Christy Cabanne]</td>\n",
              "      <td>[Douglas Fairbanks, Jewel Carmen, Howard Gaye]</td>\n",
              "      <td>[]</td>\n",
              "      <td>hitman assasin killer escape flirting with fat...</td>\n",
              "      <td>https://prosona.b-cdn.net/Movies/Flirting%20Wi...</td>\n",
              "      <td>https://prosona.b-cdn.net/Movies/Flirting%20Wi...</td>\n",
              "      <td>https://prosona.b-cdn.net/Movies/Flirting%20Wi...</td>\n",
              "      <td>https://prosona.b-cdn.net/Movies/Flirting%20Wi...</td>\n",
              "      <td>https://prosona.b-cdn.net/Movies/Flirting%20Wi...</td>\n",
              "      <td></td>\n",
              "      <td>0.0</td>\n",
              "    </tr>\n",
              "    <tr>\n",
              "      <th>2</th>\n",
              "      <td>37d8cae8d87f4dbc9cf8967454537afb</td>\n",
              "      <td>Detour</td>\n",
              "      <td>1945</td>\n",
              "      <td>[Crime, Drama, Noir]</td>\n",
              "      <td>Chance events trap hitch-hiker Al Roberts in a...</td>\n",
              "      <td>[Edgar G. Ulmer]</td>\n",
              "      <td>[Tom Neal, Ann Savage, Claudia Drake]</td>\n",
              "      <td>[The budget PRC gave director Edgar G. Ulmer f...</td>\n",
              "      <td>detour 1945 crime drama noir edgar g. ulmer to...</td>\n",
              "      <td>https://prosona.b-cdn.net/Movies/Detour%20-%20...</td>\n",
              "      <td>https://prosona.b-cdn.net/Movies/Detour%20-%20...</td>\n",
              "      <td>https://prosona.b-cdn.net/Movies/Detour%20-%20...</td>\n",
              "      <td>https://prosona.b-cdn.net/Movies/Detour%20-%20...</td>\n",
              "      <td>https://prosona.b-cdn.net/Movies/Detour%20-%20...</td>\n",
              "      <td>https://prosona.b-cdn.net/Movies/Detour%20-%20...</td>\n",
              "      <td>0.0</td>\n",
              "    </tr>\n",
              "    <tr>\n",
              "      <th>3</th>\n",
              "      <td>b99dd03c00cc4fb9b2d4ad26082de498</td>\n",
              "      <td>The Big Trees</td>\n",
              "      <td>1952</td>\n",
              "      <td>[Action, Romance, Western]</td>\n",
              "      <td>A Quaker colony tries to save the giant sequoi...</td>\n",
              "      <td>[Felix E. Feist]</td>\n",
              "      <td>[Kirk Douglas, Eve Miller, Patrice Wymore]</td>\n",
              "      <td>[According to Kirk Douglas in his autobiograph...</td>\n",
              "      <td>activism sequoia the big trees 1952 action rom...</td>\n",
              "      <td>https://prosona.b-cdn.net/Movies/The%20Big%20T...</td>\n",
              "      <td>https://prosona.b-cdn.net/Movies/The%20Big%20T...</td>\n",
              "      <td>https://prosona.b-cdn.net/Movies/The%20Big%20T...</td>\n",
              "      <td>https://prosona.b-cdn.net/Movies/The%20Big%20T...</td>\n",
              "      <td>https://prosona.b-cdn.net/Movies/The%20Big%20T...</td>\n",
              "      <td></td>\n",
              "      <td>0.0</td>\n",
              "    </tr>\n",
              "    <tr>\n",
              "      <th>4</th>\n",
              "      <td>5566ce75b5954f3dad323c2f154856a3</td>\n",
              "      <td>The Jungle Book</td>\n",
              "      <td>1942</td>\n",
              "      <td>[Action, Adventure]</td>\n",
              "      <td>\\r\\nA boy raised by wild animals tries to adap...</td>\n",
              "      <td>[Zoltan Korda]</td>\n",
              "      <td>[Sabu, Joseph Calleia, John Qualen]</td>\n",
              "      <td>[Rudyard Kipling's two Jungle Book anthologies...</td>\n",
              "      <td>rudyard kipling wolves family the jungle book ...</td>\n",
              "      <td>https://prosona.b-cdn.net/Movies/Jungle%20Book...</td>\n",
              "      <td>https://prosona.b-cdn.net/Movies/Jungle%20Book...</td>\n",
              "      <td>https://prosona.b-cdn.net/Movies/Jungle%20Book...</td>\n",
              "      <td>https://prosona.b-cdn.net/Movies/Jungle%20Book...</td>\n",
              "      <td>https://prosona.b-cdn.net/Movies/Jungle%20Book...</td>\n",
              "      <td></td>\n",
              "      <td>0.0</td>\n",
              "    </tr>\n",
              "  </tbody>\n",
              "</table>\n",
              "</div>"
            ],
            "text/plain": [
              "                                 ID  ... Offset\n",
              "0  b70eec12b79148dfbc97ac3b69ca49bf  ...    0.0\n",
              "1  1950e4a11304438dbfd4792a908fc76f  ...    0.0\n",
              "2  37d8cae8d87f4dbc9cf8967454537afb  ...    0.0\n",
              "3  b99dd03c00cc4fb9b2d4ad26082de498  ...    0.0\n",
              "4  5566ce75b5954f3dad323c2f154856a3  ...    0.0\n",
              "\n",
              "[5 rows x 16 columns]"
            ]
          },
          "metadata": {
            "tags": []
          },
          "execution_count": 123
        }
      ]
    },
    {
      "cell_type": "markdown",
      "metadata": {
        "id": "QOuQtwFGPVSi"
      },
      "source": [
        "## Feature Selection"
      ]
    },
    {
      "cell_type": "code",
      "metadata": {
        "colab": {
          "base_uri": "https://localhost:8080/",
          "height": 204
        },
        "id": "Rqnv51qjPIMi",
        "outputId": "e3e14b52-ed09-4654-fb4d-3c42877fb2ec"
      },
      "source": [
        "rr = retro_raw_flatten[['ID','Title','Keywords']]\r\n",
        "rr.head()"
      ],
      "execution_count": 124,
      "outputs": [
        {
          "output_type": "execute_result",
          "data": {
            "text/html": [
              "<div>\n",
              "<style scoped>\n",
              "    .dataframe tbody tr th:only-of-type {\n",
              "        vertical-align: middle;\n",
              "    }\n",
              "\n",
              "    .dataframe tbody tr th {\n",
              "        vertical-align: top;\n",
              "    }\n",
              "\n",
              "    .dataframe thead th {\n",
              "        text-align: right;\n",
              "    }\n",
              "</style>\n",
              "<table border=\"1\" class=\"dataframe\">\n",
              "  <thead>\n",
              "    <tr style=\"text-align: right;\">\n",
              "      <th></th>\n",
              "      <th>ID</th>\n",
              "      <th>Title</th>\n",
              "      <th>Keywords</th>\n",
              "    </tr>\n",
              "  </thead>\n",
              "  <tbody>\n",
              "    <tr>\n",
              "      <th>0</th>\n",
              "      <td>b70eec12b79148dfbc97ac3b69ca49bf</td>\n",
              "      <td>Angel On My Shoulder</td>\n",
              "      <td>Devil Soul angel on my shoulder 1946 adventure...</td>\n",
              "    </tr>\n",
              "    <tr>\n",
              "      <th>1</th>\n",
              "      <td>1950e4a11304438dbfd4792a908fc76f</td>\n",
              "      <td>Flirting with Fate</td>\n",
              "      <td>hitman assasin killer escape flirting with fat...</td>\n",
              "    </tr>\n",
              "    <tr>\n",
              "      <th>2</th>\n",
              "      <td>37d8cae8d87f4dbc9cf8967454537afb</td>\n",
              "      <td>Detour</td>\n",
              "      <td>detour 1945 crime drama noir edgar g. ulmer to...</td>\n",
              "    </tr>\n",
              "    <tr>\n",
              "      <th>3</th>\n",
              "      <td>b99dd03c00cc4fb9b2d4ad26082de498</td>\n",
              "      <td>The Big Trees</td>\n",
              "      <td>activism sequoia the big trees 1952 action rom...</td>\n",
              "    </tr>\n",
              "    <tr>\n",
              "      <th>4</th>\n",
              "      <td>5566ce75b5954f3dad323c2f154856a3</td>\n",
              "      <td>The Jungle Book</td>\n",
              "      <td>rudyard kipling wolves family the jungle book ...</td>\n",
              "    </tr>\n",
              "  </tbody>\n",
              "</table>\n",
              "</div>"
            ],
            "text/plain": [
              "                                 ID  ...                                           Keywords\n",
              "0  b70eec12b79148dfbc97ac3b69ca49bf  ...  Devil Soul angel on my shoulder 1946 adventure...\n",
              "1  1950e4a11304438dbfd4792a908fc76f  ...  hitman assasin killer escape flirting with fat...\n",
              "2  37d8cae8d87f4dbc9cf8967454537afb  ...  detour 1945 crime drama noir edgar g. ulmer to...\n",
              "3  b99dd03c00cc4fb9b2d4ad26082de498  ...  activism sequoia the big trees 1952 action rom...\n",
              "4  5566ce75b5954f3dad323c2f154856a3  ...  rudyard kipling wolves family the jungle book ...\n",
              "\n",
              "[5 rows x 3 columns]"
            ]
          },
          "metadata": {
            "tags": []
          },
          "execution_count": 124
        }
      ]
    },
    {
      "cell_type": "markdown",
      "metadata": {
        "id": "x0lPaAa2PJaP"
      },
      "source": [
        "Formatting the Keywords since that is what we will be using to derive our model"
      ]
    },
    {
      "cell_type": "code",
      "metadata": {
        "colab": {
          "base_uri": "https://localhost:8080/",
          "height": 306
        },
        "id": "NvOsTXUtRK-x",
        "outputId": "ed8421b2-7f0b-4587-85d1-e679c60c0868"
      },
      "source": [
        "rr['Keywords'] = rr['Keywords'].str.lower()\r\n",
        "rr.head()"
      ],
      "execution_count": 125,
      "outputs": [
        {
          "output_type": "stream",
          "text": [
            "/usr/local/lib/python3.7/dist-packages/ipykernel_launcher.py:1: SettingWithCopyWarning: \n",
            "A value is trying to be set on a copy of a slice from a DataFrame.\n",
            "Try using .loc[row_indexer,col_indexer] = value instead\n",
            "\n",
            "See the caveats in the documentation: https://pandas.pydata.org/pandas-docs/stable/user_guide/indexing.html#returning-a-view-versus-a-copy\n",
            "  \"\"\"Entry point for launching an IPython kernel.\n"
          ],
          "name": "stderr"
        },
        {
          "output_type": "execute_result",
          "data": {
            "text/html": [
              "<div>\n",
              "<style scoped>\n",
              "    .dataframe tbody tr th:only-of-type {\n",
              "        vertical-align: middle;\n",
              "    }\n",
              "\n",
              "    .dataframe tbody tr th {\n",
              "        vertical-align: top;\n",
              "    }\n",
              "\n",
              "    .dataframe thead th {\n",
              "        text-align: right;\n",
              "    }\n",
              "</style>\n",
              "<table border=\"1\" class=\"dataframe\">\n",
              "  <thead>\n",
              "    <tr style=\"text-align: right;\">\n",
              "      <th></th>\n",
              "      <th>ID</th>\n",
              "      <th>Title</th>\n",
              "      <th>Keywords</th>\n",
              "    </tr>\n",
              "  </thead>\n",
              "  <tbody>\n",
              "    <tr>\n",
              "      <th>0</th>\n",
              "      <td>b70eec12b79148dfbc97ac3b69ca49bf</td>\n",
              "      <td>Angel On My Shoulder</td>\n",
              "      <td>devil soul angel on my shoulder 1946 adventure...</td>\n",
              "    </tr>\n",
              "    <tr>\n",
              "      <th>1</th>\n",
              "      <td>1950e4a11304438dbfd4792a908fc76f</td>\n",
              "      <td>Flirting with Fate</td>\n",
              "      <td>hitman assasin killer escape flirting with fat...</td>\n",
              "    </tr>\n",
              "    <tr>\n",
              "      <th>2</th>\n",
              "      <td>37d8cae8d87f4dbc9cf8967454537afb</td>\n",
              "      <td>Detour</td>\n",
              "      <td>detour 1945 crime drama noir edgar g. ulmer to...</td>\n",
              "    </tr>\n",
              "    <tr>\n",
              "      <th>3</th>\n",
              "      <td>b99dd03c00cc4fb9b2d4ad26082de498</td>\n",
              "      <td>The Big Trees</td>\n",
              "      <td>activism sequoia the big trees 1952 action rom...</td>\n",
              "    </tr>\n",
              "    <tr>\n",
              "      <th>4</th>\n",
              "      <td>5566ce75b5954f3dad323c2f154856a3</td>\n",
              "      <td>The Jungle Book</td>\n",
              "      <td>rudyard kipling wolves family the jungle book ...</td>\n",
              "    </tr>\n",
              "  </tbody>\n",
              "</table>\n",
              "</div>"
            ],
            "text/plain": [
              "                                 ID  ...                                           Keywords\n",
              "0  b70eec12b79148dfbc97ac3b69ca49bf  ...  devil soul angel on my shoulder 1946 adventure...\n",
              "1  1950e4a11304438dbfd4792a908fc76f  ...  hitman assasin killer escape flirting with fat...\n",
              "2  37d8cae8d87f4dbc9cf8967454537afb  ...  detour 1945 crime drama noir edgar g. ulmer to...\n",
              "3  b99dd03c00cc4fb9b2d4ad26082de498  ...  activism sequoia the big trees 1952 action rom...\n",
              "4  5566ce75b5954f3dad323c2f154856a3  ...  rudyard kipling wolves family the jungle book ...\n",
              "\n",
              "[5 rows x 3 columns]"
            ]
          },
          "metadata": {
            "tags": []
          },
          "execution_count": 125
        }
      ]
    },
    {
      "cell_type": "code",
      "metadata": {
        "id": "dec5ZSQGSoZR"
      },
      "source": [
        "from sklearn.feature_extraction.text import CountVectorizer"
      ],
      "execution_count": 126,
      "outputs": []
    },
    {
      "cell_type": "code",
      "metadata": {
        "colab": {
          "base_uri": "https://localhost:8080/"
        },
        "id": "ZPFyzSwqSabL",
        "outputId": "847da01b-7ef5-4b36-875c-e584d285c245"
      },
      "source": [
        "# instantiating and generating the count matrix\r\n",
        "count = CountVectorizer()\r\n",
        "count_matrix = count.fit_transform(rr['Keywords'])\r\n",
        "\r\n",
        "# creating a Series for the movie titles so they are associated to an ordered numerical\r\n",
        "# list I will use later to match the indexes\r\n",
        "indices = pd.Series(rr.Title)\r\n",
        "indices"
      ],
      "execution_count": 127,
      "outputs": [
        {
          "output_type": "execute_result",
          "data": {
            "text/plain": [
              "0                        Angel On My Shoulder\n",
              "1                          Flirting with Fate\n",
              "2                                      Detour\n",
              "3                               The Big Trees\n",
              "4                             The Jungle Book\n",
              "5                              The Lost World\n",
              "6                                    Suddenly\n",
              "7                        Bloody Pit Of Horror\n",
              "8                  Charlie Chaplin's The Rink\n",
              "9                                Texas Terror\n",
              "10                              The Iron Mask\n",
              "11                               Barefoot Boy\n",
              "12                                 Borderline\n",
              "13             Charlie Chaplin's The Vagabond\n",
              "14                            Galloping Romeo\n",
              "15                            His Girl Friday\n",
              "16                            The Star Packer\n",
              "17                             Scarlet Street\n",
              "18    Charlie Chaplin's A Burlesque On Carmen\n",
              "19             Charlie Chaplin's The Pawnshop\n",
              "20                                    Manfish\n",
              "21                          Carnival of Souls\n",
              "22                   The Snows Of Kilimanjaro\n",
              "23                                     Millie\n",
              "24                             My Man Godfrey\n",
              "25                         Million Dollar Kid\n",
              "26                                 The Outlaw\n",
              "27                     She Gods Of Shark Reef\n",
              "28                    Plan 9 From Outer Space\n",
              "29                             A Star Is Born\n",
              "30                   Night Of The Living Dead\n",
              "31                             Penny Serenade\n",
              "32                The Brain That Wouldn't Die\n",
              "33                          Call Of The Yukon\n",
              "34                          A Christmas Carol\n",
              "35                              Ambush Valley\n",
              "36                         A Stranger In Town\n",
              "37                              The Big Combo\n",
              "38          Charlie Chaplin's A Fair Exchange\n",
              "39                              Danger Flight\n",
              "40                               The Big Show\n",
              "41                          A Bucket Of Blood\n",
              "42                      House On Haunted Hill\n",
              "43                 Teenagers from Outer Space\n",
              "44                                  The Ghoul\n",
              "45                      The Light In The Dark\n",
              "46                           Life With Father\n",
              "47             Charlie Chaplin's The Knockout\n",
              "48                        Made For Each Other\n",
              "Name: Title, dtype: object"
            ]
          },
          "metadata": {
            "tags": []
          },
          "execution_count": 127
        }
      ]
    },
    {
      "cell_type": "code",
      "metadata": {
        "id": "WSkikouUTa1L"
      },
      "source": [
        "from sklearn.metrics.pairwise import cosine_similarity"
      ],
      "execution_count": 128,
      "outputs": []
    },
    {
      "cell_type": "code",
      "metadata": {
        "colab": {
          "base_uri": "https://localhost:8080/"
        },
        "id": "mEKx3QzTTi1L",
        "outputId": "17d943f0-6b4b-4c51-8fdd-383408ed5ff8"
      },
      "source": [
        "# generating the cosine similarity matrix\r\n",
        "cosine_sim = cosine_similarity(count_matrix, count_matrix)\r\n",
        "cosine_sim"
      ],
      "execution_count": 129,
      "outputs": [
        {
          "output_type": "execute_result",
          "data": {
            "text/plain": [
              "array([[1.        , 0.11111111, 0.        , ..., 0.06085806, 0.05407381,\n",
              "        0.05555556],\n",
              "       [0.11111111, 1.        , 0.        , ..., 0.12171612, 0.05407381,\n",
              "        0.05555556],\n",
              "       [0.        , 0.        , 1.        , ..., 0.        , 0.06362848,\n",
              "        0.06537205],\n",
              "       ...,\n",
              "       [0.06085806, 0.12171612, 0.        , ..., 1.        , 0.05923489,\n",
              "        0.06085806],\n",
              "       [0.05407381, 0.05407381, 0.06362848, ..., 0.05923489, 1.        ,\n",
              "        0.10814761],\n",
              "       [0.05555556, 0.05555556, 0.06537205, ..., 0.06085806, 0.10814761,\n",
              "        1.        ]])"
            ]
          },
          "metadata": {
            "tags": []
          },
          "execution_count": 129
        }
      ]
    },
    {
      "cell_type": "code",
      "metadata": {
        "id": "vznp0qWeTlGE"
      },
      "source": [
        "# function that takes in movie title as input and returns the top 10 recommended movies\r\n",
        "def recommendations(title, cosine_sim = cosine_sim):\r\n",
        "       \r\n",
        "    recommended_movies = []\r\n",
        "    \r\n",
        "    # gettin the index of the movie that matches the title\r\n",
        "    idx = indices[indices == title].index[0]\r\n",
        "\r\n",
        "    # creating a Series with the similarity scores in descending order\r\n",
        "    score_series = pd.Series(cosine_sim[idx]).sort_values(ascending = False)\r\n",
        "\r\n",
        "    # getting the indexes of the 10 most similar movies\r\n",
        "    top_10_indexes = list(score_series.iloc[1:11].index)\r\n",
        "    \r\n",
        "    # populating the list with the titles of the best 10 matching movies\r\n",
        "    for i in top_10_indexes:\r\n",
        "        recommended_movies.append(list(retro_raw_flatten.Title)[i])\r\n",
        "        \r\n",
        "    return recommended_movies"
      ],
      "execution_count": 147,
      "outputs": []
    },
    {
      "cell_type": "code",
      "metadata": {
        "colab": {
          "base_uri": "https://localhost:8080/"
        },
        "id": "jlhj0XBcT1NJ",
        "outputId": "cef334da-cf9d-4c41-cc52-5f67fa50f6bd"
      },
      "source": [
        "recommendations('Angel On My Shoulder')"
      ],
      "execution_count": 148,
      "outputs": [
        {
          "output_type": "execute_result",
          "data": {
            "text/plain": [
              "['My Man Godfrey',\n",
              " 'Flirting with Fate',\n",
              " \"Charlie Chaplin's A Burlesque On Carmen\",\n",
              " 'Texas Terror',\n",
              " 'Million Dollar Kid',\n",
              " 'Life With Father',\n",
              " 'Barefoot Boy',\n",
              " 'Galloping Romeo',\n",
              " 'Manfish',\n",
              " 'The Outlaw']"
            ]
          },
          "metadata": {
            "tags": []
          },
          "execution_count": 148
        }
      ]
    }
  ]
}