{
  "nbformat": 4,
  "nbformat_minor": 0,
  "metadata": {
    "colab": {
      "name": "Retro-Reel-Recommender.ipynb",
      "provenance": [],
      "collapsed_sections": [
        "w4BquuH8oeSf"
      ],
      "authorship_tag": "ABX9TyMR5reANeRitYppbibt1Cxa",
      "include_colab_link": true
    },
    "kernelspec": {
      "name": "python3",
      "display_name": "Python 3"
    }
  },
  "cells": [
    {
      "cell_type": "markdown",
      "metadata": {
        "id": "view-in-github",
        "colab_type": "text"
      },
      "source": [
        "<a href=\"https://colab.research.google.com/github/Thomas-George-T/Retro-Reel-Recommender/blob/retro-api/Retro_Reel_Recommender.ipynb\" target=\"_parent\"><img src=\"https://colab.research.google.com/assets/colab-badge.svg\" alt=\"Open In Colab\"/></a>"
      ]
    },
    {
      "cell_type": "markdown",
      "metadata": {
        "id": "h8D6Z2-3WloV"
      },
      "source": [
        "# Retrol Reel Recommender"
      ]
    },
    {
      "cell_type": "markdown",
      "metadata": {
        "id": "frQ2ccF2W2xX"
      },
      "source": [
        "## Data Acquisition"
      ]
    },
    {
      "cell_type": "code",
      "metadata": {
        "id": "UrlKeMAkJX7Z"
      },
      "source": [
        "import pandas as pd\n",
        "from sklearn.metrics.pairwise import cosine_similarity"
      ],
      "execution_count": 1,
      "outputs": []
    },
    {
      "cell_type": "code",
      "metadata": {
        "id": "8lwXHAx9uqjF"
      },
      "source": [
        "# display full data in the cell without truncating\n",
        "pd.set_option('display.max_colwidth', None)"
      ],
      "execution_count": 2,
      "outputs": []
    },
    {
      "cell_type": "code",
      "metadata": {
        "colab": {
          "base_uri": "https://localhost:8080/"
        },
        "id": "uRTxs_YxXBVx",
        "outputId": "73e76701-9db8-4af9-9f4e-a117736e3737"
      },
      "source": [
        "!wget -q -O 'retro.json' https://prosona.b-cdn.net/Movies/catalog-v2.txt\n",
        "print(\"Data Downloaded!\")"
      ],
      "execution_count": 3,
      "outputs": [
        {
          "output_type": "stream",
          "text": [
            "Data Downloaded!\n"
          ],
          "name": "stdout"
        }
      ]
    },
    {
      "cell_type": "code",
      "metadata": {
        "colab": {
          "base_uri": "https://localhost:8080/",
          "height": 850
        },
        "id": "U_Pyhaz3XPnr",
        "outputId": "82ce126c-dea1-4245-be31-d6ca64e22ad3"
      },
      "source": [
        "retro_raw = pd.read_json('retro.json')\n",
        "retro_raw.head()"
      ],
      "execution_count": 4,
      "outputs": [
        {
          "output_type": "execute_result",
          "data": {
            "text/html": [
              "<div>\n",
              "<style scoped>\n",
              "    .dataframe tbody tr th:only-of-type {\n",
              "        vertical-align: middle;\n",
              "    }\n",
              "\n",
              "    .dataframe tbody tr th {\n",
              "        vertical-align: top;\n",
              "    }\n",
              "\n",
              "    .dataframe thead th {\n",
              "        text-align: right;\n",
              "    }\n",
              "</style>\n",
              "<table border=\"1\" class=\"dataframe\">\n",
              "  <thead>\n",
              "    <tr style=\"text-align: right;\">\n",
              "      <th></th>\n",
              "      <th>Movies</th>\n",
              "    </tr>\n",
              "  </thead>\n",
              "  <tbody>\n",
              "    <tr>\n",
              "      <th>0</th>\n",
              "      <td>{'ID': 'b70eec12b79148dfbc97ac3b69ca49bf', 'Title': 'Angel On My Shoulder', 'ReleaseYear': 1946, 'Genres': ['Adventure', 'Comedy', 'Fantasy'], 'Synopsis': 'The Devil arranges for a deceased gangster to return to Earth as a well-respected judge to make up for his previous life.', 'Directors': ['Archie Mayo'], 'Cast': ['Paul Muni', 'Anne Baxter', 'Claude Rains'], 'Trivia': ['Director Archie Mayo clashed repeatedly with star Paul Muni during production. Muni didn't make another film for eight years.', 'The film's original title was \"Me and Satan\" but producer Charles R. Rogers decided to change it to Angel on My Shoulder (1946) on the conclusion that no one would want to go to see a film about the Devil.'], 'Keywords': 'Devil Soul angel on my shoulder 1946 adventure comedy fantasy archie mayo paul muni anne baxter claude rains', 'TrailerLink': 'https://prosona.b-cdn.net/Movies/Angel%20On%20My%20Shoulder%20%281946%29/Angel%20On%20My%20Shoulder%20%281946%29%20Trailer.mp4', 'MovieLink': 'https://prosona.b-cdn.net/Movies/Angel%20On%20My%20Shoulder%20%281946%29/Angel%20On%20My%20Shoulder%20%281946%29.mp4', 'HorizontalPosterLink': 'https://prosona.b-cdn.net/Movies/Angel%20On%20My%20Shoulder%20%281946%29/horizontal.jpg', 'VerticalPosterLink': 'https://prosona.b-cdn.net/Movies/Angel%20On%20My%20Shoulder%20%281946%29/vertical.jpg', 'SnapshotLink': 'https://prosona.b-cdn.net/Movies/Angel%20On%20My%20Shoulder%20%281946%29/screenshot.jpg', 'SubtitlesLink': '', 'Offset': 0.0}</td>\n",
              "    </tr>\n",
              "    <tr>\n",
              "      <th>1</th>\n",
              "      <td>{'ID': '1950e4a11304438dbfd4792a908fc76f', 'Title': 'Flirting with Fate', 'ReleaseYear': 1916, 'Genres': ['Adventure', 'Comedy'], 'Synopsis': 'In the midst of an emotional depression, a man hires a murderer to kill him. But the despair soon passes, and the man must now escape the killer he's hired to end his life.', 'Directors': ['Christy Cabanne'], 'Cast': ['Douglas Fairbanks', 'Jewel Carmen', 'Howard Gaye'], 'Trivia': [], 'Keywords': 'hitman assasin killer escape flirting with fate 1916 adventure comedy christy cabanne douglas fairbanks jewel carmen howard gaye', 'TrailerLink': 'https://prosona.b-cdn.net/Movies/Flirting%20With%20Fate%20%281916%29/preview.mp4', 'MovieLink': 'https://prosona.b-cdn.net/Movies/Flirting%20With%20Fate%20%281916%29/movie.mp4', 'HorizontalPosterLink': 'https://prosona.b-cdn.net/Movies/Flirting%20With%20Fate%20%281916%29/horizontal.png', 'VerticalPosterLink': 'https://prosona.b-cdn.net/Movies/Flirting%20With%20Fate%20%281916%29/vertical.png', 'SnapshotLink': 'https://prosona.b-cdn.net/Movies/Flirting%20With%20Fate%20%281916%29/screenshot.jpg', 'SubtitlesLink': '', 'Offset': 0.0}</td>\n",
              "    </tr>\n",
              "    <tr>\n",
              "      <th>2</th>\n",
              "      <td>{'ID': '37d8cae8d87f4dbc9cf8967454537afb', 'Title': 'Detour', 'ReleaseYear': 1945, 'Genres': ['Crime', 'Drama', 'Noir'], 'Synopsis': 'Chance events trap hitch-hiker Al Roberts in a tightening net of film noir trouble.', 'Directors': ['Edgar G. Ulmer'], 'Cast': ['Tom Neal', 'Ann Savage', 'Claudia Drake'], 'Trivia': ['The budget PRC gave director Edgar G. Ulmer for this film was so small that the 1941 Lincoln Continental V-12 convertible driven by Charles Haskell was actually Ulmer's personal car.', 'Ann Savage worked on her biography for the last decade of her life. It was released in early 2010 called \"Savage Detours.\"', 'Shot quickly in mostly two locations: the hotel room apartment, and the car in front of a rear projection screen on a soundstage at PRC.'], 'Keywords': 'detour 1945 crime drama noir edgar g. ulmer tom neal ann savage claudia drake', 'TrailerLink': 'https://prosona.b-cdn.net/Movies/Detour%20-%201945/Detour%20-%201945%20Trailer.mp4', 'MovieLink': 'https://prosona.b-cdn.net/Movies/Detour%20-%201945/Detour-1945.mp4', 'HorizontalPosterLink': 'https://prosona.b-cdn.net/Movies/Detour%20-%201945/horizontal-poster.jpg', 'VerticalPosterLink': 'https://prosona.b-cdn.net/Movies/Detour%20-%201945/vertical-poster.jpg', 'SnapshotLink': 'https://prosona.b-cdn.net/Movies/Detour%20-%201945/snapshot.jpg', 'SubtitlesLink': 'https://prosona.b-cdn.net/Movies/Detour%20-%201945/sub%20EN.srt', 'Offset': 0.0}</td>\n",
              "    </tr>\n",
              "    <tr>\n",
              "      <th>3</th>\n",
              "      <td>{'ID': 'b99dd03c00cc4fb9b2d4ad26082de498', 'Title': 'The Big Trees', 'ReleaseYear': 1952, 'Genres': ['Action', 'Romance', 'Western'], 'Synopsis': 'A Quaker colony tries to save the giant sequoias from a timber baron.', 'Directors': ['Felix E. Feist'], 'Cast': ['Kirk Douglas', 'Eve Miller', 'Patrice Wymore'], 'Trivia': ['According to Kirk Douglas in his autobiography \"The Ragman's Son\", he agreed to act in this film for free, in order to end his contract with Warner Bros.', 'The reading that Fallon does at the dinner is from Psalms 41, verse 1.', 'In the same year, Kirk Douglas starred in a movie titled The Big Trees and a movie titled The Big Sky. Though they were narratively unconnected, in both films, Douglas's character was named Jim.'], 'Keywords': 'activism sequoia the big trees 1952 action romance western felix e. feist kirk douglas eve miller patrice wymore', 'TrailerLink': 'https://prosona.b-cdn.net/Movies/The%20Big%20Trees%20%281952%29/preview.mp4', 'MovieLink': 'https://prosona.b-cdn.net/Movies/The%20Big%20Trees%20%281952%29/movie.mp4', 'HorizontalPosterLink': 'https://prosona.b-cdn.net/Movies/The%20Big%20Trees%20%281952%29/horizontal.png', 'VerticalPosterLink': 'https://prosona.b-cdn.net/Movies/The%20Big%20Trees%20%281952%29/vertical.png', 'SnapshotLink': 'https://prosona.b-cdn.net/Movies/The%20Big%20Trees%20%281952%29/screenshot.jpg', 'SubtitlesLink': '', 'Offset': 0.0}</td>\n",
              "    </tr>\n",
              "    <tr>\n",
              "      <th>4</th>\n",
              "      <td>{'ID': '5566ce75b5954f3dad323c2f154856a3', 'Title': 'The Jungle Book', 'ReleaseYear': 1942, 'Genres': ['Action', 'Adventure'], 'Synopsis': '\r\n",
              "A boy raised by wild animals tries to adapt to human village life.', 'Directors': ['Zoltan Korda'], 'Cast': ['Sabu', 'Joseph Calleia', 'John Qualen'], 'Trivia': ['Rudyard Kipling's two Jungle Book anthologies comprise fifteen stories, four of which were used is this film: \"Mowgli's Brothers,\" \"How Fear Came,\" \"Tiger! Tiger!,\" and \"The King's Ankus.\"', 'Although this movie was set in India, the production was actually shot in California, USA', 'Sabu never actually starred in Indian movies, and was only in British, European, and Hollywood films. He was lined up to star in Indian films, but could not get a valid work permit, because he was a naturalized US Citizen, (even though he was born in India), however, to this day, many people still regard him as an Indian movie star.'], 'Keywords': 'rudyard kipling wolves family the jungle book 1942 action adventure zoltan korda sabu joseph calleia john qualen', 'TrailerLink': 'https://prosona.b-cdn.net/Movies/Jungle%20Book%20%281942%29/preview.mp4', 'MovieLink': 'https://prosona.b-cdn.net/Movies/Jungle%20Book%20%281942%29/movie.mp4', 'HorizontalPosterLink': 'https://prosona.b-cdn.net/Movies/Jungle%20Book%20%281942%29/horizontal.jpg', 'VerticalPosterLink': 'https://prosona.b-cdn.net/Movies/Jungle%20Book%20%281942%29/vertical.png', 'SnapshotLink': 'https://prosona.b-cdn.net/Movies/Jungle%20Book%20%281942%29/screenshot.jpg', 'SubtitlesLink': '', 'Offset': 0.0}</td>\n",
              "    </tr>\n",
              "  </tbody>\n",
              "</table>\n",
              "</div>"
            ],
            "text/plain": [
              "                                                                                                                                                                                                                                                                                                                                                                                                                                                                                                                                                                                                                                                                                                                                                                                                                                                                                                                                                                                                                                                                                                                                                                                                                                                                                                                                                                                                                                                                                                                                                                                                                      Movies\n",
              "0                                                                               {'ID': 'b70eec12b79148dfbc97ac3b69ca49bf', 'Title': 'Angel On My Shoulder', 'ReleaseYear': 1946, 'Genres': ['Adventure', 'Comedy', 'Fantasy'], 'Synopsis': 'The Devil arranges for a deceased gangster to return to Earth as a well-respected judge to make up for his previous life.', 'Directors': ['Archie Mayo'], 'Cast': ['Paul Muni', 'Anne Baxter', 'Claude Rains'], 'Trivia': ['Director Archie Mayo clashed repeatedly with star Paul Muni during production. Muni didn't make another film for eight years.', 'The film's original title was \"Me and Satan\" but producer Charles R. Rogers decided to change it to Angel on My Shoulder (1946) on the conclusion that no one would want to go to see a film about the Devil.'], 'Keywords': 'Devil Soul angel on my shoulder 1946 adventure comedy fantasy archie mayo paul muni anne baxter claude rains', 'TrailerLink': 'https://prosona.b-cdn.net/Movies/Angel%20On%20My%20Shoulder%20%281946%29/Angel%20On%20My%20Shoulder%20%281946%29%20Trailer.mp4', 'MovieLink': 'https://prosona.b-cdn.net/Movies/Angel%20On%20My%20Shoulder%20%281946%29/Angel%20On%20My%20Shoulder%20%281946%29.mp4', 'HorizontalPosterLink': 'https://prosona.b-cdn.net/Movies/Angel%20On%20My%20Shoulder%20%281946%29/horizontal.jpg', 'VerticalPosterLink': 'https://prosona.b-cdn.net/Movies/Angel%20On%20My%20Shoulder%20%281946%29/vertical.jpg', 'SnapshotLink': 'https://prosona.b-cdn.net/Movies/Angel%20On%20My%20Shoulder%20%281946%29/screenshot.jpg', 'SubtitlesLink': '', 'Offset': 0.0}\n",
              "1                                                                                                                                                                                                                                                                                                                                                                                                                                                         {'ID': '1950e4a11304438dbfd4792a908fc76f', 'Title': 'Flirting with Fate', 'ReleaseYear': 1916, 'Genres': ['Adventure', 'Comedy'], 'Synopsis': 'In the midst of an emotional depression, a man hires a murderer to kill him. But the despair soon passes, and the man must now escape the killer he's hired to end his life.', 'Directors': ['Christy Cabanne'], 'Cast': ['Douglas Fairbanks', 'Jewel Carmen', 'Howard Gaye'], 'Trivia': [], 'Keywords': 'hitman assasin killer escape flirting with fate 1916 adventure comedy christy cabanne douglas fairbanks jewel carmen howard gaye', 'TrailerLink': 'https://prosona.b-cdn.net/Movies/Flirting%20With%20Fate%20%281916%29/preview.mp4', 'MovieLink': 'https://prosona.b-cdn.net/Movies/Flirting%20With%20Fate%20%281916%29/movie.mp4', 'HorizontalPosterLink': 'https://prosona.b-cdn.net/Movies/Flirting%20With%20Fate%20%281916%29/horizontal.png', 'VerticalPosterLink': 'https://prosona.b-cdn.net/Movies/Flirting%20With%20Fate%20%281916%29/vertical.png', 'SnapshotLink': 'https://prosona.b-cdn.net/Movies/Flirting%20With%20Fate%20%281916%29/screenshot.jpg', 'SubtitlesLink': '', 'Offset': 0.0}\n",
              "2                                                                                                                                           {'ID': '37d8cae8d87f4dbc9cf8967454537afb', 'Title': 'Detour', 'ReleaseYear': 1945, 'Genres': ['Crime', 'Drama', 'Noir'], 'Synopsis': 'Chance events trap hitch-hiker Al Roberts in a tightening net of film noir trouble.', 'Directors': ['Edgar G. Ulmer'], 'Cast': ['Tom Neal', 'Ann Savage', 'Claudia Drake'], 'Trivia': ['The budget PRC gave director Edgar G. Ulmer for this film was so small that the 1941 Lincoln Continental V-12 convertible driven by Charles Haskell was actually Ulmer's personal car.', 'Ann Savage worked on her biography for the last decade of her life. It was released in early 2010 called \"Savage Detours.\"', 'Shot quickly in mostly two locations: the hotel room apartment, and the car in front of a rear projection screen on a soundstage at PRC.'], 'Keywords': 'detour 1945 crime drama noir edgar g. ulmer tom neal ann savage claudia drake', 'TrailerLink': 'https://prosona.b-cdn.net/Movies/Detour%20-%201945/Detour%20-%201945%20Trailer.mp4', 'MovieLink': 'https://prosona.b-cdn.net/Movies/Detour%20-%201945/Detour-1945.mp4', 'HorizontalPosterLink': 'https://prosona.b-cdn.net/Movies/Detour%20-%201945/horizontal-poster.jpg', 'VerticalPosterLink': 'https://prosona.b-cdn.net/Movies/Detour%20-%201945/vertical-poster.jpg', 'SnapshotLink': 'https://prosona.b-cdn.net/Movies/Detour%20-%201945/snapshot.jpg', 'SubtitlesLink': 'https://prosona.b-cdn.net/Movies/Detour%20-%201945/sub%20EN.srt', 'Offset': 0.0}\n",
              "3                                                                                                                                                               {'ID': 'b99dd03c00cc4fb9b2d4ad26082de498', 'Title': 'The Big Trees', 'ReleaseYear': 1952, 'Genres': ['Action', 'Romance', 'Western'], 'Synopsis': 'A Quaker colony tries to save the giant sequoias from a timber baron.', 'Directors': ['Felix E. Feist'], 'Cast': ['Kirk Douglas', 'Eve Miller', 'Patrice Wymore'], 'Trivia': ['According to Kirk Douglas in his autobiography \"The Ragman's Son\", he agreed to act in this film for free, in order to end his contract with Warner Bros.', 'The reading that Fallon does at the dinner is from Psalms 41, verse 1.', 'In the same year, Kirk Douglas starred in a movie titled The Big Trees and a movie titled The Big Sky. Though they were narratively unconnected, in both films, Douglas's character was named Jim.'], 'Keywords': 'activism sequoia the big trees 1952 action romance western felix e. feist kirk douglas eve miller patrice wymore', 'TrailerLink': 'https://prosona.b-cdn.net/Movies/The%20Big%20Trees%20%281952%29/preview.mp4', 'MovieLink': 'https://prosona.b-cdn.net/Movies/The%20Big%20Trees%20%281952%29/movie.mp4', 'HorizontalPosterLink': 'https://prosona.b-cdn.net/Movies/The%20Big%20Trees%20%281952%29/horizontal.png', 'VerticalPosterLink': 'https://prosona.b-cdn.net/Movies/The%20Big%20Trees%20%281952%29/vertical.png', 'SnapshotLink': 'https://prosona.b-cdn.net/Movies/The%20Big%20Trees%20%281952%29/screenshot.jpg', 'SubtitlesLink': '', 'Offset': 0.0}\n",
              "4  {'ID': '5566ce75b5954f3dad323c2f154856a3', 'Title': 'The Jungle Book', 'ReleaseYear': 1942, 'Genres': ['Action', 'Adventure'], 'Synopsis': '\n",
              "A boy raised by wild animals tries to adapt to human village life.', 'Directors': ['Zoltan Korda'], 'Cast': ['Sabu', 'Joseph Calleia', 'John Qualen'], 'Trivia': ['Rudyard Kipling's two Jungle Book anthologies comprise fifteen stories, four of which were used is this film: \"Mowgli's Brothers,\" \"How Fear Came,\" \"Tiger! Tiger!,\" and \"The King's Ankus.\"', 'Although this movie was set in India, the production was actually shot in California, USA', 'Sabu never actually starred in Indian movies, and was only in British, European, and Hollywood films. He was lined up to star in Indian films, but could not get a valid work permit, because he was a naturalized US Citizen, (even though he was born in India), however, to this day, many people still regard him as an Indian movie star.'], 'Keywords': 'rudyard kipling wolves family the jungle book 1942 action adventure zoltan korda sabu joseph calleia john qualen', 'TrailerLink': 'https://prosona.b-cdn.net/Movies/Jungle%20Book%20%281942%29/preview.mp4', 'MovieLink': 'https://prosona.b-cdn.net/Movies/Jungle%20Book%20%281942%29/movie.mp4', 'HorizontalPosterLink': 'https://prosona.b-cdn.net/Movies/Jungle%20Book%20%281942%29/horizontal.jpg', 'VerticalPosterLink': 'https://prosona.b-cdn.net/Movies/Jungle%20Book%20%281942%29/vertical.png', 'SnapshotLink': 'https://prosona.b-cdn.net/Movies/Jungle%20Book%20%281942%29/screenshot.jpg', 'SubtitlesLink': '', 'Offset': 0.0}"
            ]
          },
          "metadata": {
            "tags": []
          },
          "execution_count": 4
        }
      ]
    },
    {
      "cell_type": "markdown",
      "metadata": {
        "id": "aFYCfKvlXpZS"
      },
      "source": [
        "## Data Preprocessing"
      ]
    },
    {
      "cell_type": "code",
      "metadata": {
        "colab": {
          "base_uri": "https://localhost:8080/",
          "height": 1000
        },
        "id": "kafF3mRJXgh3",
        "outputId": "61db5e21-cf80-4dbc-b201-78b15c97754d"
      },
      "source": [
        "retro_raw_flatten = pd.json_normalize(retro_raw['Movies'])\n",
        "retro_raw_flatten.head()"
      ],
      "execution_count": 5,
      "outputs": [
        {
          "output_type": "execute_result",
          "data": {
            "text/html": [
              "<div>\n",
              "<style scoped>\n",
              "    .dataframe tbody tr th:only-of-type {\n",
              "        vertical-align: middle;\n",
              "    }\n",
              "\n",
              "    .dataframe tbody tr th {\n",
              "        vertical-align: top;\n",
              "    }\n",
              "\n",
              "    .dataframe thead th {\n",
              "        text-align: right;\n",
              "    }\n",
              "</style>\n",
              "<table border=\"1\" class=\"dataframe\">\n",
              "  <thead>\n",
              "    <tr style=\"text-align: right;\">\n",
              "      <th></th>\n",
              "      <th>ID</th>\n",
              "      <th>Title</th>\n",
              "      <th>ReleaseYear</th>\n",
              "      <th>Genres</th>\n",
              "      <th>Synopsis</th>\n",
              "      <th>Directors</th>\n",
              "      <th>Cast</th>\n",
              "      <th>Trivia</th>\n",
              "      <th>Keywords</th>\n",
              "      <th>TrailerLink</th>\n",
              "      <th>MovieLink</th>\n",
              "      <th>HorizontalPosterLink</th>\n",
              "      <th>VerticalPosterLink</th>\n",
              "      <th>SnapshotLink</th>\n",
              "      <th>SubtitlesLink</th>\n",
              "      <th>Offset</th>\n",
              "    </tr>\n",
              "  </thead>\n",
              "  <tbody>\n",
              "    <tr>\n",
              "      <th>0</th>\n",
              "      <td>b70eec12b79148dfbc97ac3b69ca49bf</td>\n",
              "      <td>Angel On My Shoulder</td>\n",
              "      <td>1946</td>\n",
              "      <td>[Adventure, Comedy, Fantasy]</td>\n",
              "      <td>The Devil arranges for a deceased gangster to return to Earth as a well-respected judge to make up for his previous life.</td>\n",
              "      <td>[Archie Mayo]</td>\n",
              "      <td>[Paul Muni, Anne Baxter, Claude Rains]</td>\n",
              "      <td>[Director Archie Mayo clashed repeatedly with star Paul Muni during production. Muni didn't make another film for eight years., The film's original title was \"Me and Satan\" but producer Charles R. Rogers decided to change it to Angel on My Shoulder (1946) on the conclusion that no one would want to go to see a film about the Devil.]</td>\n",
              "      <td>Devil Soul angel on my shoulder 1946 adventure comedy fantasy archie mayo paul muni anne baxter claude rains</td>\n",
              "      <td>https://prosona.b-cdn.net/Movies/Angel%20On%20My%20Shoulder%20%281946%29/Angel%20On%20My%20Shoulder%20%281946%29%20Trailer.mp4</td>\n",
              "      <td>https://prosona.b-cdn.net/Movies/Angel%20On%20My%20Shoulder%20%281946%29/Angel%20On%20My%20Shoulder%20%281946%29.mp4</td>\n",
              "      <td>https://prosona.b-cdn.net/Movies/Angel%20On%20My%20Shoulder%20%281946%29/horizontal.jpg</td>\n",
              "      <td>https://prosona.b-cdn.net/Movies/Angel%20On%20My%20Shoulder%20%281946%29/vertical.jpg</td>\n",
              "      <td>https://prosona.b-cdn.net/Movies/Angel%20On%20My%20Shoulder%20%281946%29/screenshot.jpg</td>\n",
              "      <td></td>\n",
              "      <td>0.0</td>\n",
              "    </tr>\n",
              "    <tr>\n",
              "      <th>1</th>\n",
              "      <td>1950e4a11304438dbfd4792a908fc76f</td>\n",
              "      <td>Flirting with Fate</td>\n",
              "      <td>1916</td>\n",
              "      <td>[Adventure, Comedy]</td>\n",
              "      <td>In the midst of an emotional depression, a man hires a murderer to kill him. But the despair soon passes, and the man must now escape the killer he's hired to end his life.</td>\n",
              "      <td>[Christy Cabanne]</td>\n",
              "      <td>[Douglas Fairbanks, Jewel Carmen, Howard Gaye]</td>\n",
              "      <td>[]</td>\n",
              "      <td>hitman assasin killer escape flirting with fate 1916 adventure comedy christy cabanne douglas fairbanks jewel carmen howard gaye</td>\n",
              "      <td>https://prosona.b-cdn.net/Movies/Flirting%20With%20Fate%20%281916%29/preview.mp4</td>\n",
              "      <td>https://prosona.b-cdn.net/Movies/Flirting%20With%20Fate%20%281916%29/movie.mp4</td>\n",
              "      <td>https://prosona.b-cdn.net/Movies/Flirting%20With%20Fate%20%281916%29/horizontal.png</td>\n",
              "      <td>https://prosona.b-cdn.net/Movies/Flirting%20With%20Fate%20%281916%29/vertical.png</td>\n",
              "      <td>https://prosona.b-cdn.net/Movies/Flirting%20With%20Fate%20%281916%29/screenshot.jpg</td>\n",
              "      <td></td>\n",
              "      <td>0.0</td>\n",
              "    </tr>\n",
              "    <tr>\n",
              "      <th>2</th>\n",
              "      <td>37d8cae8d87f4dbc9cf8967454537afb</td>\n",
              "      <td>Detour</td>\n",
              "      <td>1945</td>\n",
              "      <td>[Crime, Drama, Noir]</td>\n",
              "      <td>Chance events trap hitch-hiker Al Roberts in a tightening net of film noir trouble.</td>\n",
              "      <td>[Edgar G. Ulmer]</td>\n",
              "      <td>[Tom Neal, Ann Savage, Claudia Drake]</td>\n",
              "      <td>[The budget PRC gave director Edgar G. Ulmer for this film was so small that the 1941 Lincoln Continental V-12 convertible driven by Charles Haskell was actually Ulmer's personal car., Ann Savage worked on her biography for the last decade of her life. It was released in early 2010 called \"Savage Detours.\", Shot quickly in mostly two locations: the hotel room apartment, and the car in front of a rear projection screen on a soundstage at PRC.]</td>\n",
              "      <td>detour 1945 crime drama noir edgar g. ulmer tom neal ann savage claudia drake</td>\n",
              "      <td>https://prosona.b-cdn.net/Movies/Detour%20-%201945/Detour%20-%201945%20Trailer.mp4</td>\n",
              "      <td>https://prosona.b-cdn.net/Movies/Detour%20-%201945/Detour-1945.mp4</td>\n",
              "      <td>https://prosona.b-cdn.net/Movies/Detour%20-%201945/horizontal-poster.jpg</td>\n",
              "      <td>https://prosona.b-cdn.net/Movies/Detour%20-%201945/vertical-poster.jpg</td>\n",
              "      <td>https://prosona.b-cdn.net/Movies/Detour%20-%201945/snapshot.jpg</td>\n",
              "      <td>https://prosona.b-cdn.net/Movies/Detour%20-%201945/sub%20EN.srt</td>\n",
              "      <td>0.0</td>\n",
              "    </tr>\n",
              "    <tr>\n",
              "      <th>3</th>\n",
              "      <td>b99dd03c00cc4fb9b2d4ad26082de498</td>\n",
              "      <td>The Big Trees</td>\n",
              "      <td>1952</td>\n",
              "      <td>[Action, Romance, Western]</td>\n",
              "      <td>A Quaker colony tries to save the giant sequoias from a timber baron.</td>\n",
              "      <td>[Felix E. Feist]</td>\n",
              "      <td>[Kirk Douglas, Eve Miller, Patrice Wymore]</td>\n",
              "      <td>[According to Kirk Douglas in his autobiography \"The Ragman's Son\", he agreed to act in this film for free, in order to end his contract with Warner Bros., The reading that Fallon does at the dinner is from Psalms 41, verse 1., In the same year, Kirk Douglas starred in a movie titled The Big Trees and a movie titled The Big Sky. Though they were narratively unconnected, in both films, Douglas's character was named Jim.]</td>\n",
              "      <td>activism sequoia the big trees 1952 action romance western felix e. feist kirk douglas eve miller patrice wymore</td>\n",
              "      <td>https://prosona.b-cdn.net/Movies/The%20Big%20Trees%20%281952%29/preview.mp4</td>\n",
              "      <td>https://prosona.b-cdn.net/Movies/The%20Big%20Trees%20%281952%29/movie.mp4</td>\n",
              "      <td>https://prosona.b-cdn.net/Movies/The%20Big%20Trees%20%281952%29/horizontal.png</td>\n",
              "      <td>https://prosona.b-cdn.net/Movies/The%20Big%20Trees%20%281952%29/vertical.png</td>\n",
              "      <td>https://prosona.b-cdn.net/Movies/The%20Big%20Trees%20%281952%29/screenshot.jpg</td>\n",
              "      <td></td>\n",
              "      <td>0.0</td>\n",
              "    </tr>\n",
              "    <tr>\n",
              "      <th>4</th>\n",
              "      <td>5566ce75b5954f3dad323c2f154856a3</td>\n",
              "      <td>The Jungle Book</td>\n",
              "      <td>1942</td>\n",
              "      <td>[Action, Adventure]</td>\n",
              "      <td>\\r\\nA boy raised by wild animals tries to adapt to human village life.</td>\n",
              "      <td>[Zoltan Korda]</td>\n",
              "      <td>[Sabu, Joseph Calleia, John Qualen]</td>\n",
              "      <td>[Rudyard Kipling's two Jungle Book anthologies comprise fifteen stories, four of which were used is this film: \"Mowgli's Brothers,\" \"How Fear Came,\" \"Tiger! Tiger!,\" and \"The King's Ankus.\", Although this movie was set in India, the production was actually shot in California, USA, Sabu never actually starred in Indian movies, and was only in British, European, and Hollywood films. He was lined up to star in Indian films, but could not get a valid work permit, because he was a naturalized US Citizen, (even though he was born in India), however, to this day, many people still regard him as an Indian movie star.]</td>\n",
              "      <td>rudyard kipling wolves family the jungle book 1942 action adventure zoltan korda sabu joseph calleia john qualen</td>\n",
              "      <td>https://prosona.b-cdn.net/Movies/Jungle%20Book%20%281942%29/preview.mp4</td>\n",
              "      <td>https://prosona.b-cdn.net/Movies/Jungle%20Book%20%281942%29/movie.mp4</td>\n",
              "      <td>https://prosona.b-cdn.net/Movies/Jungle%20Book%20%281942%29/horizontal.jpg</td>\n",
              "      <td>https://prosona.b-cdn.net/Movies/Jungle%20Book%20%281942%29/vertical.png</td>\n",
              "      <td>https://prosona.b-cdn.net/Movies/Jungle%20Book%20%281942%29/screenshot.jpg</td>\n",
              "      <td></td>\n",
              "      <td>0.0</td>\n",
              "    </tr>\n",
              "  </tbody>\n",
              "</table>\n",
              "</div>"
            ],
            "text/plain": [
              "                                 ID  ... Offset\n",
              "0  b70eec12b79148dfbc97ac3b69ca49bf  ...    0.0\n",
              "1  1950e4a11304438dbfd4792a908fc76f  ...    0.0\n",
              "2  37d8cae8d87f4dbc9cf8967454537afb  ...    0.0\n",
              "3  b99dd03c00cc4fb9b2d4ad26082de498  ...    0.0\n",
              "4  5566ce75b5954f3dad323c2f154856a3  ...    0.0\n",
              "\n",
              "[5 rows x 16 columns]"
            ]
          },
          "metadata": {
            "tags": []
          },
          "execution_count": 5
        }
      ]
    },
    {
      "cell_type": "code",
      "metadata": {
        "colab": {
          "base_uri": "https://localhost:8080/"
        },
        "id": "0Dl2JjIKf_PM",
        "outputId": "e45714eb-c6aa-4e4f-925b-bd82cfcccb19"
      },
      "source": [
        "retro_raw_flatten.info()"
      ],
      "execution_count": 6,
      "outputs": [
        {
          "output_type": "stream",
          "text": [
            "<class 'pandas.core.frame.DataFrame'>\n",
            "RangeIndex: 49 entries, 0 to 48\n",
            "Data columns (total 16 columns):\n",
            " #   Column                Non-Null Count  Dtype  \n",
            "---  ------                --------------  -----  \n",
            " 0   ID                    49 non-null     object \n",
            " 1   Title                 49 non-null     object \n",
            " 2   ReleaseYear           49 non-null     int64  \n",
            " 3   Genres                49 non-null     object \n",
            " 4   Synopsis              49 non-null     object \n",
            " 5   Directors             49 non-null     object \n",
            " 6   Cast                  49 non-null     object \n",
            " 7   Trivia                49 non-null     object \n",
            " 8   Keywords              49 non-null     object \n",
            " 9   TrailerLink           49 non-null     object \n",
            " 10  MovieLink             49 non-null     object \n",
            " 11  HorizontalPosterLink  49 non-null     object \n",
            " 12  VerticalPosterLink    49 non-null     object \n",
            " 13  SnapshotLink          49 non-null     object \n",
            " 14  SubtitlesLink         49 non-null     object \n",
            " 15  Offset                49 non-null     float64\n",
            "dtypes: float64(1), int64(1), object(14)\n",
            "memory usage: 6.2+ KB\n"
          ],
          "name": "stdout"
        }
      ]
    },
    {
      "cell_type": "markdown",
      "metadata": {
        "id": "QOuQtwFGPVSi"
      },
      "source": [
        "## Feature Selection"
      ]
    },
    {
      "cell_type": "markdown",
      "metadata": {
        "id": "EoguRiDHs8rt"
      },
      "source": [
        "We chose ID, Title, ReleaseYear, Genres, Synopsis, Directors and Cast as our features. They are to generate a bag of keywords which we will use as our basis of the cosimilarity matrix. "
      ]
    },
    {
      "cell_type": "code",
      "metadata": {
        "colab": {
          "base_uri": "https://localhost:8080/",
          "height": 1000
        },
        "id": "39ffJlkFwPi_",
        "outputId": "03600f93-ddbf-46ed-921a-b3b63c70ba37"
      },
      "source": [
        "df4 = retro_raw_flatten [['ID','Title','ReleaseYear','Genres','Synopsis','Directors','Cast']]\n",
        "df4"
      ],
      "execution_count": 7,
      "outputs": [
        {
          "output_type": "execute_result",
          "data": {
            "text/html": [
              "<div>\n",
              "<style scoped>\n",
              "    .dataframe tbody tr th:only-of-type {\n",
              "        vertical-align: middle;\n",
              "    }\n",
              "\n",
              "    .dataframe tbody tr th {\n",
              "        vertical-align: top;\n",
              "    }\n",
              "\n",
              "    .dataframe thead th {\n",
              "        text-align: right;\n",
              "    }\n",
              "</style>\n",
              "<table border=\"1\" class=\"dataframe\">\n",
              "  <thead>\n",
              "    <tr style=\"text-align: right;\">\n",
              "      <th></th>\n",
              "      <th>ID</th>\n",
              "      <th>Title</th>\n",
              "      <th>ReleaseYear</th>\n",
              "      <th>Genres</th>\n",
              "      <th>Synopsis</th>\n",
              "      <th>Directors</th>\n",
              "      <th>Cast</th>\n",
              "    </tr>\n",
              "  </thead>\n",
              "  <tbody>\n",
              "    <tr>\n",
              "      <th>0</th>\n",
              "      <td>b70eec12b79148dfbc97ac3b69ca49bf</td>\n",
              "      <td>Angel On My Shoulder</td>\n",
              "      <td>1946</td>\n",
              "      <td>[Adventure, Comedy, Fantasy]</td>\n",
              "      <td>The Devil arranges for a deceased gangster to return to Earth as a well-respected judge to make up for his previous life.</td>\n",
              "      <td>[Archie Mayo]</td>\n",
              "      <td>[Paul Muni, Anne Baxter, Claude Rains]</td>\n",
              "    </tr>\n",
              "    <tr>\n",
              "      <th>1</th>\n",
              "      <td>1950e4a11304438dbfd4792a908fc76f</td>\n",
              "      <td>Flirting with Fate</td>\n",
              "      <td>1916</td>\n",
              "      <td>[Adventure, Comedy]</td>\n",
              "      <td>In the midst of an emotional depression, a man hires a murderer to kill him. But the despair soon passes, and the man must now escape the killer he's hired to end his life.</td>\n",
              "      <td>[Christy Cabanne]</td>\n",
              "      <td>[Douglas Fairbanks, Jewel Carmen, Howard Gaye]</td>\n",
              "    </tr>\n",
              "    <tr>\n",
              "      <th>2</th>\n",
              "      <td>37d8cae8d87f4dbc9cf8967454537afb</td>\n",
              "      <td>Detour</td>\n",
              "      <td>1945</td>\n",
              "      <td>[Crime, Drama, Noir]</td>\n",
              "      <td>Chance events trap hitch-hiker Al Roberts in a tightening net of film noir trouble.</td>\n",
              "      <td>[Edgar G. Ulmer]</td>\n",
              "      <td>[Tom Neal, Ann Savage, Claudia Drake]</td>\n",
              "    </tr>\n",
              "    <tr>\n",
              "      <th>3</th>\n",
              "      <td>b99dd03c00cc4fb9b2d4ad26082de498</td>\n",
              "      <td>The Big Trees</td>\n",
              "      <td>1952</td>\n",
              "      <td>[Action, Romance, Western]</td>\n",
              "      <td>A Quaker colony tries to save the giant sequoias from a timber baron.</td>\n",
              "      <td>[Felix E. Feist]</td>\n",
              "      <td>[Kirk Douglas, Eve Miller, Patrice Wymore]</td>\n",
              "    </tr>\n",
              "    <tr>\n",
              "      <th>4</th>\n",
              "      <td>5566ce75b5954f3dad323c2f154856a3</td>\n",
              "      <td>The Jungle Book</td>\n",
              "      <td>1942</td>\n",
              "      <td>[Action, Adventure]</td>\n",
              "      <td>\\r\\nA boy raised by wild animals tries to adapt to human village life.</td>\n",
              "      <td>[Zoltan Korda]</td>\n",
              "      <td>[Sabu, Joseph Calleia, John Qualen]</td>\n",
              "    </tr>\n",
              "    <tr>\n",
              "      <th>5</th>\n",
              "      <td>62e08996bb034303a417d10e136bedda</td>\n",
              "      <td>The Lost World</td>\n",
              "      <td>1925</td>\n",
              "      <td>[Action, Fantasy, Thriller]</td>\n",
              "      <td>The first film adaptation of Sir Arthur Conan Doyle's classic novel about a land where prehistoric creatures still roam.</td>\n",
              "      <td>[Harry O. Hoyt]</td>\n",
              "      <td>[Wallace Beery, Bessie Love, Lloyd Hughes]</td>\n",
              "    </tr>\n",
              "    <tr>\n",
              "      <th>6</th>\n",
              "      <td>74ac96777a4d404b8eba028e44f8f06b</td>\n",
              "      <td>Suddenly</td>\n",
              "      <td>1954</td>\n",
              "      <td>[Crime, Drama, Noir]</td>\n",
              "      <td>In the city of Suddenly, three gangsters trap the Benson family in their own house, on the top of a hill nearby the railroad station, with the intention of killing the president of the USA.</td>\n",
              "      <td>[]</td>\n",
              "      <td>[]</td>\n",
              "    </tr>\n",
              "    <tr>\n",
              "      <th>7</th>\n",
              "      <td>4014bc52406d47d88f077ab9ca6e988c</td>\n",
              "      <td>Bloody Pit Of Horror</td>\n",
              "      <td>1965</td>\n",
              "      <td>[Horror, Thriller]</td>\n",
              "      <td>A photographer and his models go to an old, abandoned castle to shoot some sexy covers for horror novels. Unbeknownst to them, the castle is inhabited by a lunatic who believes himself to be the reincarnated spirit of a 17th-century executioner whose job it is to protect the castle against intruders.</td>\n",
              "      <td>[Domenico Massimo]</td>\n",
              "      <td>[Mickey Hargitay, Walter Brandi, Luisa Baratto]</td>\n",
              "    </tr>\n",
              "    <tr>\n",
              "      <th>8</th>\n",
              "      <td>97063c49fbe94966a7f883594896855b</td>\n",
              "      <td>Charlie Chaplin's The Rink</td>\n",
              "      <td>1916</td>\n",
              "      <td>[Short, Comedy]</td>\n",
              "      <td>After causing restaurant chaos at work, a bumbling waiter tears up the local roller rink with his skating.</td>\n",
              "      <td>[Charles Chaplin]</td>\n",
              "      <td>[Charles Chaplin, Edna Purviance, James T. Kelley]</td>\n",
              "    </tr>\n",
              "    <tr>\n",
              "      <th>9</th>\n",
              "      <td>3cb4bd7eed36485c8faf54c41c243f20</td>\n",
              "      <td>Texas Terror</td>\n",
              "      <td>1935</td>\n",
              "      <td>[Action, Adventure, Drama]</td>\n",
              "      <td>Sheriff John Higgins quits and goes into prospecting after he thinks he has killed his best friend in shooting it out with robbers. He encounters his dead buddy's daughter, who has come from back east, and helps her run her ranch. Then she finds out about his past.</td>\n",
              "      <td>[Robert N. Bradbury]</td>\n",
              "      <td>[John Wayne, Lucile Browne, LeRoy Mason]</td>\n",
              "    </tr>\n",
              "    <tr>\n",
              "      <th>10</th>\n",
              "      <td>5807bf3c700d4a659a74fc15de8b923c</td>\n",
              "      <td>The Iron Mask</td>\n",
              "      <td>1929</td>\n",
              "      <td>[Adventure, Drama]</td>\n",
              "      <td>An adaptation of the French legend of the Man in the Iron Mask.</td>\n",
              "      <td>[Allan Dwan]</td>\n",
              "      <td>[Belle Bennett, Marguerite De La Motte, Dorothy Revier]</td>\n",
              "    </tr>\n",
              "    <tr>\n",
              "      <th>11</th>\n",
              "      <td>734953cfa879481ca4fd1a264b41c4ad</td>\n",
              "      <td>Barefoot Boy</td>\n",
              "      <td>1938</td>\n",
              "      <td>[Action, Adventure, Crime]</td>\n",
              "      <td>Kenneth Hale, a pampered, snobbish young boy is sent by his father, John Hale, who has served time in prison for a crime he did not commit, down to the country farm of an old friend, Calvin Whittaker. The barefooted, honest and plucky Billy Whittaker, his girlfriend, Pige Bennett, and punky Kenneth get involved with a \"haunted\" house and a gang of crooks.</td>\n",
              "      <td>[Karl Brown]</td>\n",
              "      <td>[Jackie Moran, Marcia Mae Jones, Ralph Morgan]</td>\n",
              "    </tr>\n",
              "    <tr>\n",
              "      <th>12</th>\n",
              "      <td>47390e712fbe452a9ab62132db7836fe</td>\n",
              "      <td>Borderline</td>\n",
              "      <td>1950</td>\n",
              "      <td>[Crime, Drama, Noir]</td>\n",
              "      <td>Two undercover agents infiltrate a drug-smuggling ring in Mexico, but neither is aware of the other's identity.</td>\n",
              "      <td>[William A. Seiter]</td>\n",
              "      <td>[Fred MacMurray, Claire Trevor, Raymond Burr]</td>\n",
              "    </tr>\n",
              "    <tr>\n",
              "      <th>13</th>\n",
              "      <td>19eff70e96924a6496635736387e6fc5</td>\n",
              "      <td>Charlie Chaplin's The Vagabond</td>\n",
              "      <td>1916</td>\n",
              "      <td>[Short, Comedy]</td>\n",
              "      <td>Charlie, the emotional violinist, flees to a gipsy camp, only to find himself playing for an abducted girl. Soon, a unique birthmark will pave the way for an unexpected rescue and a marvellous new life. But, will she forget him so easily?</td>\n",
              "      <td>[Charles Chaplin]</td>\n",
              "      <td>[Charles Chaplin, Edna Purviance, Eric Campbell]</td>\n",
              "    </tr>\n",
              "    <tr>\n",
              "      <th>14</th>\n",
              "      <td>7150410637e24c4ca5e67bdcc41085ac</td>\n",
              "      <td>Galloping Romeo</td>\n",
              "      <td>1933</td>\n",
              "      <td>[Action, Adventure, Drama]</td>\n",
              "      <td>Money is mysteriously disappearing from a locked trunk atop the stage even though the trunk arrives still locked. When pals Bob Rivers and Grizzly get the job driving the stage, the same thing happens.</td>\n",
              "      <td>[Robert N. Bradbury]</td>\n",
              "      <td>[Bob Steele, Doris Hill, George 'Gabby' Hayes]</td>\n",
              "    </tr>\n",
              "    <tr>\n",
              "      <th>15</th>\n",
              "      <td>d8594f27c94b481b99985c5855c17c9e</td>\n",
              "      <td>His Girl Friday</td>\n",
              "      <td>1940</td>\n",
              "      <td>[Comedy, Drama, Romance]</td>\n",
              "      <td>A newspaper editor uses every trick in the book to keep his ace reporter ex-wife from remarrying.</td>\n",
              "      <td>[Howard Hawks]</td>\n",
              "      <td>[Cary Grant, Rosalind Russell, Ralph Bellamy]</td>\n",
              "    </tr>\n",
              "    <tr>\n",
              "      <th>16</th>\n",
              "      <td>5d55325b03ce4b2c8f3396638f068a1c</td>\n",
              "      <td>The Star Packer</td>\n",
              "      <td>1934</td>\n",
              "      <td>[Action, Mystery, Romance, Western]</td>\n",
              "      <td>A gang working for The Shadow is terrorizing the town. John Travers decides to take on the job of sheriff and do something about it.</td>\n",
              "      <td>[Robert N. Bradbury]</td>\n",
              "      <td>[John Wayne, Verna Hillie, George 'Gabby' Hayes]</td>\n",
              "    </tr>\n",
              "    <tr>\n",
              "      <th>17</th>\n",
              "      <td>03e766ae999c4d05b2d3cc490b38e06c</td>\n",
              "      <td>Scarlet Street</td>\n",
              "      <td>1945</td>\n",
              "      <td>[Drama, Noir, Thriller]</td>\n",
              "      <td>When a man in mid-life crisis befriends a young woman, her venal fiancé persuades her to con him out of the fortune they mistakenly assume he possesses.</td>\n",
              "      <td>[Fritz Lang]</td>\n",
              "      <td>[Edward G. Robinson, Joan Bennett, Dan Duryea]</td>\n",
              "    </tr>\n",
              "    <tr>\n",
              "      <th>18</th>\n",
              "      <td>14d208c6f0264d5eb1ce83a60b19ef43</td>\n",
              "      <td>Charlie Chaplin's A Burlesque On Carmen</td>\n",
              "      <td>1915</td>\n",
              "      <td>[Short, Comedy]</td>\n",
              "      <td>A gypsy seductress is sent to sway a goofy officer to allow a smuggling run.</td>\n",
              "      <td>[Charles Chaplin, Leo White]</td>\n",
              "      <td>[Charles Chaplin, Edna Purviance, Ben Turpin]</td>\n",
              "    </tr>\n",
              "    <tr>\n",
              "      <th>19</th>\n",
              "      <td>92b566058c1443dd90f01342ecd763b5</td>\n",
              "      <td>Charlie Chaplin's The Pawnshop</td>\n",
              "      <td>1916</td>\n",
              "      <td>[Short, Comedy]</td>\n",
              "      <td>Charlie competes with his fellow shop assistant. He is fired by the pawnbroker and rehired. He nearly destroys everything in the shop and himself. He helps capture a burglar. He destroys a client's clock while examining it in detail.</td>\n",
              "      <td>[Charles Chaplin]</td>\n",
              "      <td>[Charles Chaplin, Henry Bergman, Edna Purviance]</td>\n",
              "    </tr>\n",
              "    <tr>\n",
              "      <th>20</th>\n",
              "      <td>db728e8c6c134a43b789d72953d360e4</td>\n",
              "      <td>Manfish</td>\n",
              "      <td>1958</td>\n",
              "      <td>[Adventure]</td>\n",
              "      <td>Three deep sea divers get involved in murder while searching for a lost treasure.</td>\n",
              "      <td>[W. Lee Wilder]</td>\n",
              "      <td>[John Bromfield, Lon Chaney Jr., Victor Jory]</td>\n",
              "    </tr>\n",
              "    <tr>\n",
              "      <th>21</th>\n",
              "      <td>9dc976bf36904926928abcdcf7c924a5</td>\n",
              "      <td>Carnival of Souls</td>\n",
              "      <td>1962</td>\n",
              "      <td>[Horror, Mystery]</td>\n",
              "      <td>After a traumatic accident, a woman becomes drawn to a mysterious abandoned carnival.</td>\n",
              "      <td>[Herk Harvey]</td>\n",
              "      <td>[Candace Hilligoss, Frances Feist, Sidney Berger]</td>\n",
              "    </tr>\n",
              "    <tr>\n",
              "      <th>22</th>\n",
              "      <td>fe5901c51ca44c8cb40507949b2f2da0</td>\n",
              "      <td>The Snows Of Kilimanjaro</td>\n",
              "      <td>1952</td>\n",
              "      <td>[Adventure, Drama, Romance]</td>\n",
              "      <td>Writer Harry Street reflects on his life as he lies dying from an infection while on safari in the shadow of Mount Kilamanjaro.</td>\n",
              "      <td>[Henry King, Roy Ward Baker]</td>\n",
              "      <td>[Gregory Peck, Susan Hayward, Ava Gardner]</td>\n",
              "    </tr>\n",
              "    <tr>\n",
              "      <th>23</th>\n",
              "      <td>d3ae2ba361ca496b82c5622c8b626277</td>\n",
              "      <td>Millie</td>\n",
              "      <td>1931</td>\n",
              "      <td>[Drama, Romance]</td>\n",
              "      <td>Millie's life begins to crumble when she finds out her husband is having an affair.</td>\n",
              "      <td>[John Francis Dillon]</td>\n",
              "      <td>[Helen Twelvetrees, Lilyan Tashman, Robert Ames]</td>\n",
              "    </tr>\n",
              "    <tr>\n",
              "      <th>24</th>\n",
              "      <td>9db604ab028c4d2ca7f299d5ed610dfc</td>\n",
              "      <td>My Man Godfrey</td>\n",
              "      <td>1936</td>\n",
              "      <td>[Comedy, Drama, Romance]</td>\n",
              "      <td>A scatterbrained socialite hires a vagrant as a family butler - but there's more to Godfrey than meets the eye.</td>\n",
              "      <td>[Gregory La Cava]</td>\n",
              "      <td>[William Powell, Carole Lombard, Alice Brady]</td>\n",
              "    </tr>\n",
              "    <tr>\n",
              "      <th>25</th>\n",
              "      <td>315033f27af947ab8bcd404e1ee9a101</td>\n",
              "      <td>Million Dollar Kid</td>\n",
              "      <td>1944</td>\n",
              "      <td>[Comedy]</td>\n",
              "      <td>The gang is befriended by a millionaire whom they save from a mugging. However, they begin to suspect that the man's son was actually one of the muggers. Knowing that the boy's father is still grieving for an older son he lost during the war, and would be devastated if he learned his only remaining son was a criminal, the gang sets out to reform the boy.</td>\n",
              "      <td>[Wallace Fox]</td>\n",
              "      <td>[Leo Gorcey, Huntz Hall, Gabriel Dell]</td>\n",
              "    </tr>\n",
              "    <tr>\n",
              "      <th>26</th>\n",
              "      <td>02d4f14c804947ca927b7455141bcea9</td>\n",
              "      <td>The Outlaw</td>\n",
              "      <td>1943</td>\n",
              "      <td>[Comedy, Drama, Romance]</td>\n",
              "      <td>Western legends Pat Garrett, Doc Holliday and Billy the Kid are played against each other over the law and the attentions of vivacious country vixen Rio McDonald.</td>\n",
              "      <td>[Howard Hughes, Howard Hawks]</td>\n",
              "      <td>[Jack Buetel, Thomas Mitchell, Jane Russell]</td>\n",
              "    </tr>\n",
              "    <tr>\n",
              "      <th>27</th>\n",
              "      <td>ea77b983d3644fdd9bc6282cd60e40bc</td>\n",
              "      <td>She Gods Of Shark Reef</td>\n",
              "      <td>1958</td>\n",
              "      <td>[Adventure]</td>\n",
              "      <td>Two brothers, one wanted for murder, are shipwrecked on an island inhabited by nubile young women who have amassed a valuable cache of pearls.</td>\n",
              "      <td>[Roger Corman]</td>\n",
              "      <td>[Bill Cord, Don Durant, Lisa Montell]</td>\n",
              "    </tr>\n",
              "    <tr>\n",
              "      <th>28</th>\n",
              "      <td>41a069f0d71042be908429adf7e1324e</td>\n",
              "      <td>Plan 9 From Outer Space</td>\n",
              "      <td>1957</td>\n",
              "      <td>[Horror, Scifi]</td>\n",
              "      <td>Evil aliens attack Earth and set their terrible \"Plan 9\" into action. As the aliens resurrect the dead of the Earth, the lives of the living are in danger.</td>\n",
              "      <td>[Edward D. Wood Jr.]</td>\n",
              "      <td>[Gregory Walcott, Tom Keene, Mona McKinnon]</td>\n",
              "    </tr>\n",
              "    <tr>\n",
              "      <th>29</th>\n",
              "      <td>78baeb60405941728509272c0991e293</td>\n",
              "      <td>A Star Is Born</td>\n",
              "      <td>1937</td>\n",
              "      <td>[Drama, Romance]</td>\n",
              "      <td>A young woman comes to Hollywood with dreams of stardom, and achieves them only with the help of an alcoholic leading man whose best days are behind him.</td>\n",
              "      <td>[William A. Wellman, Jack Conway]</td>\n",
              "      <td>[Janet Gaynor, Fredric March, Adolphe Menjou]</td>\n",
              "    </tr>\n",
              "    <tr>\n",
              "      <th>30</th>\n",
              "      <td>38b77b1141af4b468413c62cadd916a6</td>\n",
              "      <td>Night Of The Living Dead</td>\n",
              "      <td>1968</td>\n",
              "      <td>[Horror, Thriller]</td>\n",
              "      <td>A ragtag group of Pennsylvanians barricade themselves in an old farmhouse to remain safe from a bloodthirsty, flesh-eating breed of monsters who are ravaging the East Coast of the United States.</td>\n",
              "      <td>[George A. Romero]</td>\n",
              "      <td>[Duane Jones, Judith O'Dea, Karl Hardman]</td>\n",
              "    </tr>\n",
              "    <tr>\n",
              "      <th>31</th>\n",
              "      <td>16c4b6cf6d1e411db4953b205ecbc102</td>\n",
              "      <td>Penny Serenade</td>\n",
              "      <td>1941</td>\n",
              "      <td>[Drama, Romance]</td>\n",
              "      <td>A couple's big dreams give way to a life full of unexpected sadness and unexpected joy.</td>\n",
              "      <td>[George Stevens]</td>\n",
              "      <td>[Cary Grant, Irene Dunne, Beulah Bondi]</td>\n",
              "    </tr>\n",
              "    <tr>\n",
              "      <th>32</th>\n",
              "      <td>1e06d628af564e20a1beb9837d100fe1</td>\n",
              "      <td>The Brain That Wouldn't Die</td>\n",
              "      <td>1962</td>\n",
              "      <td>[Horror, SciFi]</td>\n",
              "      <td>A doctor experimenting with transplant techniques keeps his girlfriend's head alive when she is decapitated in a car crash, then goes hunting for a new body.</td>\n",
              "      <td>[Joseph Green]</td>\n",
              "      <td>[Jason Evers, Virginia Leith, Anthony La Penna]</td>\n",
              "    </tr>\n",
              "    <tr>\n",
              "      <th>33</th>\n",
              "      <td>33542b5771474f0c9493e5dc747d5806</td>\n",
              "      <td>Call Of The Yukon</td>\n",
              "      <td>1938</td>\n",
              "      <td>[Action, Adventure, Drama]</td>\n",
              "      <td>A fur trader guides a writer and her animals to safety in the Yukon territory when wolves are about to attack.</td>\n",
              "      <td>[B. Reeves Eason, John T. Coyle]</td>\n",
              "      <td>[Richard Arlen, Beverly Roberts, Lyle Talbot]</td>\n",
              "    </tr>\n",
              "    <tr>\n",
              "      <th>34</th>\n",
              "      <td>62b36e28f1d6443c8bef36f7cd216a7d</td>\n",
              "      <td>A Christmas Carol</td>\n",
              "      <td>1910</td>\n",
              "      <td>[Drama, Fantasy]</td>\n",
              "      <td>Based on the story by Charles Dickens: Ebenezer Scrooge is well known for his harsh, miserly ways, until he is visited by the ghost of his former business partner, and then by three other spirits.</td>\n",
              "      <td>[J. Searle Dawley, Charles Kent, Ashley Miller]</td>\n",
              "      <td>[Marc McDermott, Charles Ogle, William Bechtel, Viola Dana, Carey Lee, Shirley Mason]</td>\n",
              "    </tr>\n",
              "    <tr>\n",
              "      <th>35</th>\n",
              "      <td>721d6c4a6c0746f3893a7721372da07a</td>\n",
              "      <td>Ambush Valley</td>\n",
              "      <td>1936</td>\n",
              "      <td>[Action, Western]</td>\n",
              "      <td>When Clay Morgan kills Joel Potter, Marshal Manning has to arrest the brother of the girl he plans to marry. When the Morgans effect Clay's escape, the Potters take Ann Morgan as a hostage. Manning is now caught in the middle and the two sides are about to fight it out.</td>\n",
              "      <td>[Bernard B. Ray]</td>\n",
              "      <td>[Bob Custer, Victoria Vinton, Vane Calvert]</td>\n",
              "    </tr>\n",
              "    <tr>\n",
              "      <th>36</th>\n",
              "      <td>0570da091e71401295cb5f8cd33ea336</td>\n",
              "      <td>A Stranger In Town</td>\n",
              "      <td>1943</td>\n",
              "      <td>[Drama, Romance]</td>\n",
              "      <td>A Supreme Court justice on a duck-hunting foray becomes involved in serious trouble with the citizens in a small town.</td>\n",
              "      <td>[Ray Rowland]</td>\n",
              "      <td>[Franek Morgan, Richard Carlson, Jean Rogers]</td>\n",
              "    </tr>\n",
              "    <tr>\n",
              "      <th>37</th>\n",
              "      <td>09bd0daa54ac4c349bfa1e45687a37f4</td>\n",
              "      <td>The Big Combo</td>\n",
              "      <td>1955</td>\n",
              "      <td>[Crime, Drama, Noir]</td>\n",
              "      <td>A police lt. is ordered to stop investigating deadly crime boss Mr. Brown, because he hasn't been able to get any hard evidence against him. He then goes after Brown's girlfriend who despises him, for information instead.</td>\n",
              "      <td>[Joseph H. Lewis]</td>\n",
              "      <td>[Cornel Wilde, Richard Conte, Jean Wallace]</td>\n",
              "    </tr>\n",
              "    <tr>\n",
              "      <th>38</th>\n",
              "      <td>37e2c6e074394731bf686c2a4ebbf3c1</td>\n",
              "      <td>Charlie Chaplin's A Fair Exchange</td>\n",
              "      <td>1914</td>\n",
              "      <td>[Short, Comedy]</td>\n",
              "      <td>A continuous exchange of meetings between husbands and wives of different couples in which a policeman intrudes in daring chase until both couples are found.</td>\n",
              "      <td>[Charles Chaplin]</td>\n",
              "      <td>[Charles Chaplin, Phyllis Allen, Mack Swain]</td>\n",
              "    </tr>\n",
              "    <tr>\n",
              "      <th>39</th>\n",
              "      <td>93408d720a73433381f3e35c90467eaa</td>\n",
              "      <td>Danger Flight</td>\n",
              "      <td>1939</td>\n",
              "      <td>[Adventure, Romance]</td>\n",
              "      <td>Tailspin Tommy is flying through a severe storm to deliver a payroll. What he doesn't know is that a gang of crooks is setting a trap for him in order to get their hands on the money.</td>\n",
              "      <td>[Howard Bretherton]</td>\n",
              "      <td>[John Trent, Marjorie Reynolds, Milburn Stone]</td>\n",
              "    </tr>\n",
              "    <tr>\n",
              "      <th>40</th>\n",
              "      <td>1ed15145f6e24781a2d7841caaad56c2</td>\n",
              "      <td>The Big Show</td>\n",
              "      <td>1936</td>\n",
              "      <td>[Action, Comedy, Music]</td>\n",
              "      <td>At the Texas Centennial in Dallas Autry confuses two girls by being himself and his own stunt double.</td>\n",
              "      <td>[Mack V. Wright, Joseph Kane]</td>\n",
              "      <td>[Gene Autry, Smiley Burnette, Kay Hughes]</td>\n",
              "    </tr>\n",
              "    <tr>\n",
              "      <th>41</th>\n",
              "      <td>7d40352cdcfb4199acf7324a4a7c60e8</td>\n",
              "      <td>A Bucket Of Blood</td>\n",
              "      <td>1959</td>\n",
              "      <td>[Comedy, Crime, Horror]</td>\n",
              "      <td>A dim-witted busboy finds acclaim as an artist for a plaster-covered dead cat that is mistaken as a skillful statuette. The desire for more praise soon leads to an increasingly deadly series of works.</td>\n",
              "      <td>[Roger Corman]</td>\n",
              "      <td>[Dick Miller, Barboura Morris, Antony Carbone]</td>\n",
              "    </tr>\n",
              "    <tr>\n",
              "      <th>42</th>\n",
              "      <td>c03c4921cf1d4fba851197ec99c51da6</td>\n",
              "      <td>House On Haunted Hill</td>\n",
              "      <td>1959</td>\n",
              "      <td>[Horror, Mystery]</td>\n",
              "      <td>A millionaire offers $10,000 to five people who agree to be locked in a large, spooky, rented house overnight with him and his wife.</td>\n",
              "      <td>[William Castle]</td>\n",
              "      <td>[Vincent Price, Carol Ohmart, Richard Long]</td>\n",
              "    </tr>\n",
              "    <tr>\n",
              "      <th>43</th>\n",
              "      <td>0254461677cf4d0aa48319e226a68ca5</td>\n",
              "      <td>Teenagers from Outer Space</td>\n",
              "      <td>1959</td>\n",
              "      <td>[Horror, Scifi, Thriller]</td>\n",
              "      <td>A young alien and a teenage earthling fall in love, and plot to stop the alien's race from using Earth as a food-breeding ground for giant lobsters from their planet.</td>\n",
              "      <td>[Tom Graeff]</td>\n",
              "      <td>[David Love, Dawn Bender, Bryan Grant]</td>\n",
              "    </tr>\n",
              "    <tr>\n",
              "      <th>44</th>\n",
              "      <td>2822e173b50243348e49c8813510f563</td>\n",
              "      <td>The Ghoul</td>\n",
              "      <td>1933</td>\n",
              "      <td>[Action, Drama, Horror]</td>\n",
              "      <td>An Egyptologist returns from the dead to take revenge on those who have violated his tomb.</td>\n",
              "      <td>[T. Hayes Hunter]</td>\n",
              "      <td>[Boris Karloff, Cedric Hardwicke, Ernest Thesiger]</td>\n",
              "    </tr>\n",
              "    <tr>\n",
              "      <th>45</th>\n",
              "      <td>cc346358768c41fe9dac75f475a1281e</td>\n",
              "      <td>The Light In The Dark</td>\n",
              "      <td>1922</td>\n",
              "      <td>[Short, Crime, Drama]</td>\n",
              "      <td>A young girl is struck and seriously injured by a wealthy society matron's car. The woman brings the girl back to her house. Later, a hardened thief is told by the girl of a goblet, that could be the Holy Grail, which has healing powers and could help her. The thief, touched by her predicament, sets out to steal the goblet and bring it to her.</td>\n",
              "      <td>[Clarence Brown]</td>\n",
              "      <td>[Hope Hampton, E.K. Lincoln, Lon Chaney]</td>\n",
              "    </tr>\n",
              "    <tr>\n",
              "      <th>46</th>\n",
              "      <td>53461fabeaef483e942c9aaad235ca4d</td>\n",
              "      <td>Life With Father</td>\n",
              "      <td>1947</td>\n",
              "      <td>[Comedy]</td>\n",
              "      <td>A financier from New York City rules his numerous family, consisting of his wife and his four sons, with the meticulousness of a bookkeeper.</td>\n",
              "      <td>[Michael Curtiz]</td>\n",
              "      <td>[William Powell, Irene Dunne, Elizabeth Taylor]</td>\n",
              "    </tr>\n",
              "    <tr>\n",
              "      <th>47</th>\n",
              "      <td>4bf0b9efdca047028436d851a7143b05</td>\n",
              "      <td>Charlie Chaplin's The Knockout</td>\n",
              "      <td>1914</td>\n",
              "      <td>[Short, Comedy]</td>\n",
              "      <td>To show his girl how brave he is Fatty challenges the champion to a fight. Charlie referees, trying to avoid contact with the two monsters.</td>\n",
              "      <td>[Mark Sennett]</td>\n",
              "      <td>[Roscoe 'Fatty' Arbuckle, Edgar Kennedy, Charles Chaplin]</td>\n",
              "    </tr>\n",
              "    <tr>\n",
              "      <th>48</th>\n",
              "      <td>435422be103842c982e300a633ac9591</td>\n",
              "      <td>Made For Each Other</td>\n",
              "      <td>1939</td>\n",
              "      <td>[Comedy, Drama, Romance]</td>\n",
              "      <td>While on a business trip, an ambitious young lawyer meets and immediately falls in love with a stranger. They wed the following day, and tragedy soon strikes.</td>\n",
              "      <td>[John Cromwell]</td>\n",
              "      <td>[Carole Lombard, James Stewart, Charles Coburn]</td>\n",
              "    </tr>\n",
              "  </tbody>\n",
              "</table>\n",
              "</div>"
            ],
            "text/plain": [
              "                                  ID  ...                                                                                   Cast\n",
              "0   b70eec12b79148dfbc97ac3b69ca49bf  ...                                                 [Paul Muni, Anne Baxter, Claude Rains]\n",
              "1   1950e4a11304438dbfd4792a908fc76f  ...                                         [Douglas Fairbanks, Jewel Carmen, Howard Gaye]\n",
              "2   37d8cae8d87f4dbc9cf8967454537afb  ...                                                  [Tom Neal, Ann Savage, Claudia Drake]\n",
              "3   b99dd03c00cc4fb9b2d4ad26082de498  ...                                             [Kirk Douglas, Eve Miller, Patrice Wymore]\n",
              "4   5566ce75b5954f3dad323c2f154856a3  ...                                                    [Sabu, Joseph Calleia, John Qualen]\n",
              "5   62e08996bb034303a417d10e136bedda  ...                                             [Wallace Beery, Bessie Love, Lloyd Hughes]\n",
              "6   74ac96777a4d404b8eba028e44f8f06b  ...                                                                                     []\n",
              "7   4014bc52406d47d88f077ab9ca6e988c  ...                                        [Mickey Hargitay, Walter Brandi, Luisa Baratto]\n",
              "8   97063c49fbe94966a7f883594896855b  ...                                     [Charles Chaplin, Edna Purviance, James T. Kelley]\n",
              "9   3cb4bd7eed36485c8faf54c41c243f20  ...                                               [John Wayne, Lucile Browne, LeRoy Mason]\n",
              "10  5807bf3c700d4a659a74fc15de8b923c  ...                                [Belle Bennett, Marguerite De La Motte, Dorothy Revier]\n",
              "11  734953cfa879481ca4fd1a264b41c4ad  ...                                         [Jackie Moran, Marcia Mae Jones, Ralph Morgan]\n",
              "12  47390e712fbe452a9ab62132db7836fe  ...                                          [Fred MacMurray, Claire Trevor, Raymond Burr]\n",
              "13  19eff70e96924a6496635736387e6fc5  ...                                       [Charles Chaplin, Edna Purviance, Eric Campbell]\n",
              "14  7150410637e24c4ca5e67bdcc41085ac  ...                                         [Bob Steele, Doris Hill, George 'Gabby' Hayes]\n",
              "15  d8594f27c94b481b99985c5855c17c9e  ...                                          [Cary Grant, Rosalind Russell, Ralph Bellamy]\n",
              "16  5d55325b03ce4b2c8f3396638f068a1c  ...                                       [John Wayne, Verna Hillie, George 'Gabby' Hayes]\n",
              "17  03e766ae999c4d05b2d3cc490b38e06c  ...                                         [Edward G. Robinson, Joan Bennett, Dan Duryea]\n",
              "18  14d208c6f0264d5eb1ce83a60b19ef43  ...                                          [Charles Chaplin, Edna Purviance, Ben Turpin]\n",
              "19  92b566058c1443dd90f01342ecd763b5  ...                                       [Charles Chaplin, Henry Bergman, Edna Purviance]\n",
              "20  db728e8c6c134a43b789d72953d360e4  ...                                          [John Bromfield, Lon Chaney Jr., Victor Jory]\n",
              "21  9dc976bf36904926928abcdcf7c924a5  ...                                      [Candace Hilligoss, Frances Feist, Sidney Berger]\n",
              "22  fe5901c51ca44c8cb40507949b2f2da0  ...                                             [Gregory Peck, Susan Hayward, Ava Gardner]\n",
              "23  d3ae2ba361ca496b82c5622c8b626277  ...                                       [Helen Twelvetrees, Lilyan Tashman, Robert Ames]\n",
              "24  9db604ab028c4d2ca7f299d5ed610dfc  ...                                          [William Powell, Carole Lombard, Alice Brady]\n",
              "25  315033f27af947ab8bcd404e1ee9a101  ...                                                 [Leo Gorcey, Huntz Hall, Gabriel Dell]\n",
              "26  02d4f14c804947ca927b7455141bcea9  ...                                           [Jack Buetel, Thomas Mitchell, Jane Russell]\n",
              "27  ea77b983d3644fdd9bc6282cd60e40bc  ...                                                  [Bill Cord, Don Durant, Lisa Montell]\n",
              "28  41a069f0d71042be908429adf7e1324e  ...                                            [Gregory Walcott, Tom Keene, Mona McKinnon]\n",
              "29  78baeb60405941728509272c0991e293  ...                                          [Janet Gaynor, Fredric March, Adolphe Menjou]\n",
              "30  38b77b1141af4b468413c62cadd916a6  ...                                              [Duane Jones, Judith O'Dea, Karl Hardman]\n",
              "31  16c4b6cf6d1e411db4953b205ecbc102  ...                                                [Cary Grant, Irene Dunne, Beulah Bondi]\n",
              "32  1e06d628af564e20a1beb9837d100fe1  ...                                        [Jason Evers, Virginia Leith, Anthony La Penna]\n",
              "33  33542b5771474f0c9493e5dc747d5806  ...                                          [Richard Arlen, Beverly Roberts, Lyle Talbot]\n",
              "34  62b36e28f1d6443c8bef36f7cd216a7d  ...  [Marc McDermott, Charles Ogle, William Bechtel, Viola Dana, Carey Lee, Shirley Mason]\n",
              "35  721d6c4a6c0746f3893a7721372da07a  ...                                            [Bob Custer, Victoria Vinton, Vane Calvert]\n",
              "36  0570da091e71401295cb5f8cd33ea336  ...                                          [Franek Morgan, Richard Carlson, Jean Rogers]\n",
              "37  09bd0daa54ac4c349bfa1e45687a37f4  ...                                            [Cornel Wilde, Richard Conte, Jean Wallace]\n",
              "38  37e2c6e074394731bf686c2a4ebbf3c1  ...                                           [Charles Chaplin, Phyllis Allen, Mack Swain]\n",
              "39  93408d720a73433381f3e35c90467eaa  ...                                         [John Trent, Marjorie Reynolds, Milburn Stone]\n",
              "40  1ed15145f6e24781a2d7841caaad56c2  ...                                              [Gene Autry, Smiley Burnette, Kay Hughes]\n",
              "41  7d40352cdcfb4199acf7324a4a7c60e8  ...                                         [Dick Miller, Barboura Morris, Antony Carbone]\n",
              "42  c03c4921cf1d4fba851197ec99c51da6  ...                                            [Vincent Price, Carol Ohmart, Richard Long]\n",
              "43  0254461677cf4d0aa48319e226a68ca5  ...                                                 [David Love, Dawn Bender, Bryan Grant]\n",
              "44  2822e173b50243348e49c8813510f563  ...                                     [Boris Karloff, Cedric Hardwicke, Ernest Thesiger]\n",
              "45  cc346358768c41fe9dac75f475a1281e  ...                                               [Hope Hampton, E.K. Lincoln, Lon Chaney]\n",
              "46  53461fabeaef483e942c9aaad235ca4d  ...                                        [William Powell, Irene Dunne, Elizabeth Taylor]\n",
              "47  4bf0b9efdca047028436d851a7143b05  ...                              [Roscoe 'Fatty' Arbuckle, Edgar Kennedy, Charles Chaplin]\n",
              "48  435422be103842c982e300a633ac9591  ...                                        [Carole Lombard, James Stewart, Charles Coburn]\n",
              "\n",
              "[49 rows x 7 columns]"
            ]
          },
          "metadata": {
            "tags": []
          },
          "execution_count": 7
        }
      ]
    },
    {
      "cell_type": "code",
      "metadata": {
        "colab": {
          "base_uri": "https://localhost:8080/"
        },
        "id": "6SMUIMHCqIJf",
        "outputId": "d84997b3-d048-417f-e28a-01cf744d845c"
      },
      "source": [
        "df4['Synopsis']"
      ],
      "execution_count": 8,
      "outputs": [
        {
          "output_type": "execute_result",
          "data": {
            "text/plain": [
              "0                                                                                                                                                                                                                                                 The Devil arranges for a deceased gangster to return to Earth as a well-respected judge to make up for his previous life.\n",
              "1                                                                                                                                                                                              In the midst of an emotional depression, a man hires a murderer to kill him. But the despair soon passes, and the man must now escape the killer he's hired to end his life.\n",
              "2                                                                                                                                                                                                                                                                                       Chance events trap hitch-hiker Al Roberts in a tightening net of film noir trouble.\n",
              "3                                                                                                                                                                                                                                                                                                     A Quaker colony tries to save the giant sequoias from a timber baron.\n",
              "4                                                                                                                                                                                                                                                                                                    \\r\\nA boy raised by wild animals tries to adapt to human village life.\n",
              "5                                                                                                                                                                                                                                                  The first film adaptation of Sir Arthur Conan Doyle's classic novel about a land where prehistoric creatures still roam.\n",
              "6                                                                                                                                                                             In the city of Suddenly, three gangsters trap the Benson family in their own house, on the top of a hill nearby the railroad station, with the intention of killing the president of the USA.\n",
              "7                                                             A photographer and his models go to an old, abandoned castle to shoot some sexy covers for horror novels. Unbeknownst to them, the castle is inhabited by a lunatic who believes himself to be the reincarnated spirit of a 17th-century executioner whose job it is to protect the castle against intruders.\n",
              "8                                                                                                                                                                                                                                                                After causing restaurant chaos at work, a bumbling waiter tears up the local roller rink with his skating.\n",
              "9                                                                                                 Sheriff John Higgins quits and goes into prospecting after he thinks he has killed his best friend in shooting it out with robbers. He encounters his dead buddy's daughter, who has come from back east, and helps her run her ranch. Then she finds out about his past.\n",
              "10                                                                                                                                                                                                                                                                                                          An adaptation of the French legend of the Man in the Iron Mask.\n",
              "11    Kenneth Hale, a pampered, snobbish young boy is sent by his father, John Hale, who has served time in prison for a crime he did not commit, down to the country farm of an old friend, Calvin Whittaker. The barefooted, honest and plucky Billy Whittaker, his girlfriend, Pige Bennett, and punky Kenneth get involved with a \"haunted\" house and a gang of crooks.\n",
              "12                                                                                                                                                                                                                                                          Two undercover agents infiltrate a drug-smuggling ring in Mexico, but neither is aware of the other's identity.\n",
              "13                                                                                                                           Charlie, the emotional violinist, flees to a gipsy camp, only to find himself playing for an abducted girl. Soon, a unique birthmark will pave the way for an unexpected rescue and a marvellous new life. But, will she forget him so easily?\n",
              "14                                                                                                                                                                Money is mysteriously disappearing from a locked trunk atop the stage even though the trunk arrives still locked. When pals Bob Rivers and Grizzly get the job driving the stage, the same thing happens.\n",
              "15                                                                                                                                                                                                                                                                        A newspaper editor uses every trick in the book to keep his ace reporter ex-wife from remarrying.\n",
              "16                                                                                                                                                                                                                                     A gang working for The Shadow is terrorizing the town. John Travers decides to take on the job of sheriff and do something about it.\n",
              "17                                                                                                                                                                                                                 When a man in mid-life crisis befriends a young woman, her venal fiancé persuades her to con him out of the fortune they mistakenly assume he possesses.\n",
              "18                                                                                                                                                                                                                                                                                             A gypsy seductress is sent to sway a goofy officer to allow a smuggling run.\n",
              "19                                                                                                                                Charlie competes with his fellow shop assistant. He is fired by the pawnbroker and rehired. He nearly destroys everything in the shop and himself. He helps capture a burglar. He destroys a client's clock while examining it in detail.\n",
              "20                                                                                                                                                                                                                                                                                        Three deep sea divers get involved in murder while searching for a lost treasure.\n",
              "21                                                                                                                                                                                                                                                                                    After a traumatic accident, a woman becomes drawn to a mysterious abandoned carnival.\n",
              "22                                                                                                                                                                                                                                          Writer Harry Street reflects on his life as he lies dying from an infection while on safari in the shadow of Mount Kilamanjaro.\n",
              "23                                                                                                                                                                                                                                                                                      Millie's life begins to crumble when she finds out her husband is having an affair.\n",
              "24                                                                                                                                                                                                                                                          A scatterbrained socialite hires a vagrant as a family butler - but there's more to Godfrey than meets the eye.\n",
              "25     The gang is befriended by a millionaire whom they save from a mugging. However, they begin to suspect that the man's son was actually one of the muggers. Knowing that the boy's father is still grieving for an older son he lost during the war, and would be devastated if he learned his only remaining son was a criminal, the gang sets out to reform the boy.\n",
              "26                                                                                                                                                                                                       Western legends Pat Garrett, Doc Holliday and Billy the Kid are played against each other over the law and the attentions of vivacious country vixen Rio McDonald.\n",
              "27                                                                                                                                                                                                                           Two brothers, one wanted for murder, are shipwrecked on an island inhabited by nubile young women who have amassed a valuable cache of pearls.\n",
              "28                                                                                                                                                                                                              Evil aliens attack Earth and set their terrible \"Plan 9\" into action. As the aliens resurrect the dead of the Earth, the lives of the living are in danger.\n",
              "29                                                                                                                                                                                                                A young woman comes to Hollywood with dreams of stardom, and achieves them only with the help of an alcoholic leading man whose best days are behind him.\n",
              "30                                                                                                                                                                       A ragtag group of Pennsylvanians barricade themselves in an old farmhouse to remain safe from a bloodthirsty, flesh-eating breed of monsters who are ravaging the East Coast of the United States.\n",
              "31                                                                                                                                                                                                                                                                                  A couple's big dreams give way to a life full of unexpected sadness and unexpected joy.\n",
              "32                                                                                                                                                                                                            A doctor experimenting with transplant techniques keeps his girlfriend's head alive when she is decapitated in a car crash, then goes hunting for a new body.\n",
              "33                                                                                                                                                                                                                                                           A fur trader guides a writer and her animals to safety in the Yukon territory when wolves are about to attack.\n",
              "34                                                                                                                                                                     Based on the story by Charles Dickens: Ebenezer Scrooge is well known for his harsh, miserly ways, until he is visited by the ghost of his former business partner, and then by three other spirits.\n",
              "35                                                                                           When Clay Morgan kills Joel Potter, Marshal Manning has to arrest the brother of the girl he plans to marry. When the Morgans effect Clay's escape, the Potters take Ann Morgan as a hostage. Manning is now caught in the middle and the two sides are about to fight it out.\n",
              "36                                                                                                                                                                                                                                                   A Supreme Court justice on a duck-hunting foray becomes involved in serious trouble with the citizens in a small town.\n",
              "37                                                                                                                                            A police lt. is ordered to stop investigating deadly crime boss Mr. Brown, because he hasn't been able to get any hard evidence against him. He then goes after Brown's girlfriend who despises him, for information instead.\n",
              "38                                                                                                                                                                                                            A continuous exchange of meetings between husbands and wives of different couples in which a policeman intrudes in daring chase until both couples are found.\n",
              "39                                                                                                                                                                                  Tailspin Tommy is flying through a severe storm to deliver a payroll. What he doesn't know is that a gang of crooks is setting a trap for him in order to get their hands on the money.\n",
              "40                                                                                                                                                                                                                                                                    At the Texas Centennial in Dallas Autry confuses two girls by being himself and his own stunt double.\n",
              "41                                                                                                                                                                 A dim-witted busboy finds acclaim as an artist for a plaster-covered dead cat that is mistaken as a skillful statuette. The desire for more praise soon leads to an increasingly deadly series of works.\n",
              "42                                                                                                                                                                                                                                     A millionaire offers $10,000 to five people who agree to be locked in a large, spooky, rented house overnight with him and his wife.\n",
              "43                                                                                                                                                                                                   A young alien and a teenage earthling fall in love, and plot to stop the alien's race from using Earth as a food-breeding ground for giant lobsters from their planet.\n",
              "44                                                                                                                                                                                                                                                                               An Egyptologist returns from the dead to take revenge on those who have violated his tomb.\n",
              "45                A young girl is struck and seriously injured by a wealthy society matron's car. The woman brings the girl back to her house. Later, a hardened thief is told by the girl of a goblet, that could be the Holy Grail, which has healing powers and could help her. The thief, touched by her predicament, sets out to steal the goblet and bring it to her.\n",
              "46                                                                                                                                                                                                                             A financier from New York City rules his numerous family, consisting of his wife and his four sons, with the meticulousness of a bookkeeper.\n",
              "47                                                                                                                                                                                                                              To show his girl how brave he is Fatty challenges the champion to a fight. Charlie referees, trying to avoid contact with the two monsters.\n",
              "48                                                                                                                                                                                                           While on a business trip, an ambitious young lawyer meets and immediately falls in love with a stranger. They wed the following day, and tragedy soon strikes.\n",
              "Name: Synopsis, dtype: object"
            ]
          },
          "metadata": {
            "tags": []
          },
          "execution_count": 8
        }
      ]
    },
    {
      "cell_type": "markdown",
      "metadata": {
        "id": "6w5EFD18t_As"
      },
      "source": [
        "## Data Processing"
      ]
    },
    {
      "cell_type": "markdown",
      "metadata": {
        "id": "ZRCiUEvCzluh"
      },
      "source": [
        "Using regular expression library, remove special characters and punctuations from the columns and make them into lower case while at it. This is so as to generate the keywords more easily. We remove the space between the names to avoid the scenario in the cosimilarity index where the cast/director have the same first name but different last name and the similarity index gets skewed.\n"
      ]
    },
    {
      "cell_type": "code",
      "metadata": {
        "id": "j470Wh8qjTq3"
      },
      "source": [
        "import re\n",
        "\n",
        "#set up punctuations to be replaced\n",
        "remove_punct_space = re.compile(\"(\\.)|(\\')|(\\s)\")\n",
        "remove_punct = re.compile(\"(\\.)|(\\')|(\\:)|(\\,)|(\\-)|(\\$)|(\\\")\")"
      ],
      "execution_count": 9,
      "outputs": []
    },
    {
      "cell_type": "code",
      "metadata": {
        "colab": {
          "base_uri": "https://localhost:8080/",
          "height": 986
        },
        "id": "cji7V_s_x92X",
        "outputId": "be60a282-b82b-4af4-ed62-409469c878bb"
      },
      "source": [
        "df4.iloc[4,4] = df4.iloc[4,4].replace('\\r\\n','')\n",
        "df4['Directors'] = df4['Directors'].map(lambda x : [ remove_punct_space.sub(\"\", y.lower()) for y in x ])\n",
        "df4['Cast'] = df4['Cast'].map(lambda x : [ remove_punct_space.sub(\"\", y.lower()) for y in x ])\n",
        "\n",
        "df4['Synopsis'] = df4['Synopsis'].map(lambda x: remove_punct.sub(\"\", x.lower()))\n",
        "df4['Title'] = df4['Title'].map(lambda x: remove_punct.sub(\"\", x.lower()))\n",
        "\n",
        "# Make the rest of the columns also lower case\n",
        "df4['Genres'] = df4['Genres'].map(lambda x: [ y.lower() for y in x ])\n",
        "df4.head()"
      ],
      "execution_count": 10,
      "outputs": [
        {
          "output_type": "stream",
          "text": [
            "/usr/local/lib/python3.7/dist-packages/pandas/core/indexing.py:1763: SettingWithCopyWarning: \n",
            "A value is trying to be set on a copy of a slice from a DataFrame.\n",
            "Try using .loc[row_indexer,col_indexer] = value instead\n",
            "\n",
            "See the caveats in the documentation: https://pandas.pydata.org/pandas-docs/stable/user_guide/indexing.html#returning-a-view-versus-a-copy\n",
            "  isetter(loc, value)\n",
            "/usr/local/lib/python3.7/dist-packages/ipykernel_launcher.py:2: SettingWithCopyWarning: \n",
            "A value is trying to be set on a copy of a slice from a DataFrame.\n",
            "Try using .loc[row_indexer,col_indexer] = value instead\n",
            "\n",
            "See the caveats in the documentation: https://pandas.pydata.org/pandas-docs/stable/user_guide/indexing.html#returning-a-view-versus-a-copy\n",
            "  \n",
            "/usr/local/lib/python3.7/dist-packages/ipykernel_launcher.py:3: SettingWithCopyWarning: \n",
            "A value is trying to be set on a copy of a slice from a DataFrame.\n",
            "Try using .loc[row_indexer,col_indexer] = value instead\n",
            "\n",
            "See the caveats in the documentation: https://pandas.pydata.org/pandas-docs/stable/user_guide/indexing.html#returning-a-view-versus-a-copy\n",
            "  This is separate from the ipykernel package so we can avoid doing imports until\n",
            "/usr/local/lib/python3.7/dist-packages/ipykernel_launcher.py:5: SettingWithCopyWarning: \n",
            "A value is trying to be set on a copy of a slice from a DataFrame.\n",
            "Try using .loc[row_indexer,col_indexer] = value instead\n",
            "\n",
            "See the caveats in the documentation: https://pandas.pydata.org/pandas-docs/stable/user_guide/indexing.html#returning-a-view-versus-a-copy\n",
            "  \"\"\"\n",
            "/usr/local/lib/python3.7/dist-packages/ipykernel_launcher.py:6: SettingWithCopyWarning: \n",
            "A value is trying to be set on a copy of a slice from a DataFrame.\n",
            "Try using .loc[row_indexer,col_indexer] = value instead\n",
            "\n",
            "See the caveats in the documentation: https://pandas.pydata.org/pandas-docs/stable/user_guide/indexing.html#returning-a-view-versus-a-copy\n",
            "  \n",
            "/usr/local/lib/python3.7/dist-packages/ipykernel_launcher.py:9: SettingWithCopyWarning: \n",
            "A value is trying to be set on a copy of a slice from a DataFrame.\n",
            "Try using .loc[row_indexer,col_indexer] = value instead\n",
            "\n",
            "See the caveats in the documentation: https://pandas.pydata.org/pandas-docs/stable/user_guide/indexing.html#returning-a-view-versus-a-copy\n",
            "  if __name__ == '__main__':\n"
          ],
          "name": "stderr"
        },
        {
          "output_type": "execute_result",
          "data": {
            "text/html": [
              "<div>\n",
              "<style scoped>\n",
              "    .dataframe tbody tr th:only-of-type {\n",
              "        vertical-align: middle;\n",
              "    }\n",
              "\n",
              "    .dataframe tbody tr th {\n",
              "        vertical-align: top;\n",
              "    }\n",
              "\n",
              "    .dataframe thead th {\n",
              "        text-align: right;\n",
              "    }\n",
              "</style>\n",
              "<table border=\"1\" class=\"dataframe\">\n",
              "  <thead>\n",
              "    <tr style=\"text-align: right;\">\n",
              "      <th></th>\n",
              "      <th>ID</th>\n",
              "      <th>Title</th>\n",
              "      <th>ReleaseYear</th>\n",
              "      <th>Genres</th>\n",
              "      <th>Synopsis</th>\n",
              "      <th>Directors</th>\n",
              "      <th>Cast</th>\n",
              "    </tr>\n",
              "  </thead>\n",
              "  <tbody>\n",
              "    <tr>\n",
              "      <th>0</th>\n",
              "      <td>b70eec12b79148dfbc97ac3b69ca49bf</td>\n",
              "      <td>angel on my shoulder</td>\n",
              "      <td>1946</td>\n",
              "      <td>[adventure, comedy, fantasy]</td>\n",
              "      <td>the devil arranges for a deceased gangster to return to earth as a wellrespected judge to make up for his previous life</td>\n",
              "      <td>[archiemayo]</td>\n",
              "      <td>[paulmuni, annebaxter, clauderains]</td>\n",
              "    </tr>\n",
              "    <tr>\n",
              "      <th>1</th>\n",
              "      <td>1950e4a11304438dbfd4792a908fc76f</td>\n",
              "      <td>flirting with fate</td>\n",
              "      <td>1916</td>\n",
              "      <td>[adventure, comedy]</td>\n",
              "      <td>in the midst of an emotional depression a man hires a murderer to kill him but the despair soon passes and the man must now escape the killer hes hired to end his life</td>\n",
              "      <td>[christycabanne]</td>\n",
              "      <td>[douglasfairbanks, jewelcarmen, howardgaye]</td>\n",
              "    </tr>\n",
              "    <tr>\n",
              "      <th>2</th>\n",
              "      <td>37d8cae8d87f4dbc9cf8967454537afb</td>\n",
              "      <td>detour</td>\n",
              "      <td>1945</td>\n",
              "      <td>[crime, drama, noir]</td>\n",
              "      <td>chance events trap hitchhiker al roberts in a tightening net of film noir trouble</td>\n",
              "      <td>[edgargulmer]</td>\n",
              "      <td>[tomneal, annsavage, claudiadrake]</td>\n",
              "    </tr>\n",
              "    <tr>\n",
              "      <th>3</th>\n",
              "      <td>b99dd03c00cc4fb9b2d4ad26082de498</td>\n",
              "      <td>the big trees</td>\n",
              "      <td>1952</td>\n",
              "      <td>[action, romance, western]</td>\n",
              "      <td>a quaker colony tries to save the giant sequoias from a timber baron</td>\n",
              "      <td>[felixefeist]</td>\n",
              "      <td>[kirkdouglas, evemiller, patricewymore]</td>\n",
              "    </tr>\n",
              "    <tr>\n",
              "      <th>4</th>\n",
              "      <td>5566ce75b5954f3dad323c2f154856a3</td>\n",
              "      <td>the jungle book</td>\n",
              "      <td>1942</td>\n",
              "      <td>[action, adventure]</td>\n",
              "      <td>a boy raised by wild animals tries to adapt to human village life</td>\n",
              "      <td>[zoltankorda]</td>\n",
              "      <td>[sabu, josephcalleia, johnqualen]</td>\n",
              "    </tr>\n",
              "  </tbody>\n",
              "</table>\n",
              "</div>"
            ],
            "text/plain": [
              "                                 ID  ...                                         Cast\n",
              "0  b70eec12b79148dfbc97ac3b69ca49bf  ...          [paulmuni, annebaxter, clauderains]\n",
              "1  1950e4a11304438dbfd4792a908fc76f  ...  [douglasfairbanks, jewelcarmen, howardgaye]\n",
              "2  37d8cae8d87f4dbc9cf8967454537afb  ...           [tomneal, annsavage, claudiadrake]\n",
              "3  b99dd03c00cc4fb9b2d4ad26082de498  ...      [kirkdouglas, evemiller, patricewymore]\n",
              "4  5566ce75b5954f3dad323c2f154856a3  ...            [sabu, josephcalleia, johnqualen]\n",
              "\n",
              "[5 rows x 7 columns]"
            ]
          },
          "metadata": {
            "tags": []
          },
          "execution_count": 10
        }
      ]
    },
    {
      "cell_type": "markdown",
      "metadata": {
        "id": "Cggk2IiO1GhJ"
      },
      "source": [
        "## NLP\n",
        "We will generate keywords from the synopsis column using rake from nltk. Ultimately, we will use all the columns to generate the bag of words."
      ]
    },
    {
      "cell_type": "code",
      "metadata": {
        "colab": {
          "base_uri": "https://localhost:8080/"
        },
        "id": "CaRr4hsM8zh7",
        "outputId": "84d5d634-b2b1-49e1-a5fb-6abc3cec26e7"
      },
      "source": [
        "!pip install nltk\n",
        "from nltk.corpus import stopwords "
      ],
      "execution_count": 11,
      "outputs": [
        {
          "output_type": "stream",
          "text": [
            "Requirement already satisfied: nltk in /usr/local/lib/python3.7/dist-packages (3.2.5)\n",
            "Requirement already satisfied: six in /usr/local/lib/python3.7/dist-packages (from nltk) (1.15.0)\n"
          ],
          "name": "stdout"
        }
      ]
    },
    {
      "cell_type": "code",
      "metadata": {
        "colab": {
          "base_uri": "https://localhost:8080/"
        },
        "id": "1Hpz9p3L4jOP",
        "outputId": "59da3b0f-88c1-4894-cf8a-627c8c283164"
      },
      "source": [
        "!pip install rake-nltk\n",
        "from rake_nltk import Rake"
      ],
      "execution_count": 12,
      "outputs": [
        {
          "output_type": "stream",
          "text": [
            "Collecting rake-nltk\n",
            "  Downloading https://files.pythonhosted.org/packages/8e/c4/b4ff57e541ac5624ad4b20b89c2bafd4e98f29fd83139f3a81858bdb3815/rake_nltk-1.0.4.tar.gz\n",
            "Requirement already satisfied: nltk in /usr/local/lib/python3.7/dist-packages (from rake-nltk) (3.2.5)\n",
            "Requirement already satisfied: six in /usr/local/lib/python3.7/dist-packages (from nltk->rake-nltk) (1.15.0)\n",
            "Building wheels for collected packages: rake-nltk\n",
            "  Building wheel for rake-nltk (setup.py) ... \u001b[?25l\u001b[?25hdone\n",
            "  Created wheel for rake-nltk: filename=rake_nltk-1.0.4-py2.py3-none-any.whl size=7819 sha256=a531c53a23194dda65b4f2837c6c1701ee4c55b3e6909c9ac5c78e7ee6d5a1de\n",
            "  Stored in directory: /root/.cache/pip/wheels/ef/92/fc/271b3709e71a96ffe934b27818946b795ac6b9b8ff8682483f\n",
            "Successfully built rake-nltk\n",
            "Installing collected packages: rake-nltk\n",
            "Successfully installed rake-nltk-1.0.4\n"
          ],
          "name": "stdout"
        }
      ]
    },
    {
      "cell_type": "code",
      "metadata": {
        "colab": {
          "base_uri": "https://localhost:8080/"
        },
        "id": "fxsO4XCg2ZLu",
        "outputId": "bce49fb3-f2b2-4d24-8dc5-02ad9ab317a7"
      },
      "source": [
        "# initializing the new column\n",
        "df4['Key_words'] = \"\"\n",
        "\n",
        "for index, row in df4.iterrows():\n",
        "    synopsis = row['Synopsis']\n",
        "    \n",
        "    # instantiating Rake, by default it uses english stopwords from NLTK and discards all puntuation\n",
        "    r = Rake()\n",
        "\n",
        "    # extracting the words by passing the text\n",
        "    r.extract_keywords_from_text(synopsis)\n",
        "\n",
        "    # getting the dictionary whith key words and their scores\n",
        "    key_words_dict_scores = r.get_word_degrees()\n",
        "\n",
        "    # assigning the key words to the new column\n",
        "    row['Key_words'] = list(key_words_dict_scores.keys())\n",
        "    df4['Key_words'][index] = row['Key_words']\n",
        "       "
      ],
      "execution_count": 13,
      "outputs": [
        {
          "output_type": "stream",
          "text": [
            "/usr/local/lib/python3.7/dist-packages/ipykernel_launcher.py:2: SettingWithCopyWarning: \n",
            "A value is trying to be set on a copy of a slice from a DataFrame.\n",
            "Try using .loc[row_indexer,col_indexer] = value instead\n",
            "\n",
            "See the caveats in the documentation: https://pandas.pydata.org/pandas-docs/stable/user_guide/indexing.html#returning-a-view-versus-a-copy\n",
            "  \n",
            "/usr/local/lib/python3.7/dist-packages/ipykernel_launcher.py:18: SettingWithCopyWarning: \n",
            "A value is trying to be set on a copy of a slice from a DataFrame\n",
            "\n",
            "See the caveats in the documentation: https://pandas.pydata.org/pandas-docs/stable/user_guide/indexing.html#returning-a-view-versus-a-copy\n",
            "/usr/local/lib/python3.7/dist-packages/IPython/core/interactiveshell.py:2882: SettingWithCopyWarning: \n",
            "A value is trying to be set on a copy of a slice from a DataFrame\n",
            "\n",
            "See the caveats in the documentation: https://pandas.pydata.org/pandas-docs/stable/user_guide/indexing.html#returning-a-view-versus-a-copy\n",
            "  exec(code_obj, self.user_global_ns, self.user_ns)\n"
          ],
          "name": "stderr"
        }
      ]
    },
    {
      "cell_type": "code",
      "metadata": {
        "colab": {
          "base_uri": "https://localhost:8080/"
        },
        "id": "uZC-eXXrsUTw",
        "outputId": "8db0fd16-ab4a-40ff-aebe-7502c726ed77"
      },
      "source": [
        "df5 = df4['ID']\n",
        "df5.head()"
      ],
      "execution_count": 14,
      "outputs": [
        {
          "output_type": "execute_result",
          "data": {
            "text/plain": [
              "0    b70eec12b79148dfbc97ac3b69ca49bf\n",
              "1    1950e4a11304438dbfd4792a908fc76f\n",
              "2    37d8cae8d87f4dbc9cf8967454537afb\n",
              "3    b99dd03c00cc4fb9b2d4ad26082de498\n",
              "4    5566ce75b5954f3dad323c2f154856a3\n",
              "Name: ID, dtype: object"
            ]
          },
          "metadata": {
            "tags": []
          },
          "execution_count": 14
        }
      ]
    },
    {
      "cell_type": "code",
      "metadata": {
        "colab": {
          "base_uri": "https://localhost:8080/",
          "height": 374
        },
        "id": "D7ZjrWp4bD4a",
        "outputId": "33083c00-966f-43fb-90bd-12dd5b96a185"
      },
      "source": [
        "df4.drop(columns=['ID','Synopsis'], inplace=True)\n",
        "df4.head()"
      ],
      "execution_count": 15,
      "outputs": [
        {
          "output_type": "stream",
          "text": [
            "/usr/local/lib/python3.7/dist-packages/pandas/core/frame.py:4174: SettingWithCopyWarning: \n",
            "A value is trying to be set on a copy of a slice from a DataFrame\n",
            "\n",
            "See the caveats in the documentation: https://pandas.pydata.org/pandas-docs/stable/user_guide/indexing.html#returning-a-view-versus-a-copy\n",
            "  errors=errors,\n"
          ],
          "name": "stderr"
        },
        {
          "output_type": "execute_result",
          "data": {
            "text/html": [
              "<div>\n",
              "<style scoped>\n",
              "    .dataframe tbody tr th:only-of-type {\n",
              "        vertical-align: middle;\n",
              "    }\n",
              "\n",
              "    .dataframe tbody tr th {\n",
              "        vertical-align: top;\n",
              "    }\n",
              "\n",
              "    .dataframe thead th {\n",
              "        text-align: right;\n",
              "    }\n",
              "</style>\n",
              "<table border=\"1\" class=\"dataframe\">\n",
              "  <thead>\n",
              "    <tr style=\"text-align: right;\">\n",
              "      <th></th>\n",
              "      <th>Title</th>\n",
              "      <th>ReleaseYear</th>\n",
              "      <th>Genres</th>\n",
              "      <th>Directors</th>\n",
              "      <th>Cast</th>\n",
              "      <th>Key_words</th>\n",
              "    </tr>\n",
              "  </thead>\n",
              "  <tbody>\n",
              "    <tr>\n",
              "      <th>0</th>\n",
              "      <td>angel on my shoulder</td>\n",
              "      <td>1946</td>\n",
              "      <td>[adventure, comedy, fantasy]</td>\n",
              "      <td>[archiemayo]</td>\n",
              "      <td>[paulmuni, annebaxter, clauderains]</td>\n",
              "      <td>[devil, arranges, return, wellrespected, judge, deceased, gangster, previous, life, make, earth]</td>\n",
              "    </tr>\n",
              "    <tr>\n",
              "      <th>1</th>\n",
              "      <td>flirting with fate</td>\n",
              "      <td>1916</td>\n",
              "      <td>[adventure, comedy]</td>\n",
              "      <td>[christycabanne]</td>\n",
              "      <td>[douglasfairbanks, jewelcarmen, howardgaye]</td>\n",
              "      <td>[escape, man, hires, must, killer, hes, hired, end, life, emotional, depression, despair, soon, passes, murderer, midst, kill]</td>\n",
              "    </tr>\n",
              "    <tr>\n",
              "      <th>2</th>\n",
              "      <td>detour</td>\n",
              "      <td>1945</td>\n",
              "      <td>[crime, drama, noir]</td>\n",
              "      <td>[edgargulmer]</td>\n",
              "      <td>[tomneal, annsavage, claudiadrake]</td>\n",
              "      <td>[film, noir, trouble, chance, events, trap, hitchhiker, al, roberts, tightening, net]</td>\n",
              "    </tr>\n",
              "    <tr>\n",
              "      <th>3</th>\n",
              "      <td>the big trees</td>\n",
              "      <td>1952</td>\n",
              "      <td>[action, romance, western]</td>\n",
              "      <td>[felixefeist]</td>\n",
              "      <td>[kirkdouglas, evemiller, patricewymore]</td>\n",
              "      <td>[save, giant, sequoias, quaker, colony, tries, timber, baron]</td>\n",
              "    </tr>\n",
              "    <tr>\n",
              "      <th>4</th>\n",
              "      <td>the jungle book</td>\n",
              "      <td>1942</td>\n",
              "      <td>[action, adventure]</td>\n",
              "      <td>[zoltankorda]</td>\n",
              "      <td>[sabu, josephcalleia, johnqualen]</td>\n",
              "      <td>[boy, raised, wild, animals, tries, adapt, human, village, life]</td>\n",
              "    </tr>\n",
              "  </tbody>\n",
              "</table>\n",
              "</div>"
            ],
            "text/plain": [
              "                  Title  ...                                                                                                                       Key_words\n",
              "0  angel on my shoulder  ...                                [devil, arranges, return, wellrespected, judge, deceased, gangster, previous, life, make, earth]\n",
              "1    flirting with fate  ...  [escape, man, hires, must, killer, hes, hired, end, life, emotional, depression, despair, soon, passes, murderer, midst, kill]\n",
              "2                detour  ...                                           [film, noir, trouble, chance, events, trap, hitchhiker, al, roberts, tightening, net]\n",
              "3         the big trees  ...                                                                   [save, giant, sequoias, quaker, colony, tries, timber, baron]\n",
              "4       the jungle book  ...                                                                [boy, raised, wild, animals, tries, adapt, human, village, life]\n",
              "\n",
              "[5 rows x 6 columns]"
            ]
          },
          "metadata": {
            "tags": []
          },
          "execution_count": 15
        }
      ]
    },
    {
      "cell_type": "code",
      "metadata": {
        "colab": {
          "base_uri": "https://localhost:8080/"
        },
        "id": "j1HY-5ih33uI",
        "outputId": "bd7b49f0-eac4-454b-dcab-893e5d19c17e"
      },
      "source": [
        "df4['ReleaseYear'] = df4['ReleaseYear'].astype(str)"
      ],
      "execution_count": 16,
      "outputs": [
        {
          "output_type": "stream",
          "text": [
            "/usr/local/lib/python3.7/dist-packages/ipykernel_launcher.py:1: SettingWithCopyWarning: \n",
            "A value is trying to be set on a copy of a slice from a DataFrame.\n",
            "Try using .loc[row_indexer,col_indexer] = value instead\n",
            "\n",
            "See the caveats in the documentation: https://pandas.pydata.org/pandas-docs/stable/user_guide/indexing.html#returning-a-view-versus-a-copy\n",
            "  \"\"\"Entry point for launching an IPython kernel.\n"
          ],
          "name": "stderr"
        }
      ]
    },
    {
      "cell_type": "code",
      "metadata": {
        "colab": {
          "base_uri": "https://localhost:8080/"
        },
        "id": "UZc1bGng2qK0",
        "outputId": "6c3fafd3-d2f4-4f4f-b911-7e7afc2274aa"
      },
      "source": [
        "df4['bag_of_words'] = ''\n",
        "columns = df4.columns\n",
        "for index, row in df4.iterrows():\n",
        "    words = ''\n",
        "    for col in columns:\n",
        "        if col != 'ReleaseYear' and col != 'Title':\n",
        "            words = words + ' '.join(row[col])+ ' '\n",
        "        else:\n",
        "            words = words + row[col]+ ' '\n",
        "    row['bag_of_words'] = words\n",
        "    \n",
        "df4['bag_of_words'].head()"
      ],
      "execution_count": 17,
      "outputs": [
        {
          "output_type": "stream",
          "text": [
            "/usr/local/lib/python3.7/dist-packages/ipykernel_launcher.py:1: SettingWithCopyWarning: \n",
            "A value is trying to be set on a copy of a slice from a DataFrame.\n",
            "Try using .loc[row_indexer,col_indexer] = value instead\n",
            "\n",
            "See the caveats in the documentation: https://pandas.pydata.org/pandas-docs/stable/user_guide/indexing.html#returning-a-view-versus-a-copy\n",
            "  \"\"\"Entry point for launching an IPython kernel.\n"
          ],
          "name": "stderr"
        },
        {
          "output_type": "execute_result",
          "data": {
            "text/plain": [
              "0                              angel on my shoulder 1946 adventure comedy fantasy archiemayo paulmuni annebaxter clauderains devil arranges return wellrespected judge deceased gangster previous life make earth  \n",
              "1    flirting with fate 1916 adventure comedy christycabanne douglasfairbanks jewelcarmen howardgaye escape man hires must killer hes hired end life emotional depression despair soon passes murderer midst kill  \n",
              "2                                                               detour 1945 crime drama noir edgargulmer tomneal annsavage claudiadrake film noir trouble chance events trap hitchhiker al roberts tightening net  \n",
              "3                                                                  the big trees 1952 action romance western felixefeist kirkdouglas evemiller patricewymore save giant sequoias quaker colony tries timber baron  \n",
              "4                                                                          the jungle book 1942 action adventure zoltankorda sabu josephcalleia johnqualen boy raised wild animals tries adapt human village life  \n",
              "Name: bag_of_words, dtype: object"
            ]
          },
          "metadata": {
            "tags": []
          },
          "execution_count": 17
        }
      ]
    },
    {
      "cell_type": "code",
      "metadata": {
        "colab": {
          "base_uri": "https://localhost:8080/",
          "height": 391
        },
        "id": "4iay-E8qpFWN",
        "outputId": "c339871c-4eb2-46f6-f1c6-52ce966e4697"
      },
      "source": [
        "df4.head()"
      ],
      "execution_count": 18,
      "outputs": [
        {
          "output_type": "execute_result",
          "data": {
            "text/html": [
              "<div>\n",
              "<style scoped>\n",
              "    .dataframe tbody tr th:only-of-type {\n",
              "        vertical-align: middle;\n",
              "    }\n",
              "\n",
              "    .dataframe tbody tr th {\n",
              "        vertical-align: top;\n",
              "    }\n",
              "\n",
              "    .dataframe thead th {\n",
              "        text-align: right;\n",
              "    }\n",
              "</style>\n",
              "<table border=\"1\" class=\"dataframe\">\n",
              "  <thead>\n",
              "    <tr style=\"text-align: right;\">\n",
              "      <th></th>\n",
              "      <th>Title</th>\n",
              "      <th>ReleaseYear</th>\n",
              "      <th>Genres</th>\n",
              "      <th>Directors</th>\n",
              "      <th>Cast</th>\n",
              "      <th>Key_words</th>\n",
              "      <th>bag_of_words</th>\n",
              "    </tr>\n",
              "  </thead>\n",
              "  <tbody>\n",
              "    <tr>\n",
              "      <th>0</th>\n",
              "      <td>angel on my shoulder</td>\n",
              "      <td>1946</td>\n",
              "      <td>[adventure, comedy, fantasy]</td>\n",
              "      <td>[archiemayo]</td>\n",
              "      <td>[paulmuni, annebaxter, clauderains]</td>\n",
              "      <td>[devil, arranges, return, wellrespected, judge, deceased, gangster, previous, life, make, earth]</td>\n",
              "      <td>angel on my shoulder 1946 adventure comedy fantasy archiemayo paulmuni annebaxter clauderains devil arranges return wellrespected judge deceased gangster previous life make earth</td>\n",
              "    </tr>\n",
              "    <tr>\n",
              "      <th>1</th>\n",
              "      <td>flirting with fate</td>\n",
              "      <td>1916</td>\n",
              "      <td>[adventure, comedy]</td>\n",
              "      <td>[christycabanne]</td>\n",
              "      <td>[douglasfairbanks, jewelcarmen, howardgaye]</td>\n",
              "      <td>[escape, man, hires, must, killer, hes, hired, end, life, emotional, depression, despair, soon, passes, murderer, midst, kill]</td>\n",
              "      <td>flirting with fate 1916 adventure comedy christycabanne douglasfairbanks jewelcarmen howardgaye escape man hires must killer hes hired end life emotional depression despair soon passes murderer midst kill</td>\n",
              "    </tr>\n",
              "    <tr>\n",
              "      <th>2</th>\n",
              "      <td>detour</td>\n",
              "      <td>1945</td>\n",
              "      <td>[crime, drama, noir]</td>\n",
              "      <td>[edgargulmer]</td>\n",
              "      <td>[tomneal, annsavage, claudiadrake]</td>\n",
              "      <td>[film, noir, trouble, chance, events, trap, hitchhiker, al, roberts, tightening, net]</td>\n",
              "      <td>detour 1945 crime drama noir edgargulmer tomneal annsavage claudiadrake film noir trouble chance events trap hitchhiker al roberts tightening net</td>\n",
              "    </tr>\n",
              "    <tr>\n",
              "      <th>3</th>\n",
              "      <td>the big trees</td>\n",
              "      <td>1952</td>\n",
              "      <td>[action, romance, western]</td>\n",
              "      <td>[felixefeist]</td>\n",
              "      <td>[kirkdouglas, evemiller, patricewymore]</td>\n",
              "      <td>[save, giant, sequoias, quaker, colony, tries, timber, baron]</td>\n",
              "      <td>the big trees 1952 action romance western felixefeist kirkdouglas evemiller patricewymore save giant sequoias quaker colony tries timber baron</td>\n",
              "    </tr>\n",
              "    <tr>\n",
              "      <th>4</th>\n",
              "      <td>the jungle book</td>\n",
              "      <td>1942</td>\n",
              "      <td>[action, adventure]</td>\n",
              "      <td>[zoltankorda]</td>\n",
              "      <td>[sabu, josephcalleia, johnqualen]</td>\n",
              "      <td>[boy, raised, wild, animals, tries, adapt, human, village, life]</td>\n",
              "      <td>the jungle book 1942 action adventure zoltankorda sabu josephcalleia johnqualen boy raised wild animals tries adapt human village life</td>\n",
              "    </tr>\n",
              "  </tbody>\n",
              "</table>\n",
              "</div>"
            ],
            "text/plain": [
              "                  Title  ...                                                                                                                                                                                                    bag_of_words\n",
              "0  angel on my shoulder  ...                            angel on my shoulder 1946 adventure comedy fantasy archiemayo paulmuni annebaxter clauderains devil arranges return wellrespected judge deceased gangster previous life make earth  \n",
              "1    flirting with fate  ...  flirting with fate 1916 adventure comedy christycabanne douglasfairbanks jewelcarmen howardgaye escape man hires must killer hes hired end life emotional depression despair soon passes murderer midst kill  \n",
              "2                detour  ...                                                             detour 1945 crime drama noir edgargulmer tomneal annsavage claudiadrake film noir trouble chance events trap hitchhiker al roberts tightening net  \n",
              "3         the big trees  ...                                                                the big trees 1952 action romance western felixefeist kirkdouglas evemiller patricewymore save giant sequoias quaker colony tries timber baron  \n",
              "4       the jungle book  ...                                                                        the jungle book 1942 action adventure zoltankorda sabu josephcalleia johnqualen boy raised wild animals tries adapt human village life  \n",
              "\n",
              "[5 rows x 7 columns]"
            ]
          },
          "metadata": {
            "tags": []
          },
          "execution_count": 18
        }
      ]
    },
    {
      "cell_type": "code",
      "metadata": {
        "colab": {
          "base_uri": "https://localhost:8080/",
          "height": 493
        },
        "id": "Apiw2NSrr_rr",
        "outputId": "40f2763c-47a8-497f-b514-e54355f7116c"
      },
      "source": [
        "df4['ID'] = df5\n",
        "df4=df4[['ID','Title','ReleaseYear','Genres','Directors','Cast','bag_of_words']]\n",
        "df4.head()"
      ],
      "execution_count": 19,
      "outputs": [
        {
          "output_type": "stream",
          "text": [
            "/usr/local/lib/python3.7/dist-packages/ipykernel_launcher.py:1: SettingWithCopyWarning: \n",
            "A value is trying to be set on a copy of a slice from a DataFrame.\n",
            "Try using .loc[row_indexer,col_indexer] = value instead\n",
            "\n",
            "See the caveats in the documentation: https://pandas.pydata.org/pandas-docs/stable/user_guide/indexing.html#returning-a-view-versus-a-copy\n",
            "  \"\"\"Entry point for launching an IPython kernel.\n"
          ],
          "name": "stderr"
        },
        {
          "output_type": "execute_result",
          "data": {
            "text/html": [
              "<div>\n",
              "<style scoped>\n",
              "    .dataframe tbody tr th:only-of-type {\n",
              "        vertical-align: middle;\n",
              "    }\n",
              "\n",
              "    .dataframe tbody tr th {\n",
              "        vertical-align: top;\n",
              "    }\n",
              "\n",
              "    .dataframe thead th {\n",
              "        text-align: right;\n",
              "    }\n",
              "</style>\n",
              "<table border=\"1\" class=\"dataframe\">\n",
              "  <thead>\n",
              "    <tr style=\"text-align: right;\">\n",
              "      <th></th>\n",
              "      <th>ID</th>\n",
              "      <th>Title</th>\n",
              "      <th>ReleaseYear</th>\n",
              "      <th>Genres</th>\n",
              "      <th>Directors</th>\n",
              "      <th>Cast</th>\n",
              "      <th>bag_of_words</th>\n",
              "    </tr>\n",
              "  </thead>\n",
              "  <tbody>\n",
              "    <tr>\n",
              "      <th>0</th>\n",
              "      <td>b70eec12b79148dfbc97ac3b69ca49bf</td>\n",
              "      <td>angel on my shoulder</td>\n",
              "      <td>1946</td>\n",
              "      <td>[adventure, comedy, fantasy]</td>\n",
              "      <td>[archiemayo]</td>\n",
              "      <td>[paulmuni, annebaxter, clauderains]</td>\n",
              "      <td>angel on my shoulder 1946 adventure comedy fantasy archiemayo paulmuni annebaxter clauderains devil arranges return wellrespected judge deceased gangster previous life make earth</td>\n",
              "    </tr>\n",
              "    <tr>\n",
              "      <th>1</th>\n",
              "      <td>1950e4a11304438dbfd4792a908fc76f</td>\n",
              "      <td>flirting with fate</td>\n",
              "      <td>1916</td>\n",
              "      <td>[adventure, comedy]</td>\n",
              "      <td>[christycabanne]</td>\n",
              "      <td>[douglasfairbanks, jewelcarmen, howardgaye]</td>\n",
              "      <td>flirting with fate 1916 adventure comedy christycabanne douglasfairbanks jewelcarmen howardgaye escape man hires must killer hes hired end life emotional depression despair soon passes murderer midst kill</td>\n",
              "    </tr>\n",
              "    <tr>\n",
              "      <th>2</th>\n",
              "      <td>37d8cae8d87f4dbc9cf8967454537afb</td>\n",
              "      <td>detour</td>\n",
              "      <td>1945</td>\n",
              "      <td>[crime, drama, noir]</td>\n",
              "      <td>[edgargulmer]</td>\n",
              "      <td>[tomneal, annsavage, claudiadrake]</td>\n",
              "      <td>detour 1945 crime drama noir edgargulmer tomneal annsavage claudiadrake film noir trouble chance events trap hitchhiker al roberts tightening net</td>\n",
              "    </tr>\n",
              "    <tr>\n",
              "      <th>3</th>\n",
              "      <td>b99dd03c00cc4fb9b2d4ad26082de498</td>\n",
              "      <td>the big trees</td>\n",
              "      <td>1952</td>\n",
              "      <td>[action, romance, western]</td>\n",
              "      <td>[felixefeist]</td>\n",
              "      <td>[kirkdouglas, evemiller, patricewymore]</td>\n",
              "      <td>the big trees 1952 action romance western felixefeist kirkdouglas evemiller patricewymore save giant sequoias quaker colony tries timber baron</td>\n",
              "    </tr>\n",
              "    <tr>\n",
              "      <th>4</th>\n",
              "      <td>5566ce75b5954f3dad323c2f154856a3</td>\n",
              "      <td>the jungle book</td>\n",
              "      <td>1942</td>\n",
              "      <td>[action, adventure]</td>\n",
              "      <td>[zoltankorda]</td>\n",
              "      <td>[sabu, josephcalleia, johnqualen]</td>\n",
              "      <td>the jungle book 1942 action adventure zoltankorda sabu josephcalleia johnqualen boy raised wild animals tries adapt human village life</td>\n",
              "    </tr>\n",
              "  </tbody>\n",
              "</table>\n",
              "</div>"
            ],
            "text/plain": [
              "                                 ID  ...                                                                                                                                                                                                    bag_of_words\n",
              "0  b70eec12b79148dfbc97ac3b69ca49bf  ...                            angel on my shoulder 1946 adventure comedy fantasy archiemayo paulmuni annebaxter clauderains devil arranges return wellrespected judge deceased gangster previous life make earth  \n",
              "1  1950e4a11304438dbfd4792a908fc76f  ...  flirting with fate 1916 adventure comedy christycabanne douglasfairbanks jewelcarmen howardgaye escape man hires must killer hes hired end life emotional depression despair soon passes murderer midst kill  \n",
              "2  37d8cae8d87f4dbc9cf8967454537afb  ...                                                             detour 1945 crime drama noir edgargulmer tomneal annsavage claudiadrake film noir trouble chance events trap hitchhiker al roberts tightening net  \n",
              "3  b99dd03c00cc4fb9b2d4ad26082de498  ...                                                                the big trees 1952 action romance western felixefeist kirkdouglas evemiller patricewymore save giant sequoias quaker colony tries timber baron  \n",
              "4  5566ce75b5954f3dad323c2f154856a3  ...                                                                        the jungle book 1942 action adventure zoltankorda sabu josephcalleia johnqualen boy raised wild animals tries adapt human village life  \n",
              "\n",
              "[5 rows x 7 columns]"
            ]
          },
          "metadata": {
            "tags": []
          },
          "execution_count": 19
        }
      ]
    },
    {
      "cell_type": "markdown",
      "metadata": {
        "id": "1G_8bG3MMwNg"
      },
      "source": [
        "\n",
        "\n",
        "---\n",
        "\n"
      ]
    },
    {
      "cell_type": "code",
      "metadata": {
        "id": "qD5tIIbqULqz"
      },
      "source": [
        "import pickle"
      ],
      "execution_count": 20,
      "outputs": []
    },
    {
      "cell_type": "code",
      "metadata": {
        "id": "on1hOeOA--_E"
      },
      "source": [
        "pickle.dump(df4, open('movies.pickle', 'wb'))"
      ],
      "execution_count": 21,
      "outputs": []
    },
    {
      "cell_type": "markdown",
      "metadata": {
        "id": "gsF8IusiNHEb"
      },
      "source": [
        "## Using TF_IDF"
      ]
    },
    {
      "cell_type": "code",
      "metadata": {
        "id": "qbFsTrt3NHEm"
      },
      "source": [
        "from sklearn.feature_extraction.text import TfidfVectorizer\n",
        "tfidf = TfidfVectorizer(stop_words='english')\n",
        "tfidf_matrix = tfidf.fit_transform(df4['bag_of_words'])"
      ],
      "execution_count": 22,
      "outputs": []
    },
    {
      "cell_type": "code",
      "metadata": {
        "colab": {
          "base_uri": "https://localhost:8080/"
        },
        "id": "YiyRXpjiNHEo",
        "outputId": "31f863bf-875e-40c2-959a-936abd54c17f"
      },
      "source": [
        "cosine_sim = cosine_similarity(tfidf_matrix, tfidf_matrix)\n",
        "cosine_sim"
      ],
      "execution_count": 23,
      "outputs": [
        {
          "output_type": "execute_result",
          "data": {
            "text/plain": [
              "array([[1.        , 0.04898959, 0.        , ..., 0.03715558, 0.01311707,\n",
              "        0.01276385],\n",
              "       [0.04898959, 1.        , 0.        , ..., 0.03458854, 0.01221082,\n",
              "        0.04187143],\n",
              "       [0.        , 0.        , 1.        , ..., 0.        , 0.        ,\n",
              "        0.00989937],\n",
              "       ...,\n",
              "       [0.03715558, 0.03458854, 0.        , ..., 1.        , 0.01362476,\n",
              "        0.01325787],\n",
              "       [0.01311707, 0.01221082, 0.        , ..., 0.01362476, 1.        ,\n",
              "        0.01266281],\n",
              "       [0.01276385, 0.04187143, 0.00989937, ..., 0.01325787, 0.01266281,\n",
              "        1.        ]])"
            ]
          },
          "metadata": {
            "tags": []
          },
          "execution_count": 23
        }
      ]
    },
    {
      "cell_type": "code",
      "metadata": {
        "id": "kflMDbwsNHEq"
      },
      "source": [
        "pickle.dump(tfidf_matrix, open('engine.pickle', 'wb'))"
      ],
      "execution_count": 24,
      "outputs": []
    },
    {
      "cell_type": "markdown",
      "metadata": {
        "id": "w2cQKALqNHEq"
      },
      "source": [
        "\n",
        "\n",
        "---\n",
        "\n"
      ]
    },
    {
      "cell_type": "markdown",
      "metadata": {
        "id": "QLwbEjQ8WXdh"
      },
      "source": [
        "## Testing the `recommender.py` used in the API call."
      ]
    },
    {
      "cell_type": "code",
      "metadata": {
        "id": "p5UtEkenM7Md"
      },
      "source": [
        "df = pickle.load(open('movies.pickle', 'rb'))"
      ],
      "execution_count": 25,
      "outputs": []
    },
    {
      "cell_type": "code",
      "metadata": {
        "id": "hIcM-sEPNyys"
      },
      "source": [
        "tfidf_matrix = pickle.load(open('engine.pickle', 'rb'))"
      ],
      "execution_count": 26,
      "outputs": []
    },
    {
      "cell_type": "code",
      "metadata": {
        "id": "gP6LkORdMjNv"
      },
      "source": [
        "import pandas as pd\n",
        "from sklearn.metrics.pairwise import cosine_similarity\n",
        "\n",
        "def recommend_mov(movieId, df, tfidf_matrix):\n",
        "    \n",
        "    try:\n",
        "        indices = pd.Series(df.ID)\n",
        "        # getting the index of the movie that matches the title\n",
        "        idx = indices[indices == movieId].index[0]\n",
        "\n",
        "    except:\n",
        "        return 'MovieID not found, Please try again'\n",
        "   \n",
        "    recommended_movies = []\n",
        "    \n",
        "    cosine_sim = cosine_similarity(tfidf_matrix, tfidf_matrix)\n",
        "    \n",
        "    # creating a Series with the similarity scores in descending order\n",
        "    score_series = pd.Series(cosine_sim[idx]).sort_values(ascending = False)\n",
        "\n",
        "    # getting the indexes of the 10 most similar movies\n",
        "    top_10_indexes = list(score_series.iloc[1:11].index)\n",
        "    \n",
        "    # populating the list with the titles of the best 10 matching movies\n",
        "    for i in top_10_indexes:\n",
        "        recommended_movies.append(list(df.ID)[i])     \n",
        "      \n",
        "    return recommended_movies"
      ],
      "execution_count": 27,
      "outputs": []
    },
    {
      "cell_type": "code",
      "metadata": {
        "colab": {
          "base_uri": "https://localhost:8080/"
        },
        "id": "91mgFimGN3_r",
        "outputId": "341797a0-a299-426c-e055-c382e74d7781"
      },
      "source": [
        "recommend_mov(\"b70eec12b79148dfbc97ac3b69ca49bf\", df, tfidf_matrix)"
      ],
      "execution_count": 28,
      "outputs": [
        {
          "output_type": "execute_result",
          "data": {
            "text/plain": [
              "['1950e4a11304438dbfd4792a908fc76f',\n",
              " '5566ce75b5954f3dad323c2f154856a3',\n",
              " 'fe5901c51ca44c8cb40507949b2f2da0',\n",
              " '53461fabeaef483e942c9aaad235ca4d',\n",
              " '62e08996bb034303a417d10e136bedda',\n",
              " '41a069f0d71042be908429adf7e1324e',\n",
              " '0254461677cf4d0aa48319e226a68ca5',\n",
              " '62b36e28f1d6443c8bef36f7cd216a7d',\n",
              " '19eff70e96924a6496635736387e6fc5',\n",
              " 'd3ae2ba361ca496b82c5622c8b626277']"
            ]
          },
          "metadata": {
            "tags": []
          },
          "execution_count": 28
        }
      ]
    },
    {
      "cell_type": "code",
      "metadata": {
        "id": "hsawI5dNoeSg"
      },
      "source": [
        ""
      ],
      "execution_count": 28,
      "outputs": []
    }
  ]
}