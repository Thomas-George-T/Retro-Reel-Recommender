{
  "nbformat": 4,
  "nbformat_minor": 0,
  "metadata": {
    "colab": {
      "name": "Retro-Reel-Recommender.ipynb",
      "provenance": [],
      "collapsed_sections": [],
      "authorship_tag": "ABX9TyPTsm/G0UW831f0sxxrH0wN",
      "include_colab_link": true
    },
    "kernelspec": {
      "name": "python3",
      "display_name": "Python 3"
    }
  },
  "cells": [
    {
      "cell_type": "markdown",
      "metadata": {
        "id": "view-in-github",
        "colab_type": "text"
      },
      "source": [
        "<a href=\"https://colab.research.google.com/github/Thomas-George-T/Retro-Reel-Recommender/blob/main/Retro_Reel_Recommender.ipynb\" target=\"_parent\"><img src=\"https://colab.research.google.com/assets/colab-badge.svg\" alt=\"Open In Colab\"/></a>"
      ]
    },
    {
      "cell_type": "markdown",
      "metadata": {
        "id": "h8D6Z2-3WloV"
      },
      "source": [
        "# Retrol Reel Recommender"
      ]
    },
    {
      "cell_type": "markdown",
      "metadata": {
        "id": "frQ2ccF2W2xX"
      },
      "source": [
        "## Data Acquisition"
      ]
    },
    {
      "cell_type": "code",
      "metadata": {
        "id": "UrlKeMAkJX7Z"
      },
      "source": [
        "import pandas as pd\r\n",
        "from sklearn.metrics.pairwise import cosine_similarity\r\n",
        "from sklearn.feature_extraction.text import CountVectorizer"
      ],
      "execution_count": 58,
      "outputs": []
    },
    {
      "cell_type": "code",
      "metadata": {
        "colab": {
          "base_uri": "https://localhost:8080/"
        },
        "id": "uRTxs_YxXBVx",
        "outputId": "98ab9ff7-82cb-4d39-adf2-29e88a44dcc7"
      },
      "source": [
        "!wget -q -O 'retro.json' https://prosona.b-cdn.net/Movies/catalog-v2.txt\r\n",
        "print(\"Data Downloaded!\")"
      ],
      "execution_count": 59,
      "outputs": [
        {
          "output_type": "stream",
          "text": [
            "Data Downloaded!\n"
          ],
          "name": "stdout"
        }
      ]
    },
    {
      "cell_type": "code",
      "metadata": {
        "colab": {
          "base_uri": "https://localhost:8080/",
          "height": 204
        },
        "id": "U_Pyhaz3XPnr",
        "outputId": "633be76f-1d27-4bdb-fbe4-a30774bfeee1"
      },
      "source": [
        "retro_raw = pd.read_json('retro.json')\r\n",
        "retro_raw.head()"
      ],
      "execution_count": 60,
      "outputs": [
        {
          "output_type": "execute_result",
          "data": {
            "text/html": [
              "<div>\n",
              "<style scoped>\n",
              "    .dataframe tbody tr th:only-of-type {\n",
              "        vertical-align: middle;\n",
              "    }\n",
              "\n",
              "    .dataframe tbody tr th {\n",
              "        vertical-align: top;\n",
              "    }\n",
              "\n",
              "    .dataframe thead th {\n",
              "        text-align: right;\n",
              "    }\n",
              "</style>\n",
              "<table border=\"1\" class=\"dataframe\">\n",
              "  <thead>\n",
              "    <tr style=\"text-align: right;\">\n",
              "      <th></th>\n",
              "      <th>Movies</th>\n",
              "    </tr>\n",
              "  </thead>\n",
              "  <tbody>\n",
              "    <tr>\n",
              "      <th>0</th>\n",
              "      <td>{'ID': 'b70eec12b79148dfbc97ac3b69ca49bf', 'Ti...</td>\n",
              "    </tr>\n",
              "    <tr>\n",
              "      <th>1</th>\n",
              "      <td>{'ID': '1950e4a11304438dbfd4792a908fc76f', 'Ti...</td>\n",
              "    </tr>\n",
              "    <tr>\n",
              "      <th>2</th>\n",
              "      <td>{'ID': '37d8cae8d87f4dbc9cf8967454537afb', 'Ti...</td>\n",
              "    </tr>\n",
              "    <tr>\n",
              "      <th>3</th>\n",
              "      <td>{'ID': 'b99dd03c00cc4fb9b2d4ad26082de498', 'Ti...</td>\n",
              "    </tr>\n",
              "    <tr>\n",
              "      <th>4</th>\n",
              "      <td>{'ID': '5566ce75b5954f3dad323c2f154856a3', 'Ti...</td>\n",
              "    </tr>\n",
              "  </tbody>\n",
              "</table>\n",
              "</div>"
            ],
            "text/plain": [
              "                                              Movies\n",
              "0  {'ID': 'b70eec12b79148dfbc97ac3b69ca49bf', 'Ti...\n",
              "1  {'ID': '1950e4a11304438dbfd4792a908fc76f', 'Ti...\n",
              "2  {'ID': '37d8cae8d87f4dbc9cf8967454537afb', 'Ti...\n",
              "3  {'ID': 'b99dd03c00cc4fb9b2d4ad26082de498', 'Ti...\n",
              "4  {'ID': '5566ce75b5954f3dad323c2f154856a3', 'Ti..."
            ]
          },
          "metadata": {
            "tags": []
          },
          "execution_count": 60
        }
      ]
    },
    {
      "cell_type": "markdown",
      "metadata": {
        "id": "aFYCfKvlXpZS"
      },
      "source": [
        "## Data Preprocessing"
      ]
    },
    {
      "cell_type": "code",
      "metadata": {
        "colab": {
          "base_uri": "https://localhost:8080/",
          "height": 615
        },
        "id": "kafF3mRJXgh3",
        "outputId": "acbb1644-79f9-44df-f3a8-2d5b75622381"
      },
      "source": [
        "retro_raw_flatten = pd.json_normalize(retro_raw['Movies'])\r\n",
        "retro_raw_flatten.head()"
      ],
      "execution_count": 61,
      "outputs": [
        {
          "output_type": "execute_result",
          "data": {
            "text/html": [
              "<div>\n",
              "<style scoped>\n",
              "    .dataframe tbody tr th:only-of-type {\n",
              "        vertical-align: middle;\n",
              "    }\n",
              "\n",
              "    .dataframe tbody tr th {\n",
              "        vertical-align: top;\n",
              "    }\n",
              "\n",
              "    .dataframe thead th {\n",
              "        text-align: right;\n",
              "    }\n",
              "</style>\n",
              "<table border=\"1\" class=\"dataframe\">\n",
              "  <thead>\n",
              "    <tr style=\"text-align: right;\">\n",
              "      <th></th>\n",
              "      <th>ID</th>\n",
              "      <th>Title</th>\n",
              "      <th>ReleaseYear</th>\n",
              "      <th>Genres</th>\n",
              "      <th>Synopsis</th>\n",
              "      <th>Directors</th>\n",
              "      <th>Cast</th>\n",
              "      <th>Trivia</th>\n",
              "      <th>Keywords</th>\n",
              "      <th>TrailerLink</th>\n",
              "      <th>MovieLink</th>\n",
              "      <th>HorizontalPosterLink</th>\n",
              "      <th>VerticalPosterLink</th>\n",
              "      <th>SnapshotLink</th>\n",
              "      <th>SubtitlesLink</th>\n",
              "      <th>Offset</th>\n",
              "    </tr>\n",
              "  </thead>\n",
              "  <tbody>\n",
              "    <tr>\n",
              "      <th>0</th>\n",
              "      <td>b70eec12b79148dfbc97ac3b69ca49bf</td>\n",
              "      <td>Angel On My Shoulder</td>\n",
              "      <td>1946</td>\n",
              "      <td>[Adventure, Comedy, Fantasy]</td>\n",
              "      <td>The Devil arranges for a deceased gangster to ...</td>\n",
              "      <td>[Archie Mayo]</td>\n",
              "      <td>[Paul Muni, Anne Baxter, Claude Rains]</td>\n",
              "      <td>[Director Archie Mayo clashed repeatedly with ...</td>\n",
              "      <td>Devil Soul angel on my shoulder 1946 adventure...</td>\n",
              "      <td>https://prosona.b-cdn.net/Movies/Angel%20On%20...</td>\n",
              "      <td>https://prosona.b-cdn.net/Movies/Angel%20On%20...</td>\n",
              "      <td>https://prosona.b-cdn.net/Movies/Angel%20On%20...</td>\n",
              "      <td>https://prosona.b-cdn.net/Movies/Angel%20On%20...</td>\n",
              "      <td>https://prosona.b-cdn.net/Movies/Angel%20On%20...</td>\n",
              "      <td></td>\n",
              "      <td>0.0</td>\n",
              "    </tr>\n",
              "    <tr>\n",
              "      <th>1</th>\n",
              "      <td>1950e4a11304438dbfd4792a908fc76f</td>\n",
              "      <td>Flirting with Fate</td>\n",
              "      <td>1916</td>\n",
              "      <td>[Adventure, Comedy]</td>\n",
              "      <td>In the midst of an emotional depression, a man...</td>\n",
              "      <td>[Christy Cabanne]</td>\n",
              "      <td>[Douglas Fairbanks, Jewel Carmen, Howard Gaye]</td>\n",
              "      <td>[]</td>\n",
              "      <td>hitman assasin killer escape flirting with fat...</td>\n",
              "      <td>https://prosona.b-cdn.net/Movies/Flirting%20Wi...</td>\n",
              "      <td>https://prosona.b-cdn.net/Movies/Flirting%20Wi...</td>\n",
              "      <td>https://prosona.b-cdn.net/Movies/Flirting%20Wi...</td>\n",
              "      <td>https://prosona.b-cdn.net/Movies/Flirting%20Wi...</td>\n",
              "      <td>https://prosona.b-cdn.net/Movies/Flirting%20Wi...</td>\n",
              "      <td></td>\n",
              "      <td>0.0</td>\n",
              "    </tr>\n",
              "    <tr>\n",
              "      <th>2</th>\n",
              "      <td>37d8cae8d87f4dbc9cf8967454537afb</td>\n",
              "      <td>Detour</td>\n",
              "      <td>1945</td>\n",
              "      <td>[Crime, Drama, Noir]</td>\n",
              "      <td>Chance events trap hitch-hiker Al Roberts in a...</td>\n",
              "      <td>[Edgar G. Ulmer]</td>\n",
              "      <td>[Tom Neal, Ann Savage, Claudia Drake]</td>\n",
              "      <td>[The budget PRC gave director Edgar G. Ulmer f...</td>\n",
              "      <td>detour 1945 crime drama noir edgar g. ulmer to...</td>\n",
              "      <td>https://prosona.b-cdn.net/Movies/Detour%20-%20...</td>\n",
              "      <td>https://prosona.b-cdn.net/Movies/Detour%20-%20...</td>\n",
              "      <td>https://prosona.b-cdn.net/Movies/Detour%20-%20...</td>\n",
              "      <td>https://prosona.b-cdn.net/Movies/Detour%20-%20...</td>\n",
              "      <td>https://prosona.b-cdn.net/Movies/Detour%20-%20...</td>\n",
              "      <td>https://prosona.b-cdn.net/Movies/Detour%20-%20...</td>\n",
              "      <td>0.0</td>\n",
              "    </tr>\n",
              "    <tr>\n",
              "      <th>3</th>\n",
              "      <td>b99dd03c00cc4fb9b2d4ad26082de498</td>\n",
              "      <td>The Big Trees</td>\n",
              "      <td>1952</td>\n",
              "      <td>[Action, Romance, Western]</td>\n",
              "      <td>A Quaker colony tries to save the giant sequoi...</td>\n",
              "      <td>[Felix E. Feist]</td>\n",
              "      <td>[Kirk Douglas, Eve Miller, Patrice Wymore]</td>\n",
              "      <td>[According to Kirk Douglas in his autobiograph...</td>\n",
              "      <td>activism sequoia the big trees 1952 action rom...</td>\n",
              "      <td>https://prosona.b-cdn.net/Movies/The%20Big%20T...</td>\n",
              "      <td>https://prosona.b-cdn.net/Movies/The%20Big%20T...</td>\n",
              "      <td>https://prosona.b-cdn.net/Movies/The%20Big%20T...</td>\n",
              "      <td>https://prosona.b-cdn.net/Movies/The%20Big%20T...</td>\n",
              "      <td>https://prosona.b-cdn.net/Movies/The%20Big%20T...</td>\n",
              "      <td></td>\n",
              "      <td>0.0</td>\n",
              "    </tr>\n",
              "    <tr>\n",
              "      <th>4</th>\n",
              "      <td>5566ce75b5954f3dad323c2f154856a3</td>\n",
              "      <td>The Jungle Book</td>\n",
              "      <td>1942</td>\n",
              "      <td>[Action, Adventure]</td>\n",
              "      <td>\\r\\nA boy raised by wild animals tries to adap...</td>\n",
              "      <td>[Zoltan Korda]</td>\n",
              "      <td>[Sabu, Joseph Calleia, John Qualen]</td>\n",
              "      <td>[Rudyard Kipling's two Jungle Book anthologies...</td>\n",
              "      <td>rudyard kipling wolves family the jungle book ...</td>\n",
              "      <td>https://prosona.b-cdn.net/Movies/Jungle%20Book...</td>\n",
              "      <td>https://prosona.b-cdn.net/Movies/Jungle%20Book...</td>\n",
              "      <td>https://prosona.b-cdn.net/Movies/Jungle%20Book...</td>\n",
              "      <td>https://prosona.b-cdn.net/Movies/Jungle%20Book...</td>\n",
              "      <td>https://prosona.b-cdn.net/Movies/Jungle%20Book...</td>\n",
              "      <td></td>\n",
              "      <td>0.0</td>\n",
              "    </tr>\n",
              "  </tbody>\n",
              "</table>\n",
              "</div>"
            ],
            "text/plain": [
              "                                 ID  ... Offset\n",
              "0  b70eec12b79148dfbc97ac3b69ca49bf  ...    0.0\n",
              "1  1950e4a11304438dbfd4792a908fc76f  ...    0.0\n",
              "2  37d8cae8d87f4dbc9cf8967454537afb  ...    0.0\n",
              "3  b99dd03c00cc4fb9b2d4ad26082de498  ...    0.0\n",
              "4  5566ce75b5954f3dad323c2f154856a3  ...    0.0\n",
              "\n",
              "[5 rows x 16 columns]"
            ]
          },
          "metadata": {
            "tags": []
          },
          "execution_count": 61
        }
      ]
    },
    {
      "cell_type": "markdown",
      "metadata": {
        "id": "QOuQtwFGPVSi"
      },
      "source": [
        "## Feature Selection"
      ]
    },
    {
      "cell_type": "code",
      "metadata": {
        "colab": {
          "base_uri": "https://localhost:8080/",
          "height": 204
        },
        "id": "Rqnv51qjPIMi",
        "outputId": "d7537f97-2c6f-4b90-8826-2d977c25e66a"
      },
      "source": [
        "rr = retro_raw_flatten[['ID','Title','Keywords']]\r\n",
        "rr.head()"
      ],
      "execution_count": 62,
      "outputs": [
        {
          "output_type": "execute_result",
          "data": {
            "text/html": [
              "<div>\n",
              "<style scoped>\n",
              "    .dataframe tbody tr th:only-of-type {\n",
              "        vertical-align: middle;\n",
              "    }\n",
              "\n",
              "    .dataframe tbody tr th {\n",
              "        vertical-align: top;\n",
              "    }\n",
              "\n",
              "    .dataframe thead th {\n",
              "        text-align: right;\n",
              "    }\n",
              "</style>\n",
              "<table border=\"1\" class=\"dataframe\">\n",
              "  <thead>\n",
              "    <tr style=\"text-align: right;\">\n",
              "      <th></th>\n",
              "      <th>ID</th>\n",
              "      <th>Title</th>\n",
              "      <th>Keywords</th>\n",
              "    </tr>\n",
              "  </thead>\n",
              "  <tbody>\n",
              "    <tr>\n",
              "      <th>0</th>\n",
              "      <td>b70eec12b79148dfbc97ac3b69ca49bf</td>\n",
              "      <td>Angel On My Shoulder</td>\n",
              "      <td>Devil Soul angel on my shoulder 1946 adventure...</td>\n",
              "    </tr>\n",
              "    <tr>\n",
              "      <th>1</th>\n",
              "      <td>1950e4a11304438dbfd4792a908fc76f</td>\n",
              "      <td>Flirting with Fate</td>\n",
              "      <td>hitman assasin killer escape flirting with fat...</td>\n",
              "    </tr>\n",
              "    <tr>\n",
              "      <th>2</th>\n",
              "      <td>37d8cae8d87f4dbc9cf8967454537afb</td>\n",
              "      <td>Detour</td>\n",
              "      <td>detour 1945 crime drama noir edgar g. ulmer to...</td>\n",
              "    </tr>\n",
              "    <tr>\n",
              "      <th>3</th>\n",
              "      <td>b99dd03c00cc4fb9b2d4ad26082de498</td>\n",
              "      <td>The Big Trees</td>\n",
              "      <td>activism sequoia the big trees 1952 action rom...</td>\n",
              "    </tr>\n",
              "    <tr>\n",
              "      <th>4</th>\n",
              "      <td>5566ce75b5954f3dad323c2f154856a3</td>\n",
              "      <td>The Jungle Book</td>\n",
              "      <td>rudyard kipling wolves family the jungle book ...</td>\n",
              "    </tr>\n",
              "  </tbody>\n",
              "</table>\n",
              "</div>"
            ],
            "text/plain": [
              "                                 ID  ...                                           Keywords\n",
              "0  b70eec12b79148dfbc97ac3b69ca49bf  ...  Devil Soul angel on my shoulder 1946 adventure...\n",
              "1  1950e4a11304438dbfd4792a908fc76f  ...  hitman assasin killer escape flirting with fat...\n",
              "2  37d8cae8d87f4dbc9cf8967454537afb  ...  detour 1945 crime drama noir edgar g. ulmer to...\n",
              "3  b99dd03c00cc4fb9b2d4ad26082de498  ...  activism sequoia the big trees 1952 action rom...\n",
              "4  5566ce75b5954f3dad323c2f154856a3  ...  rudyard kipling wolves family the jungle book ...\n",
              "\n",
              "[5 rows x 3 columns]"
            ]
          },
          "metadata": {
            "tags": []
          },
          "execution_count": 62
        }
      ]
    },
    {
      "cell_type": "markdown",
      "metadata": {
        "id": "x0lPaAa2PJaP"
      },
      "source": [
        "Formatting the Keywords since that is what we will be using to derive our model"
      ]
    },
    {
      "cell_type": "code",
      "metadata": {
        "colab": {
          "base_uri": "https://localhost:8080/",
          "height": 306
        },
        "id": "NvOsTXUtRK-x",
        "outputId": "cd0b0585-ca44-4520-c31e-a2fdc6bc6383"
      },
      "source": [
        "rr['Keywords'] = rr['Keywords'].str.lower()\r\n",
        "rr.head()"
      ],
      "execution_count": 63,
      "outputs": [
        {
          "output_type": "stream",
          "text": [
            "/usr/local/lib/python3.7/dist-packages/ipykernel_launcher.py:1: SettingWithCopyWarning: \n",
            "A value is trying to be set on a copy of a slice from a DataFrame.\n",
            "Try using .loc[row_indexer,col_indexer] = value instead\n",
            "\n",
            "See the caveats in the documentation: https://pandas.pydata.org/pandas-docs/stable/user_guide/indexing.html#returning-a-view-versus-a-copy\n",
            "  \"\"\"Entry point for launching an IPython kernel.\n"
          ],
          "name": "stderr"
        },
        {
          "output_type": "execute_result",
          "data": {
            "text/html": [
              "<div>\n",
              "<style scoped>\n",
              "    .dataframe tbody tr th:only-of-type {\n",
              "        vertical-align: middle;\n",
              "    }\n",
              "\n",
              "    .dataframe tbody tr th {\n",
              "        vertical-align: top;\n",
              "    }\n",
              "\n",
              "    .dataframe thead th {\n",
              "        text-align: right;\n",
              "    }\n",
              "</style>\n",
              "<table border=\"1\" class=\"dataframe\">\n",
              "  <thead>\n",
              "    <tr style=\"text-align: right;\">\n",
              "      <th></th>\n",
              "      <th>ID</th>\n",
              "      <th>Title</th>\n",
              "      <th>Keywords</th>\n",
              "    </tr>\n",
              "  </thead>\n",
              "  <tbody>\n",
              "    <tr>\n",
              "      <th>0</th>\n",
              "      <td>b70eec12b79148dfbc97ac3b69ca49bf</td>\n",
              "      <td>Angel On My Shoulder</td>\n",
              "      <td>devil soul angel on my shoulder 1946 adventure...</td>\n",
              "    </tr>\n",
              "    <tr>\n",
              "      <th>1</th>\n",
              "      <td>1950e4a11304438dbfd4792a908fc76f</td>\n",
              "      <td>Flirting with Fate</td>\n",
              "      <td>hitman assasin killer escape flirting with fat...</td>\n",
              "    </tr>\n",
              "    <tr>\n",
              "      <th>2</th>\n",
              "      <td>37d8cae8d87f4dbc9cf8967454537afb</td>\n",
              "      <td>Detour</td>\n",
              "      <td>detour 1945 crime drama noir edgar g. ulmer to...</td>\n",
              "    </tr>\n",
              "    <tr>\n",
              "      <th>3</th>\n",
              "      <td>b99dd03c00cc4fb9b2d4ad26082de498</td>\n",
              "      <td>The Big Trees</td>\n",
              "      <td>activism sequoia the big trees 1952 action rom...</td>\n",
              "    </tr>\n",
              "    <tr>\n",
              "      <th>4</th>\n",
              "      <td>5566ce75b5954f3dad323c2f154856a3</td>\n",
              "      <td>The Jungle Book</td>\n",
              "      <td>rudyard kipling wolves family the jungle book ...</td>\n",
              "    </tr>\n",
              "  </tbody>\n",
              "</table>\n",
              "</div>"
            ],
            "text/plain": [
              "                                 ID  ...                                           Keywords\n",
              "0  b70eec12b79148dfbc97ac3b69ca49bf  ...  devil soul angel on my shoulder 1946 adventure...\n",
              "1  1950e4a11304438dbfd4792a908fc76f  ...  hitman assasin killer escape flirting with fat...\n",
              "2  37d8cae8d87f4dbc9cf8967454537afb  ...  detour 1945 crime drama noir edgar g. ulmer to...\n",
              "3  b99dd03c00cc4fb9b2d4ad26082de498  ...  activism sequoia the big trees 1952 action rom...\n",
              "4  5566ce75b5954f3dad323c2f154856a3  ...  rudyard kipling wolves family the jungle book ...\n",
              "\n",
              "[5 rows x 3 columns]"
            ]
          },
          "metadata": {
            "tags": []
          },
          "execution_count": 63
        }
      ]
    },
    {
      "cell_type": "code",
      "metadata": {
        "colab": {
          "base_uri": "https://localhost:8080/"
        },
        "id": "ZPFyzSwqSabL",
        "outputId": "c7ce92ff-3dcc-4d61-dfdb-49d4977ab267"
      },
      "source": [
        "# instantiating and generating the count matrix\r\n",
        "count = CountVectorizer()\r\n",
        "count_matrix = count.fit_transform(rr['Keywords'])\r\n",
        "\r\n",
        "# creating a Series for the movie titles so they are associated to an ordered numerical\r\n",
        "# list I will use later to match the indexes\r\n",
        "indices = pd.Series(rr.Title)\r\n",
        "indices"
      ],
      "execution_count": 64,
      "outputs": [
        {
          "output_type": "execute_result",
          "data": {
            "text/plain": [
              "0                        Angel On My Shoulder\n",
              "1                          Flirting with Fate\n",
              "2                                      Detour\n",
              "3                               The Big Trees\n",
              "4                             The Jungle Book\n",
              "5                              The Lost World\n",
              "6                                    Suddenly\n",
              "7                        Bloody Pit Of Horror\n",
              "8                  Charlie Chaplin's The Rink\n",
              "9                                Texas Terror\n",
              "10                              The Iron Mask\n",
              "11                               Barefoot Boy\n",
              "12                                 Borderline\n",
              "13             Charlie Chaplin's The Vagabond\n",
              "14                            Galloping Romeo\n",
              "15                            His Girl Friday\n",
              "16                            The Star Packer\n",
              "17                             Scarlet Street\n",
              "18    Charlie Chaplin's A Burlesque On Carmen\n",
              "19             Charlie Chaplin's The Pawnshop\n",
              "20                                    Manfish\n",
              "21                          Carnival of Souls\n",
              "22                   The Snows Of Kilimanjaro\n",
              "23                                     Millie\n",
              "24                             My Man Godfrey\n",
              "25                         Million Dollar Kid\n",
              "26                                 The Outlaw\n",
              "27                     She Gods Of Shark Reef\n",
              "28                    Plan 9 From Outer Space\n",
              "29                             A Star Is Born\n",
              "30                   Night Of The Living Dead\n",
              "31                             Penny Serenade\n",
              "32                The Brain That Wouldn't Die\n",
              "33                          Call Of The Yukon\n",
              "34                          A Christmas Carol\n",
              "35                              Ambush Valley\n",
              "36                         A Stranger In Town\n",
              "37                              The Big Combo\n",
              "38          Charlie Chaplin's A Fair Exchange\n",
              "39                              Danger Flight\n",
              "40                               The Big Show\n",
              "41                          A Bucket Of Blood\n",
              "42                      House On Haunted Hill\n",
              "43                 Teenagers from Outer Space\n",
              "44                                  The Ghoul\n",
              "45                      The Light In The Dark\n",
              "46                           Life With Father\n",
              "47             Charlie Chaplin's The Knockout\n",
              "48                        Made For Each Other\n",
              "Name: Title, dtype: object"
            ]
          },
          "metadata": {
            "tags": []
          },
          "execution_count": 64
        }
      ]
    },
    {
      "cell_type": "code",
      "metadata": {
        "colab": {
          "base_uri": "https://localhost:8080/"
        },
        "id": "mEKx3QzTTi1L",
        "outputId": "2bcb11f8-e04b-4918-a6d2-ee62a07d1ab6"
      },
      "source": [
        "# generating the cosine similarity matrix\r\n",
        "cosine_sim = cosine_similarity(count_matrix, count_matrix)\r\n",
        "cosine_sim"
      ],
      "execution_count": 65,
      "outputs": [
        {
          "output_type": "execute_result",
          "data": {
            "text/plain": [
              "array([[1.        , 0.11111111, 0.        , ..., 0.06085806, 0.05407381,\n",
              "        0.05555556],\n",
              "       [0.11111111, 1.        , 0.        , ..., 0.12171612, 0.05407381,\n",
              "        0.05555556],\n",
              "       [0.        , 0.        , 1.        , ..., 0.        , 0.06362848,\n",
              "        0.06537205],\n",
              "       ...,\n",
              "       [0.06085806, 0.12171612, 0.        , ..., 1.        , 0.05923489,\n",
              "        0.06085806],\n",
              "       [0.05407381, 0.05407381, 0.06362848, ..., 0.05923489, 1.        ,\n",
              "        0.10814761],\n",
              "       [0.05555556, 0.05555556, 0.06537205, ..., 0.06085806, 0.10814761,\n",
              "        1.        ]])"
            ]
          },
          "metadata": {
            "tags": []
          },
          "execution_count": 65
        }
      ]
    },
    {
      "cell_type": "code",
      "metadata": {
        "id": "vznp0qWeTlGE"
      },
      "source": [
        "# function that takes in movie title as input and returns the top 10 recommended movies\r\n",
        "def recommendations(title, cosine_sim = cosine_sim):\r\n",
        "   \r\n",
        "    recommended_movies = []\r\n",
        "    \r\n",
        "    # getting the index of the movie that matches the title\r\n",
        "    idx = indices[indices == title].index[0]\r\n",
        "\r\n",
        "    # creating a Series with the similarity scores in descending order\r\n",
        "    score_series = pd.Series(cosine_sim[idx]).sort_values(ascending = False)\r\n",
        "\r\n",
        "    # getting the indexes of the 10 most similar movies\r\n",
        "    top_10_indexes = list(score_series.iloc[1:11].index)\r\n",
        "    \r\n",
        "    # populating the list with the titles of the best 10 matching movies\r\n",
        "    for i in top_10_indexes:\r\n",
        "        recommended_movies.append(list(retro_raw_flatten.Title)[i])\r\n",
        "        #recommended_movies.append(list(rr.Title)[i])       \r\n",
        "      \r\n",
        "    return recommended_movies"
      ],
      "execution_count": 66,
      "outputs": []
    },
    {
      "cell_type": "code",
      "metadata": {
        "colab": {
          "base_uri": "https://localhost:8080/"
        },
        "id": "jlhj0XBcT1NJ",
        "outputId": "e9d536ed-45a4-46d9-e686-e73ec41fa16a"
      },
      "source": [
        "recommendations('Angel On My Shoulder')"
      ],
      "execution_count": 67,
      "outputs": [
        {
          "output_type": "execute_result",
          "data": {
            "text/plain": [
              "['My Man Godfrey',\n",
              " 'Flirting with Fate',\n",
              " \"Charlie Chaplin's A Burlesque On Carmen\",\n",
              " 'Texas Terror',\n",
              " 'Million Dollar Kid',\n",
              " 'Life With Father',\n",
              " 'Barefoot Boy',\n",
              " 'Galloping Romeo',\n",
              " 'Manfish',\n",
              " 'The Outlaw']"
            ]
          },
          "metadata": {
            "tags": []
          },
          "execution_count": 67
        }
      ]
    },
    {
      "cell_type": "markdown",
      "metadata": {
        "id": "aiMTdg-zlxe5"
      },
      "source": [
        "\r\n",
        "\r\n",
        "---\r\n",
        "\r\n"
      ]
    },
    {
      "cell_type": "markdown",
      "metadata": {
        "id": "Vam5fm9RlaCB"
      },
      "source": [
        "## What if we used the Title of the Movie instead?"
      ]
    },
    {
      "cell_type": "code",
      "metadata": {
        "colab": {
          "base_uri": "https://localhost:8080/"
        },
        "id": "n-6PsSEAj1Mp",
        "outputId": "0f326fc1-fb76-4063-9255-b4b840d3bc9a"
      },
      "source": [
        "# instantiating and generating the count matrix\r\n",
        "count1 = CountVectorizer()\r\n",
        "count_matrix1 = count1.fit_transform(rr['Title'])\r\n",
        "\r\n",
        "# creating a Series for the movie titles so they are associated to an ordered numerical\r\n",
        "# list I will use later to match the indexes\r\n",
        "indices1 = pd.Series(rr.Title)\r\n",
        "indices1"
      ],
      "execution_count": 68,
      "outputs": [
        {
          "output_type": "execute_result",
          "data": {
            "text/plain": [
              "0                        Angel On My Shoulder\n",
              "1                          Flirting with Fate\n",
              "2                                      Detour\n",
              "3                               The Big Trees\n",
              "4                             The Jungle Book\n",
              "5                              The Lost World\n",
              "6                                    Suddenly\n",
              "7                        Bloody Pit Of Horror\n",
              "8                  Charlie Chaplin's The Rink\n",
              "9                                Texas Terror\n",
              "10                              The Iron Mask\n",
              "11                               Barefoot Boy\n",
              "12                                 Borderline\n",
              "13             Charlie Chaplin's The Vagabond\n",
              "14                            Galloping Romeo\n",
              "15                            His Girl Friday\n",
              "16                            The Star Packer\n",
              "17                             Scarlet Street\n",
              "18    Charlie Chaplin's A Burlesque On Carmen\n",
              "19             Charlie Chaplin's The Pawnshop\n",
              "20                                    Manfish\n",
              "21                          Carnival of Souls\n",
              "22                   The Snows Of Kilimanjaro\n",
              "23                                     Millie\n",
              "24                             My Man Godfrey\n",
              "25                         Million Dollar Kid\n",
              "26                                 The Outlaw\n",
              "27                     She Gods Of Shark Reef\n",
              "28                    Plan 9 From Outer Space\n",
              "29                             A Star Is Born\n",
              "30                   Night Of The Living Dead\n",
              "31                             Penny Serenade\n",
              "32                The Brain That Wouldn't Die\n",
              "33                          Call Of The Yukon\n",
              "34                          A Christmas Carol\n",
              "35                              Ambush Valley\n",
              "36                         A Stranger In Town\n",
              "37                              The Big Combo\n",
              "38          Charlie Chaplin's A Fair Exchange\n",
              "39                              Danger Flight\n",
              "40                               The Big Show\n",
              "41                          A Bucket Of Blood\n",
              "42                      House On Haunted Hill\n",
              "43                 Teenagers from Outer Space\n",
              "44                                  The Ghoul\n",
              "45                      The Light In The Dark\n",
              "46                           Life With Father\n",
              "47             Charlie Chaplin's The Knockout\n",
              "48                        Made For Each Other\n",
              "Name: Title, dtype: object"
            ]
          },
          "metadata": {
            "tags": []
          },
          "execution_count": 68
        }
      ]
    },
    {
      "cell_type": "code",
      "metadata": {
        "colab": {
          "base_uri": "https://localhost:8080/"
        },
        "id": "E0DdSEcpj1Ms",
        "outputId": "d4d5a95a-a908-4fbc-ac23-743ffed16bc0"
      },
      "source": [
        "# generating the cosine similarity matrix\r\n",
        "cosine_sim1 = cosine_similarity(count_matrix1, count_matrix1)\r\n",
        "cosine_sim1"
      ],
      "execution_count": 69,
      "outputs": [
        {
          "output_type": "execute_result",
          "data": {
            "text/plain": [
              "array([[1.        , 0.        , 0.        , ..., 0.        , 0.        ,\n",
              "        0.        ],\n",
              "       [0.        , 1.        , 0.        , ..., 0.33333333, 0.        ,\n",
              "        0.        ],\n",
              "       [0.        , 0.        , 1.        , ..., 0.        , 0.        ,\n",
              "        0.        ],\n",
              "       ...,\n",
              "       [0.        , 0.33333333, 0.        , ..., 1.        , 0.        ,\n",
              "        0.        ],\n",
              "       [0.        , 0.        , 0.        , ..., 0.        , 1.        ,\n",
              "        0.        ],\n",
              "       [0.        , 0.        , 0.        , ..., 0.        , 0.        ,\n",
              "        1.        ]])"
            ]
          },
          "metadata": {
            "tags": []
          },
          "execution_count": 69
        }
      ]
    },
    {
      "cell_type": "code",
      "metadata": {
        "id": "gnT51R26j1Mt"
      },
      "source": [
        "# function that takes in movie title as input and returns the top 10 recommended movies\r\n",
        "def recommendations1(title, cosine_sim1 = cosine_sim1):\r\n",
        "   \r\n",
        "    recommended_movies1 = []\r\n",
        "    \r\n",
        "    # gettin the index of the movie that matches the title\r\n",
        "    idx1 = indices1[indices1 == title].index[0]\r\n",
        "\r\n",
        "    # creating a Series with the similarity scores in descending order\r\n",
        "    score_series1 = pd.Series(cosine_sim1[idx1]).sort_values(ascending = False)\r\n",
        "\r\n",
        "    # getting the indexes of the 10 most similar movies\r\n",
        "    top_5_indexes1 = list(score_series1.iloc[1:6].index)\r\n",
        "    \r\n",
        "    # populating the list with the titles of the best 10 matching movies\r\n",
        "    for i in top_5_indexes1:\r\n",
        "        recommended_movies1.append(list(retro_raw_flatten.Title)[i])\r\n",
        "        \r\n",
        "    return recommended_movies1"
      ],
      "execution_count": 70,
      "outputs": []
    },
    {
      "cell_type": "code",
      "metadata": {
        "colab": {
          "base_uri": "https://localhost:8080/"
        },
        "id": "fItCQTDmj1Mt",
        "outputId": "ace393f2-f8a9-4684-b9c0-cdc90290568a"
      },
      "source": [
        "recommendations1(\"Charlie Chaplin's The Rink\")"
      ],
      "execution_count": 71,
      "outputs": [
        {
          "output_type": "execute_result",
          "data": {
            "text/plain": [
              "[\"Charlie Chaplin's The Pawnshop\",\n",
              " \"Charlie Chaplin's The Vagabond\",\n",
              " \"Charlie Chaplin's The Knockout\",\n",
              " \"Charlie Chaplin's A Fair Exchange\",\n",
              " \"Charlie Chaplin's A Burlesque On Carmen\"]"
            ]
          },
          "metadata": {
            "tags": []
          },
          "execution_count": 71
        }
      ]
    },
    {
      "cell_type": "markdown",
      "metadata": {
        "id": "AB95MeAtt4Ln"
      },
      "source": [
        "# Combining both the approaches.\r\n",
        "Also adding NLP to increase accuracy."
      ]
    },
    {
      "cell_type": "code",
      "metadata": {
        "id": "bc0f-CpMt3tP"
      },
      "source": [
        ""
      ],
      "execution_count": 71,
      "outputs": []
    }
  ]
}