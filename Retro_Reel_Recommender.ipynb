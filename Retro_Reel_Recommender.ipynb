{
  "nbformat": 4,
  "nbformat_minor": 0,
  "metadata": {
    "colab": {
      "name": "Retro-Reel-Recommender.ipynb",
      "provenance": [],
      "collapsed_sections": [],
      "authorship_tag": "ABX9TyPRracXJ8JhGyE0DblQdCE7",
      "include_colab_link": true
    },
    "kernelspec": {
      "name": "python3",
      "display_name": "Python 3"
    }
  },
  "cells": [
    {
      "cell_type": "markdown",
      "metadata": {
        "id": "view-in-github",
        "colab_type": "text"
      },
      "source": [
        "<a href=\"https://colab.research.google.com/github/Thomas-George-T/Retro-Reel-Recommender/blob/main/Retro_Reel_Recommender.ipynb\" target=\"_parent\"><img src=\"https://colab.research.google.com/assets/colab-badge.svg\" alt=\"Open In Colab\"/></a>"
      ]
    },
    {
      "cell_type": "markdown",
      "metadata": {
        "id": "h8D6Z2-3WloV"
      },
      "source": [
        "# Retrol Reel Recommender"
      ]
    },
    {
      "cell_type": "markdown",
      "metadata": {
        "id": "frQ2ccF2W2xX"
      },
      "source": [
        "## Data Acquisition"
      ]
    },
    {
      "cell_type": "code",
      "metadata": {
        "id": "UrlKeMAkJX7Z"
      },
      "source": [
        "import pandas as pd"
      ],
      "execution_count": null,
      "outputs": []
    },
    {
      "cell_type": "code",
      "metadata": {
        "colab": {
          "base_uri": "https://localhost:8080/"
        },
        "id": "uRTxs_YxXBVx",
        "outputId": "a42cd9b2-fef8-4a8b-9149-da3f7e8b7f58"
      },
      "source": [
        "!wget -q -O 'retro.json' https://prosona.b-cdn.net/Movies/catalog-v2.txt\r\n",
        "print(\"Data Downloaded!\")"
      ],
      "execution_count": null,
      "outputs": [
        {
          "output_type": "stream",
          "text": [
            "Data Downloaded!\n"
          ],
          "name": "stdout"
        }
      ]
    },
    {
      "cell_type": "code",
      "metadata": {
        "colab": {
          "base_uri": "https://localhost:8080/",
          "height": 204
        },
        "id": "U_Pyhaz3XPnr",
        "outputId": "e5771622-a827-49ed-be58-3ec3784f489d"
      },
      "source": [
        "retro_raw = pd.read_json('retro.json')\r\n",
        "retro_raw.head()"
      ],
      "execution_count": null,
      "outputs": [
        {
          "output_type": "execute_result",
          "data": {
            "text/html": [
              "<div>\n",
              "<style scoped>\n",
              "    .dataframe tbody tr th:only-of-type {\n",
              "        vertical-align: middle;\n",
              "    }\n",
              "\n",
              "    .dataframe tbody tr th {\n",
              "        vertical-align: top;\n",
              "    }\n",
              "\n",
              "    .dataframe thead th {\n",
              "        text-align: right;\n",
              "    }\n",
              "</style>\n",
              "<table border=\"1\" class=\"dataframe\">\n",
              "  <thead>\n",
              "    <tr style=\"text-align: right;\">\n",
              "      <th></th>\n",
              "      <th>Movies</th>\n",
              "    </tr>\n",
              "  </thead>\n",
              "  <tbody>\n",
              "    <tr>\n",
              "      <th>0</th>\n",
              "      <td>{'ID': 'b70eec12b79148dfbc97ac3b69ca49bf', 'Ti...</td>\n",
              "    </tr>\n",
              "    <tr>\n",
              "      <th>1</th>\n",
              "      <td>{'ID': '1950e4a11304438dbfd4792a908fc76f', 'Ti...</td>\n",
              "    </tr>\n",
              "    <tr>\n",
              "      <th>2</th>\n",
              "      <td>{'ID': '37d8cae8d87f4dbc9cf8967454537afb', 'Ti...</td>\n",
              "    </tr>\n",
              "    <tr>\n",
              "      <th>3</th>\n",
              "      <td>{'ID': 'b99dd03c00cc4fb9b2d4ad26082de498', 'Ti...</td>\n",
              "    </tr>\n",
              "    <tr>\n",
              "      <th>4</th>\n",
              "      <td>{'ID': '5566ce75b5954f3dad323c2f154856a3', 'Ti...</td>\n",
              "    </tr>\n",
              "  </tbody>\n",
              "</table>\n",
              "</div>"
            ],
            "text/plain": [
              "                                              Movies\n",
              "0  {'ID': 'b70eec12b79148dfbc97ac3b69ca49bf', 'Ti...\n",
              "1  {'ID': '1950e4a11304438dbfd4792a908fc76f', 'Ti...\n",
              "2  {'ID': '37d8cae8d87f4dbc9cf8967454537afb', 'Ti...\n",
              "3  {'ID': 'b99dd03c00cc4fb9b2d4ad26082de498', 'Ti...\n",
              "4  {'ID': '5566ce75b5954f3dad323c2f154856a3', 'Ti..."
            ]
          },
          "metadata": {
            "tags": []
          },
          "execution_count": 49
        }
      ]
    },
    {
      "cell_type": "markdown",
      "metadata": {
        "id": "aFYCfKvlXpZS"
      },
      "source": [
        "## Data Preprocessing"
      ]
    },
    {
      "cell_type": "code",
      "metadata": {
        "colab": {
          "base_uri": "https://localhost:8080/",
          "height": 615
        },
        "id": "kafF3mRJXgh3",
        "outputId": "45330ee4-bce3-4e92-f9fc-a44c317609f1"
      },
      "source": [
        "retro_raw_flatten = pd.json_normalize(retro_raw['Movies'])\r\n",
        "retro_raw_flatten.head()"
      ],
      "execution_count": null,
      "outputs": [
        {
          "output_type": "execute_result",
          "data": {
            "text/html": [
              "<div>\n",
              "<style scoped>\n",
              "    .dataframe tbody tr th:only-of-type {\n",
              "        vertical-align: middle;\n",
              "    }\n",
              "\n",
              "    .dataframe tbody tr th {\n",
              "        vertical-align: top;\n",
              "    }\n",
              "\n",
              "    .dataframe thead th {\n",
              "        text-align: right;\n",
              "    }\n",
              "</style>\n",
              "<table border=\"1\" class=\"dataframe\">\n",
              "  <thead>\n",
              "    <tr style=\"text-align: right;\">\n",
              "      <th></th>\n",
              "      <th>ID</th>\n",
              "      <th>Title</th>\n",
              "      <th>ReleaseYear</th>\n",
              "      <th>Genres</th>\n",
              "      <th>Synopsis</th>\n",
              "      <th>Directors</th>\n",
              "      <th>Cast</th>\n",
              "      <th>Trivia</th>\n",
              "      <th>Keywords</th>\n",
              "      <th>TrailerLink</th>\n",
              "      <th>MovieLink</th>\n",
              "      <th>HorizontalPosterLink</th>\n",
              "      <th>VerticalPosterLink</th>\n",
              "      <th>SnapshotLink</th>\n",
              "      <th>SubtitlesLink</th>\n",
              "      <th>Offset</th>\n",
              "    </tr>\n",
              "  </thead>\n",
              "  <tbody>\n",
              "    <tr>\n",
              "      <th>0</th>\n",
              "      <td>b70eec12b79148dfbc97ac3b69ca49bf</td>\n",
              "      <td>Angel On My Shoulder</td>\n",
              "      <td>1946</td>\n",
              "      <td>[Adventure, Comedy, Fantasy]</td>\n",
              "      <td>The Devil arranges for a deceased gangster to ...</td>\n",
              "      <td>[Archie Mayo]</td>\n",
              "      <td>[Paul Muni, Anne Baxter, Claude Rains]</td>\n",
              "      <td>[Director Archie Mayo clashed repeatedly with ...</td>\n",
              "      <td>Devil Soul angel on my shoulder 1946 adventure...</td>\n",
              "      <td>https://prosona.b-cdn.net/Movies/Angel%20On%20...</td>\n",
              "      <td>https://prosona.b-cdn.net/Movies/Angel%20On%20...</td>\n",
              "      <td>https://prosona.b-cdn.net/Movies/Angel%20On%20...</td>\n",
              "      <td>https://prosona.b-cdn.net/Movies/Angel%20On%20...</td>\n",
              "      <td>https://prosona.b-cdn.net/Movies/Angel%20On%20...</td>\n",
              "      <td></td>\n",
              "      <td>0.0</td>\n",
              "    </tr>\n",
              "    <tr>\n",
              "      <th>1</th>\n",
              "      <td>1950e4a11304438dbfd4792a908fc76f</td>\n",
              "      <td>Flirting with Fate</td>\n",
              "      <td>1916</td>\n",
              "      <td>[Adventure, Comedy]</td>\n",
              "      <td>In the midst of an emotional depression, a man...</td>\n",
              "      <td>[Christy Cabanne]</td>\n",
              "      <td>[Douglas Fairbanks, Jewel Carmen, Howard Gaye]</td>\n",
              "      <td>[]</td>\n",
              "      <td>hitman assasin killer escape flirting with fat...</td>\n",
              "      <td>https://prosona.b-cdn.net/Movies/Flirting%20Wi...</td>\n",
              "      <td>https://prosona.b-cdn.net/Movies/Flirting%20Wi...</td>\n",
              "      <td>https://prosona.b-cdn.net/Movies/Flirting%20Wi...</td>\n",
              "      <td>https://prosona.b-cdn.net/Movies/Flirting%20Wi...</td>\n",
              "      <td>https://prosona.b-cdn.net/Movies/Flirting%20Wi...</td>\n",
              "      <td></td>\n",
              "      <td>0.0</td>\n",
              "    </tr>\n",
              "    <tr>\n",
              "      <th>2</th>\n",
              "      <td>37d8cae8d87f4dbc9cf8967454537afb</td>\n",
              "      <td>Detour</td>\n",
              "      <td>1945</td>\n",
              "      <td>[Crime, Drama, Noir]</td>\n",
              "      <td>Chance events trap hitch-hiker Al Roberts in a...</td>\n",
              "      <td>[Edgar G. Ulmer]</td>\n",
              "      <td>[Tom Neal, Ann Savage, Claudia Drake]</td>\n",
              "      <td>[The budget PRC gave director Edgar G. Ulmer f...</td>\n",
              "      <td>detour 1945 crime drama noir edgar g. ulmer to...</td>\n",
              "      <td>https://prosona.b-cdn.net/Movies/Detour%20-%20...</td>\n",
              "      <td>https://prosona.b-cdn.net/Movies/Detour%20-%20...</td>\n",
              "      <td>https://prosona.b-cdn.net/Movies/Detour%20-%20...</td>\n",
              "      <td>https://prosona.b-cdn.net/Movies/Detour%20-%20...</td>\n",
              "      <td>https://prosona.b-cdn.net/Movies/Detour%20-%20...</td>\n",
              "      <td>https://prosona.b-cdn.net/Movies/Detour%20-%20...</td>\n",
              "      <td>0.0</td>\n",
              "    </tr>\n",
              "    <tr>\n",
              "      <th>3</th>\n",
              "      <td>b99dd03c00cc4fb9b2d4ad26082de498</td>\n",
              "      <td>The Big Trees</td>\n",
              "      <td>1952</td>\n",
              "      <td>[Action, Romance, Western]</td>\n",
              "      <td>A Quaker colony tries to save the giant sequoi...</td>\n",
              "      <td>[Felix E. Feist]</td>\n",
              "      <td>[Kirk Douglas, Eve Miller, Patrice Wymore]</td>\n",
              "      <td>[According to Kirk Douglas in his autobiograph...</td>\n",
              "      <td>activism sequoia the big trees 1952 action rom...</td>\n",
              "      <td>https://prosona.b-cdn.net/Movies/The%20Big%20T...</td>\n",
              "      <td>https://prosona.b-cdn.net/Movies/The%20Big%20T...</td>\n",
              "      <td>https://prosona.b-cdn.net/Movies/The%20Big%20T...</td>\n",
              "      <td>https://prosona.b-cdn.net/Movies/The%20Big%20T...</td>\n",
              "      <td>https://prosona.b-cdn.net/Movies/The%20Big%20T...</td>\n",
              "      <td></td>\n",
              "      <td>0.0</td>\n",
              "    </tr>\n",
              "    <tr>\n",
              "      <th>4</th>\n",
              "      <td>5566ce75b5954f3dad323c2f154856a3</td>\n",
              "      <td>The Jungle Book</td>\n",
              "      <td>1942</td>\n",
              "      <td>[Action, Adventure]</td>\n",
              "      <td>\\r\\nA boy raised by wild animals tries to adap...</td>\n",
              "      <td>[Zoltan Korda]</td>\n",
              "      <td>[Sabu, Joseph Calleia, John Qualen]</td>\n",
              "      <td>[Rudyard Kipling's two Jungle Book anthologies...</td>\n",
              "      <td>rudyard kipling wolves family the jungle book ...</td>\n",
              "      <td>https://prosona.b-cdn.net/Movies/Jungle%20Book...</td>\n",
              "      <td>https://prosona.b-cdn.net/Movies/Jungle%20Book...</td>\n",
              "      <td>https://prosona.b-cdn.net/Movies/Jungle%20Book...</td>\n",
              "      <td>https://prosona.b-cdn.net/Movies/Jungle%20Book...</td>\n",
              "      <td>https://prosona.b-cdn.net/Movies/Jungle%20Book...</td>\n",
              "      <td></td>\n",
              "      <td>0.0</td>\n",
              "    </tr>\n",
              "  </tbody>\n",
              "</table>\n",
              "</div>"
            ],
            "text/plain": [
              "                                 ID  ... Offset\n",
              "0  b70eec12b79148dfbc97ac3b69ca49bf  ...    0.0\n",
              "1  1950e4a11304438dbfd4792a908fc76f  ...    0.0\n",
              "2  37d8cae8d87f4dbc9cf8967454537afb  ...    0.0\n",
              "3  b99dd03c00cc4fb9b2d4ad26082de498  ...    0.0\n",
              "4  5566ce75b5954f3dad323c2f154856a3  ...    0.0\n",
              "\n",
              "[5 rows x 16 columns]"
            ]
          },
          "metadata": {
            "tags": []
          },
          "execution_count": 59
        }
      ]
    },
    {
      "cell_type": "code",
      "metadata": {
        "colab": {
          "base_uri": "https://localhost:8080/",
          "height": 129
        },
        "id": "7CwC6MtemWFw",
        "outputId": "328f45e7-4287-49bc-b51f-7a074acd1f95"
      },
      "source": [
        "genres = retro_raw_flatten['Genres']\r\n",
        "genres."
      ],
      "execution_count": null,
      "outputs": [
        {
          "output_type": "error",
          "ename": "SyntaxError",
          "evalue": "ignored",
          "traceback": [
            "\u001b[0;36m  File \u001b[0;32m\"<ipython-input-66-4a16e976f798>\"\u001b[0;36m, line \u001b[0;32m2\u001b[0m\n\u001b[0;31m    genres.\u001b[0m\n\u001b[0m           ^\u001b[0m\n\u001b[0;31mSyntaxError\u001b[0m\u001b[0;31m:\u001b[0m invalid syntax\n"
          ]
        }
      ]
    }
  ]
}